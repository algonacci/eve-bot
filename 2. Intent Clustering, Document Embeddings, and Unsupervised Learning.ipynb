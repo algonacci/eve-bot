{
 "cells": [
  {
   "cell_type": "markdown",
   "metadata": {},
   "source": [
    "# Intent Clustering, Document Embeddings, and Unsupervised Learning"
   ]
  },
  {
   "cell_type": "markdown",
   "metadata": {},
   "source": [
    "In this notebook, I take the preprocessed and tokenized data in the previous notebook and try to assign labels for each Tweet in the dataset by using meaningful document embedding methods (so my models can read the data) and unsupervised learning methods such as K-Means, DBScan, and LDA."
   ]
  },
  {
   "cell_type": "code",
   "execution_count": 86,
   "metadata": {},
   "outputs": [
    {
     "name": "stdout",
     "output_type": "stream",
     "text": [
      "Pandas: 1.0.5\n",
      "Numpy: 1.18.5\n",
      "gensim: 3.8.0\n"
     ]
    },
    {
     "name": "stderr",
     "output_type": "stream",
     "text": [
      "/opt/anaconda3/envs/chatbot/lib/python3.7/site-packages/ipykernel_launcher.py:44: TqdmDeprecationWarning: This function will be removed in tqdm==5.0.0\n",
      "Please use `tqdm.notebook.tqdm` instead of `tqdm.tqdm_notebook`\n"
     ]
    },
    {
     "data": {
      "application/vnd.jupyter.widget-view+json": {
       "model_id": "384f57bd746040868b2fbbbc19dacc1b",
       "version_major": 2,
       "version_minor": 0
      },
      "text/plain": [
       "HBox(children=(FloatProgress(value=1.0, bar_style='info', max=1.0), HTML(value='')))"
      ]
     },
     "metadata": {},
     "output_type": "display_data"
    },
    {
     "name": "stderr",
     "output_type": "stream",
     "text": [
      "/opt/anaconda3/envs/chatbot/lib/python3.7/site-packages/tqdm/std.py:668: FutureWarning: The Panel class is removed from pandas. Accessing it from the top-level namespace will also be removed in the next version\n",
      "  from pandas import Panel\n"
     ]
    }
   ],
   "source": [
    "# We need more packages!\n",
    "# Data science\n",
    "import pandas as pd\n",
    "print(f\"Pandas: {pd.__version__}\")\n",
    "import numpy as np\n",
    "print(f\"Numpy: {np.__version__}\")\n",
    "\n",
    "# Unsupervised Learning\n",
    "from sklearn.preprocessing import StandardScaler\n",
    "from sklearn.pipeline import Pipeline\n",
    "from sklearn.model_selection import GridSearchCV\n",
    "from zeugma.embeddings import EmbeddingTransformer\n",
    "from sklearn.metrics.pairwise import cosine_similarity\n",
    "from sklearn.cluster import KMeans\n",
    "from sklearn.model_selection import cross_val_score\n",
    "from sklearn.decomposition import LatentDirichletAllocation\n",
    "from sklearn.datasets import make_multilabel_classification\n",
    "from sklearn.metrics import silhouette_score, silhouette_samples\n",
    "\n",
    "# Visualization \n",
    "import seaborn as sns\n",
    "import matplotlib.pyplot as plt\n",
    "sns.set(style=\"ticks\", color_codes=True)\n",
    "\n",
    "# Word Embeddings\n",
    "from sklearn.feature_extraction.text import CountVectorizer\n",
    "from sklearn.feature_extraction.text import TfidfVectorizer\n",
    "import gensim\n",
    "print(f'gensim: {gensim.__version__}')\n",
    "\n",
    "# Doc2Vec\n",
    "from nltk.tokenize import word_tokenize \n",
    "from gensim.test.utils import common_texts\n",
    "from gensim.models.doc2vec import Doc2Vec, TaggedDocument\n",
    "from gensim.test.utils import get_tmpfile\n",
    "\n",
    "# Storing as objects via serialization\n",
    "from tempfile import mkdtemp\n",
    "import pickle\n",
    "import joblib\n",
    "\n",
    "# Cool progress bars\n",
    "from tqdm import tqdm_notebook as tqdm\n",
    "tqdm().pandas()  # Enable tracking of execution progress"
   ]
  },
  {
   "cell_type": "markdown",
   "metadata": {},
   "source": [
    "## Previewing the current data we are working with"
   ]
  },
  {
   "cell_type": "code",
   "execution_count": 11,
   "metadata": {},
   "outputs": [
    {
     "name": "stdout",
     "output_type": "stream",
     "text": [
      "labels_grand.pkl      wcss-kmeans.pkl\r\n",
      "processed_inbound.pkl wcss_grand.pkl\r\n"
     ]
    }
   ],
   "source": [
    "!ls objects"
   ]
  },
  {
   "cell_type": "code",
   "execution_count": 12,
   "metadata": {},
   "outputs": [
    {
     "name": "stdout",
     "output_type": "stream",
     "text": [
      "\n"
     ]
    }
   ],
   "source": [
    "# Loading in the already saved processed dataset\n",
    "processed_inbound = pd.read_pickle('objects/processed_inbound.pkl')"
   ]
  },
  {
   "cell_type": "code",
   "execution_count": 13,
   "metadata": {},
   "outputs": [
    {
     "data": {
      "text/plain": [
       "0     [new, update, ️, make, sure, download, yesterday]\n",
       "2         [try, reset, setting, .., restart, phone, ..]\n",
       "6     [hey, anyone, else, upgraded, io, 11.1, issue,...\n",
       "10               [hello, line, close, tonight, #, help]\n",
       "12    [hello, internet, someone, explain, symbol, ke...\n",
       "Name: inbound_text, dtype: object"
      ]
     },
     "execution_count": 13,
     "metadata": {},
     "output_type": "execute_result"
    }
   ],
   "source": [
    "# We start with this data, here's the preview\n",
    "processed_inbound.head()"
   ]
  },
  {
   "cell_type": "markdown",
   "metadata": {},
   "source": [
    "Here I scale and transform my data. Algorithms such as K-Means is distance based, so it's still relevant to scale."
   ]
  },
  {
   "cell_type": "markdown",
   "metadata": {},
   "source": [
    "# Embedding and Vectorizing in a Meaningful Way\n",
    "\n",
    "It is incredibly important to be able to represent this text data as in a meaningful way as to have similar Tweets have closer distances than different Tweets that have different intents. However, since I am working with sequences, I could not just embed their individual words because that will result in a different dimensionality for every single Tweet, and this is something that unsupervised learning algorithms do not know how to handle.\n",
    "\n",
    "Some of these document embedding methods are:\n",
    "* BERT\n",
    "* FastText\n",
    "* Doc2Vec\n",
    "* Word2Vec (NN architecture)\n",
    "* Skipthought\n",
    "* gloVe (word embedding)\n",
    "\n",
    "With these, you'll get some kind of file with those words and you'll basically generate this word-to-word embedding matrix and you pass it in as the weights layer in your Neural Network..\n",
    "\n",
    "Someone has run this on a massive data and released the embeddings the model learned on the internet. They different contexts with learning. It might have been trained with the words from like academic papers, and the meaning of the word it learns is might be different than general twitter data, which is why I explore many methods and try to find what they are trained on.\n",
    "\n",
    "Gensim, which is one of the package I use, constrains pretrained word embeddings  and  have a special data format where you can basically load it in as a numpy array."
   ]
  },
  {
   "cell_type": "markdown",
   "metadata": {},
   "source": [
    "### 1. Count Vectorization"
   ]
  },
  {
   "cell_type": "markdown",
   "metadata": {},
   "source": [
    "The easiest way to represent a document as a vector is with a bagofwords CountVectorizer. This will turn each document to be a 1D array, which I think is a good starting point for putting into my clustering algorithms. Let's see how it does. \n",
    "\n",
    "The count vectorizer only accepts the Series if the document is represented as a String, not a tokenized list. So I do that change here:"
   ]
  },
  {
   "cell_type": "code",
   "execution_count": 22,
   "metadata": {},
   "outputs": [
    {
     "data": {
      "application/vnd.jupyter.widget-view+json": {
       "model_id": "21dc3c39288949ccb212986e5adc5ac8",
       "version_major": 2,
       "version_minor": 0
      },
      "text/plain": [
       "HBox(children=(FloatProgress(value=0.0, max=78592.0), HTML(value='')))"
      ]
     },
     "metadata": {},
     "output_type": "display_data"
    },
    {
     "name": "stdout",
     "output_type": "stream",
     "text": [
      "\n"
     ]
    }
   ],
   "source": [
    "# Representing my tokenized data as String documents and storing it into a variable\n",
    "string_processed_inbound = processed_inbound.progress_apply(\" \".join)"
   ]
  },
  {
   "cell_type": "markdown",
   "metadata": {},
   "source": [
    "I set the min_df paramater to 5 to only include terms that occur more than 5 times in my Count Vectorized data."
   ]
  },
  {
   "cell_type": "code",
   "execution_count": 23,
   "metadata": {},
   "outputs": [
    {
     "data": {
      "text/plain": [
       "0             new update ️ make sure download yesterday\n",
       "2                 try reset setting .. restart phone ..\n",
       "6     hey anyone else upgraded io 11.1 issue capital...\n",
       "10                      hello line close tonight # help\n",
       "12    hello internet someone explain symbol keep app...\n",
       "Name: inbound_text, dtype: object"
      ]
     },
     "execution_count": 23,
     "metadata": {},
     "output_type": "execute_result"
    }
   ],
   "source": [
    "string_processed_inbound.head()"
   ]
  },
  {
   "cell_type": "markdown",
   "metadata": {},
   "source": [
    "This string form also represents each row as a document. That's ultimately what I need to do for my clustering to be effective, because each point needs to represent one sequence altogether, not vectorized individual words."
   ]
  },
  {
   "cell_type": "code",
   "execution_count": 24,
   "metadata": {
    "scrolled": true
   },
   "outputs": [
    {
     "data": {
      "text/plain": [
       "<78592x5152 sparse matrix of type '<class 'numpy.int64'>'\n",
       "\twith 801170 stored elements in Compressed Sparse Row format>"
      ]
     },
     "execution_count": 24,
     "metadata": {},
     "output_type": "execute_result"
    }
   ],
   "source": [
    "# Vectorizing the data with Count Vectorizer\n",
    "bagofwords = CountVectorizer(min_df = 5).fit(string_processed_inbound)\n",
    "inbound_cv = bagofwords.transform(string_processed_inbound)\n",
    "inbound_cv # Output will be a sparse matrix"
   ]
  },
  {
   "cell_type": "markdown",
   "metadata": {},
   "source": [
    "Before we move on, let's visualize and do what we did earlier and view the top 10 most frequent words in my processed data."
   ]
  },
  {
   "cell_type": "markdown",
   "metadata": {},
   "source": [
    "This tells me most of the customer queries are about phones, particularly iOS and battery fixes. We also see thanks rank quite high, which is a good thing because it might indicate gratitude (which indicates a closing intent for my chatbot). Hi (rank 44) and hey (rank 25) classifies a greeting intent, and it's good to see that they appear a lot of times. Things are looking promising right now, but we wouldn't be able to see the quality until we actually start clustering."
   ]
  },
  {
   "cell_type": "markdown",
   "metadata": {},
   "source": [
    "### 2.TFIDF"
   ]
  },
  {
   "cell_type": "code",
   "execution_count": 30,
   "metadata": {},
   "outputs": [],
   "source": [
    "tfidf = TfidfVectorizer(min_df=5, ngram_range = (1,3))\n",
    "# Storing tfidf data and transforming them into sparse matrices\n",
    "inbound_tfidf = tfidf.fit_transform(string_processed_inbound)"
   ]
  },
  {
   "cell_type": "code",
   "execution_count": 32,
   "metadata": {},
   "outputs": [
    {
     "data": {
      "text/plain": [
       "<78592x35232 sparse matrix of type '<class 'numpy.float64'>'\n",
       "\twith 1324907 stored elements in Compressed Sparse Row format>"
      ]
     },
     "execution_count": 32,
     "metadata": {},
     "output_type": "execute_result"
    }
   ],
   "source": [
    "inbound_tfidf"
   ]
  },
  {
   "cell_type": "markdown",
   "metadata": {},
   "source": [
    "## Pretrained word embeddings\n",
    "\n",
    "Bag of words lose many of the subtleties such as word ordering. This is why I will try these other text vectorization methods. These days we have more effective methods, especially since what I want to encode in these vectors are intent clusters."
   ]
  },
  {
   "cell_type": "markdown",
   "metadata": {},
   "source": [
    "### 3. GloVe\n",
    "I am going to use multiple word embeddings to vectorize my text in different ways, and then test which one is the best word embedding to use, starting with the Glove word embedding. GloVe is an unsupervised learning algorithm for getting vector representations for words.\n",
    "\n",
    "DISCLAIMER: I won't be using this one because my clustering algorithms only work when each tweet is one point, and this is a word transformer. I am leaving this part in my notebook as a progress log.\n",
    "\n",
    "Useful sources for this step: \n",
    "* [Guide to word to vec word embeddings](https://towardsdatascience.com/a-beginners-guide-to-word-embedding-with-gensim-word2vec-model-5970fa56cc92)\n",
    "* Zeugma Docs\n",
    "    * https://pypi.org/project/zeugma/0.41/\n",
    "    * https://github.com/nkthiebaut/zeugma"
   ]
  },
  {
   "cell_type": "code",
   "execution_count": 33,
   "metadata": {},
   "outputs": [],
   "source": [
    "glove = EmbeddingTransformer('glove')"
   ]
  },
  {
   "cell_type": "code",
   "execution_count": 35,
   "metadata": {},
   "outputs": [
    {
     "data": {
      "application/vnd.jupyter.widget-view+json": {
       "model_id": "750d798d223c492a807d7208e7d21473",
       "version_major": 2,
       "version_minor": 0
      },
      "text/plain": [
       "HBox(children=(FloatProgress(value=0.0, max=78592.0), HTML(value='')))"
      ]
     },
     "metadata": {},
     "output_type": "display_data"
    },
    {
     "name": "stdout",
     "output_type": "stream",
     "text": [
      "\n"
     ]
    }
   ],
   "source": [
    "# Applying it to the entire training data\n",
    "inbound_glove = string_processed_inbound.progress_apply(glove.transform)"
   ]
  },
  {
   "cell_type": "markdown",
   "metadata": {},
   "source": [
    "As we can see, gloVe transforms individual sentences as multiple word vectors. We need an algorithm that transforms the entire sentence to one vector, so that it represents one point in space."
   ]
  },
  {
   "cell_type": "code",
   "execution_count": 40,
   "metadata": {},
   "outputs": [
    {
     "data": {
      "text/plain": [
       "(41, 25)"
      ]
     },
     "execution_count": 40,
     "metadata": {},
     "output_type": "execute_result"
    }
   ],
   "source": [
    "inbound_glove.iloc[0].shape"
   ]
  },
  {
   "cell_type": "code",
   "execution_count": 43,
   "metadata": {},
   "outputs": [
    {
     "data": {
      "text/plain": [
       "(37, 25)"
      ]
     },
     "execution_count": 43,
     "metadata": {},
     "output_type": "execute_result"
    }
   ],
   "source": [
    "inbound_glove.iloc[1].shape"
   ]
  },
  {
   "cell_type": "markdown",
   "metadata": {},
   "source": [
    "It's interesting, though, to play with this around conceptually even if we won't use it. We can check the cosine similarity between the first and second sentence should give you similarities across words in the sequence, which is interesting because it works when they are of different length."
   ]
  },
  {
   "cell_type": "code",
   "execution_count": 44,
   "metadata": {
    "scrolled": true
   },
   "outputs": [
    {
     "data": {
      "text/plain": [
       "array([[0.7225855 , 0.8673227 , 0.40145397, ..., 0.        , 0.744676  ,\n",
       "        0.744676  ],\n",
       "       [0.635868  , 0.7468127 , 0.44998685, ..., 0.        , 0.5086868 ,\n",
       "        0.5086868 ],\n",
       "       [0.73939735, 0.7719837 , 0.34391314, ..., 0.        , 0.53550535,\n",
       "        0.53550535],\n",
       "       ...,\n",
       "       [0.83396137, 0.8301297 , 0.73543733, ..., 0.        , 0.63138366,\n",
       "        0.63138366],\n",
       "       [0.73740643, 0.7176953 , 0.74351704, ..., 0.        , 0.6403916 ,\n",
       "        0.6403916 ],\n",
       "       [0.5868363 , 0.53884983, 0.9999997 , ..., 0.        , 0.47835985,\n",
       "        0.47835985]], dtype=float32)"
      ]
     },
     "execution_count": 44,
     "metadata": {},
     "output_type": "execute_result"
    }
   ],
   "source": [
    "similarity = cosine_similarity(inbound_glove.iloc[0], inbound_glove.iloc[1])\n",
    "similarity"
   ]
  },
  {
   "cell_type": "code",
   "execution_count": 45,
   "metadata": {},
   "outputs": [
    {
     "data": {
      "text/plain": [
       "(41, 37)"
      ]
     },
     "execution_count": 45,
     "metadata": {},
     "output_type": "execute_result"
    }
   ],
   "source": [
    "similarity.shape"
   ]
  },
  {
   "cell_type": "markdown",
   "metadata": {},
   "source": [
    "As for intepretation, the cosine similarity could be 0 if the two vectors are perpendicular. And it seems that the similarity matrix takes the shape of the longer matrix that it compares."
   ]
  },
  {
   "cell_type": "markdown",
   "metadata": {},
   "source": [
    "### 4. Doc2Vec\n",
    "This is a way that was developed for word2vec to generalize to paragraphs. Doc2Vec takes the average across them, and each tweet is represented as a single embedding so you have consistent dimensionality.\n",
    "\n",
    "Word2Vec uses Continuous Bag of Words, which creates a sliding window around each word to predict it from context (surrouding words), and the Skip Gram model. Doc2Vec is based off that.\n",
    "\n",
    "* https://medium.com/wisio/a-gentle-introduction-to-doc2vec-db3e8c0cce5e\n",
    "* https://radimrehurek.com/gensim/models/doc2vec.html"
   ]
  },
  {
   "cell_type": "code",
   "execution_count": 50,
   "metadata": {},
   "outputs": [
    {
     "data": {
      "text/plain": [
       "['new', 'update', '️', 'make', 'sure', 'download', 'yesterday']"
      ]
     },
     "execution_count": 50,
     "metadata": {},
     "output_type": "execute_result"
    }
   ],
   "source": [
    "data = processed_inbound.iloc[0]\n",
    "data"
   ]
  },
  {
   "cell_type": "code",
   "execution_count": 53,
   "metadata": {},
   "outputs": [
    {
     "name": "stdout",
     "output_type": "stream",
     "text": [
      "\n"
     ]
    }
   ],
   "source": [
    "tagged_data = [TaggedDocument(words=word_tokenize(_d.lower()), tags=[str(i)]) for i, _d in enumerate(data)]"
   ]
  },
  {
   "cell_type": "code",
   "execution_count": 54,
   "metadata": {},
   "outputs": [
    {
     "data": {
      "text/plain": [
       "[TaggedDocument(words=['new'], tags=['0']),\n",
       " TaggedDocument(words=['update'], tags=['1']),\n",
       " TaggedDocument(words=['️'], tags=['2']),\n",
       " TaggedDocument(words=['make'], tags=['3']),\n",
       " TaggedDocument(words=['sure'], tags=['4']),\n",
       " TaggedDocument(words=['download'], tags=['5']),\n",
       " TaggedDocument(words=['yesterday'], tags=['6'])]"
      ]
     },
     "execution_count": 54,
     "metadata": {},
     "output_type": "execute_result"
    }
   ],
   "source": [
    "tagged_data"
   ]
  },
  {
   "cell_type": "markdown",
   "metadata": {},
   "source": [
    "Now that the tagging is finished, let's start training our model!"
   ]
  },
  {
   "cell_type": "code",
   "execution_count": 55,
   "metadata": {
    "scrolled": true
   },
   "outputs": [
    {
     "name": "stderr",
     "output_type": "stream",
     "text": [
      "/opt/anaconda3/envs/chatbot/lib/python3.7/site-packages/gensim/models/doc2vec.py:574: UserWarning: The parameter `size` is deprecated, will be removed in 4.0.0, use `vector_size` instead.\n",
      "  warnings.warn(\"The parameter `size` is deprecated, will be removed in 4.0.0, use `vector_size` instead.\")\n",
      "/opt/anaconda3/envs/chatbot/lib/python3.7/site-packages/ipykernel_launcher.py:17: DeprecationWarning: Call to deprecated `iter` (Attribute will be removed in 4.0.0, use self.epochs instead).\n"
     ]
    },
    {
     "name": "stdout",
     "output_type": "stream",
     "text": [
      "iteration 0\n",
      "iteration 1\n",
      "iteration 2\n",
      "iteration 3\n",
      "iteration 4\n",
      "iteration 5\n",
      "iteration 6\n",
      "iteration 7\n",
      "iteration 8\n",
      "iteration 9\n",
      "iteration 10\n",
      "iteration 11\n",
      "iteration 12\n",
      "iteration 13\n",
      "iteration 14\n",
      "iteration 15\n",
      "iteration 16\n",
      "iteration 17\n",
      "iteration 18\n",
      "iteration 19\n",
      "iteration 20\n",
      "iteration 21\n",
      "iteration 22\n",
      "iteration 23\n",
      "iteration 24\n",
      "iteration 25\n",
      "iteration 26\n",
      "iteration 27\n",
      "iteration 28\n",
      "iteration 29\n",
      "iteration 30\n",
      "iteration 31\n",
      "iteration 32\n",
      "iteration 33\n",
      "iteration 34\n",
      "iteration 35\n",
      "iteration 36\n",
      "iteration 37\n",
      "iteration 38\n",
      "iteration 39\n",
      "iteration 40\n",
      "iteration 41\n",
      "iteration 42\n",
      "iteration 43\n",
      "iteration 44\n",
      "iteration 45\n",
      "iteration 46\n",
      "iteration 47\n",
      "iteration 48\n",
      "iteration 49\n",
      "iteration 50\n",
      "iteration 51\n",
      "iteration 52\n",
      "iteration 53\n",
      "iteration 54\n",
      "iteration 55\n",
      "iteration 56\n",
      "iteration 57\n",
      "iteration 58\n",
      "iteration 59\n",
      "iteration 60\n",
      "iteration 61\n",
      "iteration 62\n",
      "iteration 63\n",
      "iteration 64\n",
      "iteration 65\n",
      "iteration 66\n",
      "iteration 67\n",
      "iteration 68\n",
      "iteration 69\n",
      "iteration 70\n",
      "iteration 71\n",
      "iteration 72\n",
      "iteration 73\n",
      "iteration 74\n",
      "iteration 75\n",
      "iteration 76\n",
      "iteration 77\n",
      "iteration 78\n",
      "iteration 79\n",
      "iteration 80\n",
      "iteration 81\n",
      "iteration 82\n",
      "iteration 83\n",
      "iteration 84\n",
      "iteration 85\n",
      "iteration 86\n",
      "iteration 87\n",
      "iteration 88\n",
      "iteration 89\n",
      "iteration 90\n",
      "iteration 91\n",
      "iteration 92\n",
      "iteration 93\n",
      "iteration 94\n",
      "iteration 95\n",
      "iteration 96\n",
      "iteration 97\n",
      "iteration 98\n",
      "iteration 99\n",
      "Model Saved\n"
     ]
    }
   ],
   "source": [
    "max_epochs = 100\n",
    "vec_size = 20\n",
    "alpha = 0.025\n",
    "\n",
    "model = Doc2Vec(size=vec_size, \n",
    "                alpha=alpha, \n",
    "                min_alpha=0.00025,\n",
    "                min_count=1,\n",
    "                dm =1)\n",
    "  \n",
    "model.build_vocab(tagged_data)\n",
    "\n",
    "for epoch in range(max_epochs):\n",
    "    print('iteration {0}'.format(epoch))\n",
    "    model.train(tagged_data,\n",
    "                total_examples=model.corpus_count,\n",
    "                epochs=model.iter)\n",
    "    # Decrease the learning rate\n",
    "    model.alpha -= 0.0002\n",
    "    # Fix the learning rate, no decay\n",
    "    model.min_alpha = model.alpha\n",
    "\n",
    "model.save(\"d2v.model\")\n",
    "print(\"Model Saved\")"
   ]
  },
  {
   "cell_type": "code",
   "execution_count": 56,
   "metadata": {},
   "outputs": [
    {
     "name": "stdout",
     "output_type": "stream",
     "text": [
      "1. EDA , Wrangling, and Initial Preprocessing.ipynb\r\n",
      "2. Intent Clustering, Document Embeddings, and Unsupervised Learning.ipynb\r\n",
      "2.1. Meaningful Embeddings and Vectorization.ipynb\r\n",
      "3. Intent Classification with Keras.ipynb\r\n",
      "4. Natural Language Generation.ipynb\r\n",
      "README.md\r\n",
      "d2v.model\r\n",
      "\u001b[1m\u001b[36mdata\u001b[m\u001b[m\r\n",
      "\u001b[1m\u001b[36mexploratory\u001b[m\u001b[m\r\n",
      "\u001b[1m\u001b[36mimages\u001b[m\u001b[m\r\n",
      "\u001b[1m\u001b[36mmodels\u001b[m\u001b[m\r\n",
      "\u001b[1m\u001b[36mobjects\u001b[m\u001b[m\r\n"
     ]
    }
   ],
   "source": [
    "!ls"
   ]
  },
  {
   "cell_type": "code",
   "execution_count": 57,
   "metadata": {},
   "outputs": [
    {
     "name": "stdout",
     "output_type": "stream",
     "text": [
      "V1_infer [-1.5038892e-02 -1.6535386e-02 -1.9735284e-02 -1.9328875e-02\n",
      " -2.2228742e-02 -7.4572726e-03  1.9306257e-02  8.9250449e-03\n",
      "  8.2190614e-03  5.7930835e-03 -9.0504149e-03 -5.2679935e-03\n",
      " -2.4654318e-02 -1.1019308e-02  4.3625583e-05 -1.8196795e-04\n",
      "  1.6894562e-02 -2.4621782e-03 -1.6256761e-02 -5.1471563e-03]\n",
      "[('10', 0.666433572769165), ('2', 0.5544881224632263), ('13', 0.5226146578788757), ('0', 0.4401801824569702), ('12', 0.3988773822784424), ('14', 0.3269912004470825), ('9', 0.3246060311794281), ('4', 0.31271660327911377), ('11', 0.3000207841396332), ('7', 0.29833877086639404)]\n"
     ]
    }
   ],
   "source": [
    "model= Doc2Vec.load(\"models/d2v.model\")\n",
    "#to find the vector of a document which is not in training data\n",
    "test_data = word_tokenize(\"I love chatbots\".lower())\n",
    "v1 = model.infer_vector(test_data)\n",
    "print(\"V1_infer\", v1)\n",
    "\n",
    "# to find most similar doc using tags\n",
    "similar_doc = model.docvecs.most_similar('1')\n",
    "print(similar_doc)"
   ]
  },
  {
   "cell_type": "code",
   "execution_count": 58,
   "metadata": {},
   "outputs": [
    {
     "data": {
      "text/plain": [
       "array([ 0.00853298, -0.02657316,  0.02473178, -0.00826399, -0.01995665,\n",
       "        0.01941   , -0.00422948,  0.02943846, -0.00559517,  0.0094566 ,\n",
       "       -0.03073188,  0.01469939, -0.0368831 ,  0.013537  ,  0.01832891,\n",
       "        0.02808696,  0.01232831, -0.02331029, -0.02963574,  0.02320767],\n",
       "      dtype=float32)"
      ]
     },
     "execution_count": 58,
     "metadata": {},
     "output_type": "execute_result"
    }
   ],
   "source": [
    "# to find vector of doc in training data using tags or in other words, printing the vector of document at index 1 in training data\n",
    "model.docvecs['1']"
   ]
  },
  {
   "cell_type": "markdown",
   "metadata": {},
   "source": [
    "## 5. Skipthoughts Vectorizer"
   ]
  },
  {
   "cell_type": "code",
   "execution_count": null,
   "metadata": {},
   "outputs": [],
   "source": [
    "import skipthoughts\n",
    " \n",
    "class SkipThoughtsVectorizer(object):\n",
    "    def __init__(self, **kwargs):\n",
    "        self.model = skipthoughts.load_model()\n",
    "        self.encoder = skipthoughts.Encoder(self.model)\n",
    " \n",
    "    def fit_transform(self, raw_documents, y):\n",
    "        return self.encoder.encode(raw_documents, verbose=False)\n",
    " \n",
    "    def fit(self, raw_documents, y=None):\n",
    "        self.fit_transform(raw_documents, y)\n",
    "        return self\n",
    " \n",
    "    def transform(self, raw_documents, copy=True):\n",
    "        return self.fit_transform(raw_documents, None)"
   ]
  },
  {
   "cell_type": "markdown",
   "metadata": {},
   "source": [
    "# Scaling the Data"
   ]
  },
  {
   "cell_type": "markdown",
   "metadata": {},
   "source": [
    "Before we cluster, let's make scaled versions of our dataset first, which we definitely would need for distance-based clustering methods."
   ]
  },
  {
   "cell_type": "code",
   "execution_count": 77,
   "metadata": {},
   "outputs": [
    {
     "data": {
      "text/plain": [
       "(<78592x5152 sparse matrix of type '<class 'numpy.int64'>'\n",
       " \twith 801170 stored elements in Compressed Sparse Row format>,\n",
       " <78592x35232 sparse matrix of type '<class 'numpy.float64'>'\n",
       " \twith 1324907 stored elements in Compressed Sparse Row format>)"
      ]
     },
     "execution_count": 77,
     "metadata": {},
     "output_type": "execute_result"
    }
   ],
   "source": [
    "# This is the data we have so far, they are stored in CSR compressed format\n",
    "inbound_cv, inbound_tfidf"
   ]
  },
  {
   "cell_type": "markdown",
   "metadata": {},
   "source": [
    "I did ```with_mean = False``` because sparse matrices are too big to center before scaling."
   ]
  },
  {
   "cell_type": "code",
   "execution_count": 75,
   "metadata": {},
   "outputs": [],
   "source": [
    "# Fitting and transforming to create standard scaled versions of my data\n",
    "inbound_cv_ss = StandardScaler(with_mean=False).fit_transform(inbound_cv)\n",
    "inbound_tfidf_ss = StandardScaler(with_mean=False).fit_transform(inbound_cv)"
   ]
  },
  {
   "cell_type": "code",
   "execution_count": 78,
   "metadata": {},
   "outputs": [
    {
     "data": {
      "text/plain": [
       "(<78592x5152 sparse matrix of type '<class 'numpy.float64'>'\n",
       " \twith 801170 stored elements in Compressed Sparse Row format>,\n",
       " <78592x5152 sparse matrix of type '<class 'numpy.float64'>'\n",
       " \twith 801170 stored elements in Compressed Sparse Row format>)"
      ]
     },
     "execution_count": 78,
     "metadata": {},
     "output_type": "execute_result"
    }
   ],
   "source": [
    "inbound_cv_ss, inbound_tfidf_ss"
   ]
  },
  {
   "cell_type": "markdown",
   "metadata": {},
   "source": [
    "# Clustering"
   ]
  },
  {
   "cell_type": "markdown",
   "metadata": {},
   "source": [
    "I am clustering or topic modelling on my data to pull out major themes and manually label these clusters.\n",
    "\n",
    "I will have more success if my data is all around the same type of domain of customer service, and I was careful to make sure this Twitter Apple data is. That way, my model in the next notebook will capture the nuances of intent classification. Generally, the bot is going to be good at conversing topics on the language it's trained on.\n",
    "\n",
    "I am aware that with clustering, you can't expect your model to cluster the data the way you want it to be clustered beforehand. It's an algorithm overall. I would wish that they will magically cluster intents together easily, however it might now be that easy! We shall see."
   ]
  },
  {
   "cell_type": "code",
   "execution_count": null,
   "metadata": {},
   "outputs": [],
   "source": [
    "class Cluster:\n",
    "    "
   ]
  },
  {
   "cell_type": "markdown",
   "metadata": {},
   "source": [
    "## 1. K Means\n",
    "My first approach for the clustering my word vectors is K-Means, which tends to perform well on blobs.\n",
    "\n",
    "A drawback is that it is very slow, and picking the value for K is hard - I don't even know how many intents there are in the data. This is why I start with larger jumps of K to get a higher level idea of which performs the best, then I dive deeper to finally decide what K works the best for finding the optimal number of intents in my dataset."
   ]
  },
  {
   "cell_type": "code",
   "execution_count": 88,
   "metadata": {},
   "outputs": [
    {
     "name": "stdout",
     "output_type": "stream",
     "text": [
      "0 ('inbound_cv_ss', <78592x5152 sparse matrix of type '<class 'numpy.float64'>'\n",
      "\twith 801170 stored elements in Compressed Sparse Row format>)\n",
      "1 ('inbound_tfidf_ss', <78592x5152 sparse matrix of type '<class 'numpy.float64'>'\n",
      "\twith 801170 stored elements in Compressed Sparse Row format>)\n"
     ]
    }
   ],
   "source": [
    "# Embedding data\n",
    "vectorized_data = {'inbound_cv_ss': inbound_cv_ss, 'inbound_tfidf_ss': inbound_tfidf_ss}\n",
    "# Briefly showing the contents of i and j\n",
    "for i,j in enumerate(vectorized_data.items()): print(i,j);"
   ]
  },
  {
   "cell_type": "markdown",
   "metadata": {},
   "source": [
    "I am running my entire K-Means on all my data here. And I am doing hyperparamater optimization on n_clusters. The first progress bar is how it's doing with the dataset, the second one is the "
   ]
  },
  {
   "cell_type": "code",
   "execution_count": 90,
   "metadata": {
    "scrolled": false
   },
   "outputs": [
    {
     "name": "stderr",
     "output_type": "stream",
     "text": [
      "/opt/anaconda3/envs/chatbot/lib/python3.7/site-packages/ipykernel_launcher.py:8: TqdmDeprecationWarning: This function will be removed in tqdm==5.0.0\n",
      "Please use `tqdm.notebook.tqdm` instead of `tqdm.tqdm_notebook`\n",
      "  \n"
     ]
    },
    {
     "data": {
      "application/vnd.jupyter.widget-view+json": {
       "model_id": "0ee3c466a2c44b31830ca58d5dbe4088",
       "version_major": 2,
       "version_minor": 0
      },
      "text/plain": [
       "HBox(children=(FloatProgress(value=1.0, bar_style='info', max=1.0), HTML(value='')))"
      ]
     },
     "metadata": {},
     "output_type": "display_data"
    },
    {
     "name": "stderr",
     "output_type": "stream",
     "text": [
      "/opt/anaconda3/envs/chatbot/lib/python3.7/site-packages/ipykernel_launcher.py:18: TqdmDeprecationWarning: This function will be removed in tqdm==5.0.0\n",
      "Please use `tqdm.notebook.tqdm` instead of `tqdm.tqdm_notebook`\n"
     ]
    },
    {
     "data": {
      "application/vnd.jupyter.widget-view+json": {
       "model_id": "3271abdf40064d1b84b719fdffc2fef2",
       "version_major": 2,
       "version_minor": 0
      },
      "text/plain": [
       "HBox(children=(FloatProgress(value=0.0, max=10.0), HTML(value='')))"
      ]
     },
     "metadata": {},
     "output_type": "display_data"
    },
    {
     "name": "stdout",
     "output_type": "stream",
     "text": [
      "Currently fitting inbound_cv_ss with 10 clusters... Please wait\n",
      "Currently fitting inbound_cv_ss with 20 clusters... Please wait\n",
      "Currently fitting inbound_cv_ss with 30 clusters... Please wait\n",
      "Currently fitting inbound_cv_ss with 40 clusters... Please wait\n",
      "Currently fitting inbound_cv_ss with 50 clusters... Please wait\n",
      "Currently fitting inbound_cv_ss with 60 clusters... Please wait\n",
      "Currently fitting inbound_cv_ss with 70 clusters... Please wait\n",
      "Currently fitting inbound_cv_ss with 80 clusters... Please wait\n",
      "Currently fitting inbound_cv_ss with 90 clusters... Please wait\n",
      "Currently fitting inbound_cv_ss with 100 clusters... Please wait\n",
      "\n",
      "\n"
     ]
    },
    {
     "ename": "KeyError",
     "evalue": "'inbound_cv_ss_silhouettes'",
     "output_type": "error",
     "traceback": [
      "\u001b[0;31m---------------------------------------------------------------------------\u001b[0m",
      "\u001b[0;31mKeyError\u001b[0m                                  Traceback (most recent call last)",
      "\u001b[0;32m<timed exec>\u001b[0m in \u001b[0;36m<module>\u001b[0;34m\u001b[0m\n",
      "\u001b[0;31mKeyError\u001b[0m: 'inbound_cv_ss_silhouettes'"
     ]
    }
   ],
   "source": [
    "%%time\n",
    "# My grand dictionaries that will store all my results\n",
    "wcss_grand = {}\n",
    "labels_grand = {}\n",
    "silhouette_scores_grand = {}\n",
    "n_clusters = [10,20,30,40,50,60,70,80,90,100]\n",
    "\n",
    "# Iterating through all the differently embedded data\n",
    "for i,j in tqdm(enumerate(vectorized_data.items())): \n",
    "    name = j[0] # Here j[0] is the name of the dataset\n",
    "    dataset = j[1] # And j[1] is the actual data\n",
    "    \n",
    "    # I store my metrics at these following lists\n",
    "    wcss = []\n",
    "    labels = []\n",
    "    silhouette_scores = []\n",
    "    \n",
    "    # Looping through values of k\n",
    "    for k in tqdm(n_clusters):    \n",
    "        print(f'Currently fitting {name} with {k} clusters... Please wait')\n",
    "        \n",
    "        # Initializing with k-means++ ensures that you get don’t fall into the random initialization trap.\n",
    "        kmeans = KMeans(n_clusters=k, init='k-means++', max_iter=300, n_init=10, random_state = 10)\n",
    "        kmeans.fit(dataset)\n",
    "        wcss.append(kmeans.inertia_)\n",
    "        \n",
    "        # Getting the silhouette score\n",
    "        labels.append(kmeans.labels_)\n",
    "        silhouette_scores.append(silhouette_score(dataset, kmeans.labels_))\n",
    "        \n",
    "        # Saving the models\n",
    "        filename = f'models/kmeans/{name}-{k}neighbors.sav'\n",
    "        joblib.dump(kmeans, filename)\n",
    "        \n",
    "    # Updating grand dictionary\n",
    "    wcss_grand[name + '_wcss'] = wcss\n",
    "    labels_grand[name + '_labels'] = labels\n",
    "    silhouette_scores_grand[name + '_silhouettes'] = silhouette_scores\n",
    "    "
   ]
  },
  {
   "cell_type": "code",
   "execution_count": 97,
   "metadata": {},
   "outputs": [
    {
     "data": {
      "text/plain": [
       "[-0.018406604495079408,\n",
       " -0.07090591024091716,\n",
       " 0.08836791766599103,\n",
       " -0.06706351411842223,\n",
       " -0.06700097725852948,\n",
       " -0.14928501551899484,\n",
       " -0.06073582042262496,\n",
       " -0.1357094575268931,\n",
       " -0.13715329823743813,\n",
       " -0.13691316897055764]"
      ]
     },
     "execution_count": 97,
     "metadata": {},
     "output_type": "execute_result"
    }
   ],
   "source": []
  },
  {
   "cell_type": "code",
   "execution_count": 102,
   "metadata": {},
   "outputs": [],
   "source": [
    "kmeans_inbound_cv = pd.DataFrame({'n_clusters': n_clusters, 'WCSS': wcss_grand['inbound_cv_ss_wcss'],  'silhouette_scores':silhouette_scores})"
   ]
  },
  {
   "cell_type": "code",
   "execution_count": 103,
   "metadata": {},
   "outputs": [
    {
     "data": {
      "text/html": [
       "<div>\n",
       "<style scoped>\n",
       "    .dataframe tbody tr th:only-of-type {\n",
       "        vertical-align: middle;\n",
       "    }\n",
       "\n",
       "    .dataframe tbody tr th {\n",
       "        vertical-align: top;\n",
       "    }\n",
       "\n",
       "    .dataframe thead th {\n",
       "        text-align: right;\n",
       "    }\n",
       "</style>\n",
       "<table border=\"1\" class=\"dataframe\">\n",
       "  <thead>\n",
       "    <tr style=\"text-align: right;\">\n",
       "      <th></th>\n",
       "      <th>n_clusters</th>\n",
       "      <th>WCSS</th>\n",
       "      <th>silhouette_scores</th>\n",
       "    </tr>\n",
       "  </thead>\n",
       "  <tbody>\n",
       "    <tr>\n",
       "      <th>0</th>\n",
       "      <td>10</td>\n",
       "      <td>4.039656e+08</td>\n",
       "      <td>-0.018407</td>\n",
       "    </tr>\n",
       "    <tr>\n",
       "      <th>1</th>\n",
       "      <td>20</td>\n",
       "      <td>4.029887e+08</td>\n",
       "      <td>-0.070906</td>\n",
       "    </tr>\n",
       "    <tr>\n",
       "      <th>2</th>\n",
       "      <td>30</td>\n",
       "      <td>4.021257e+08</td>\n",
       "      <td>0.088368</td>\n",
       "    </tr>\n",
       "    <tr>\n",
       "      <th>3</th>\n",
       "      <td>40</td>\n",
       "      <td>4.013220e+08</td>\n",
       "      <td>-0.067064</td>\n",
       "    </tr>\n",
       "    <tr>\n",
       "      <th>4</th>\n",
       "      <td>50</td>\n",
       "      <td>4.004640e+08</td>\n",
       "      <td>-0.067001</td>\n",
       "    </tr>\n",
       "    <tr>\n",
       "      <th>5</th>\n",
       "      <td>60</td>\n",
       "      <td>3.994826e+08</td>\n",
       "      <td>-0.149285</td>\n",
       "    </tr>\n",
       "    <tr>\n",
       "      <th>6</th>\n",
       "      <td>70</td>\n",
       "      <td>3.985765e+08</td>\n",
       "      <td>-0.060736</td>\n",
       "    </tr>\n",
       "    <tr>\n",
       "      <th>7</th>\n",
       "      <td>80</td>\n",
       "      <td>3.976571e+08</td>\n",
       "      <td>-0.135709</td>\n",
       "    </tr>\n",
       "    <tr>\n",
       "      <th>8</th>\n",
       "      <td>90</td>\n",
       "      <td>3.966821e+08</td>\n",
       "      <td>-0.137153</td>\n",
       "    </tr>\n",
       "    <tr>\n",
       "      <th>9</th>\n",
       "      <td>100</td>\n",
       "      <td>3.957628e+08</td>\n",
       "      <td>-0.136913</td>\n",
       "    </tr>\n",
       "  </tbody>\n",
       "</table>\n",
       "</div>"
      ],
      "text/plain": [
       "   n_clusters          WCSS  silhouette_scores\n",
       "0          10  4.039656e+08          -0.018407\n",
       "1          20  4.029887e+08          -0.070906\n",
       "2          30  4.021257e+08           0.088368\n",
       "3          40  4.013220e+08          -0.067064\n",
       "4          50  4.004640e+08          -0.067001\n",
       "5          60  3.994826e+08          -0.149285\n",
       "6          70  3.985765e+08          -0.060736\n",
       "7          80  3.976571e+08          -0.135709\n",
       "8          90  3.966821e+08          -0.137153\n",
       "9         100  3.957628e+08          -0.136913"
      ]
     },
     "execution_count": 103,
     "metadata": {},
     "output_type": "execute_result"
    }
   ],
   "source": [
    "kmeans_inbound_cv"
   ]
  },
  {
   "cell_type": "code",
   "execution_count": 104,
   "metadata": {},
   "outputs": [],
   "source": [
    "kmeans_inbound_cv.to_csv('kmeans_inbound_cv.csv')"
   ]
  },
  {
   "cell_type": "code",
   "execution_count": 107,
   "metadata": {},
   "outputs": [
    {
     "data": {
      "text/plain": [
       "array([ 3,  3,  3, ..., 11, 19,  3], dtype=int32)"
      ]
     },
     "execution_count": 107,
     "metadata": {},
     "output_type": "execute_result"
    }
   ],
   "source": [
    "# Final dataframe with labels\n",
    "pd.DataFrame({'Inbound': })\n",
    "kmeans.labels_"
   ]
  },
  {
   "cell_type": "markdown",
   "metadata": {},
   "source": [
    "### Storing results\n",
    "\n",
    "Wow! It took me three hours to apply K-Means over 10 iterations from 10 to 100 for both data types, before scaling. Fortunately, after I scaled it trained much faster. \n",
    "\n",
    "I store my results using Python's serialization package called Pickle."
   ]
  },
  {
   "cell_type": "code",
   "execution_count": 196,
   "metadata": {},
   "outputs": [],
   "source": [
    "# Dumping my dictionaries that store the results of my k-means iteration\n",
    "\n",
    "with open('objects/wcss_grand.pkl', 'wb') as handle:\n",
    "    pickle.dump(wcss_grand, handle, protocol=pickle.HIGHEST_PROTOCOL)\n",
    "\n",
    "with open('objects/labels_grand.pkl', 'wb') as handle:\n",
    "    pickle.dump(labels_grand, handle, protocol=pickle.HIGHEST_PROTOCOL)\n",
    "    \n",
    "with open('objects/labels_grand.pkl', 'wb') as handle:\n",
    "    pickle.dump(labels_grand, handle, protocol=pickle.HIGHEST_PROTOCOL)"
   ]
  },
  {
   "cell_type": "code",
   "execution_count": 1,
   "metadata": {
    "collapsed": true
   },
   "outputs": [
    {
     "ename": "NameError",
     "evalue": "name 'pickle' is not defined",
     "output_type": "error",
     "traceback": [
      "\u001b[0;31m---------------------------------------------------------------------------\u001b[0m",
      "\u001b[0;31mNameError\u001b[0m                                 Traceback (most recent call last)",
      "\u001b[0;32m<ipython-input-1-38afcb296217>\u001b[0m in \u001b[0;36m<module>\u001b[0;34m\u001b[0m\n\u001b[1;32m      2\u001b[0m \u001b[0;34m\u001b[0m\u001b[0m\n\u001b[1;32m      3\u001b[0m \u001b[0;32mwith\u001b[0m \u001b[0mopen\u001b[0m\u001b[0;34m(\u001b[0m\u001b[0;34m'objects/wcss-kmeans.pkl'\u001b[0m\u001b[0;34m,\u001b[0m \u001b[0;34m'rb'\u001b[0m\u001b[0;34m)\u001b[0m \u001b[0;32mas\u001b[0m \u001b[0mhandle\u001b[0m\u001b[0;34m:\u001b[0m\u001b[0;34m\u001b[0m\u001b[0;34m\u001b[0m\u001b[0m\n\u001b[0;32m----> 4\u001b[0;31m     \u001b[0mwcss_grand\u001b[0m \u001b[0;34m=\u001b[0m \u001b[0mpickle\u001b[0m\u001b[0;34m.\u001b[0m\u001b[0mload\u001b[0m\u001b[0;34m(\u001b[0m\u001b[0mhandle\u001b[0m\u001b[0;34m)\u001b[0m\u001b[0;34m\u001b[0m\u001b[0;34m\u001b[0m\u001b[0m\n\u001b[0m\u001b[1;32m      5\u001b[0m \u001b[0;32mwith\u001b[0m \u001b[0mopen\u001b[0m\u001b[0;34m(\u001b[0m\u001b[0;34m'objects/labels_grand.pkl'\u001b[0m\u001b[0;34m,\u001b[0m\u001b[0;34m'rb'\u001b[0m\u001b[0;34m)\u001b[0m \u001b[0;32mas\u001b[0m \u001b[0mhandle\u001b[0m\u001b[0;34m:\u001b[0m\u001b[0;34m\u001b[0m\u001b[0;34m\u001b[0m\u001b[0m\n\u001b[1;32m      6\u001b[0m     \u001b[0mlabels_grand\u001b[0m \u001b[0;34m=\u001b[0m \u001b[0mpickle\u001b[0m\u001b[0;34m.\u001b[0m\u001b[0mload\u001b[0m\u001b[0;34m(\u001b[0m\u001b[0mhandle\u001b[0m\u001b[0;34m)\u001b[0m\u001b[0;34m\u001b[0m\u001b[0;34m\u001b[0m\u001b[0m\n",
      "\u001b[0;31mNameError\u001b[0m: name 'pickle' is not defined"
     ]
    }
   ],
   "source": [
    "# Storing it into objects I can use in this notebook\n",
    "\n",
    "with open('objects/wcss-kmeans.pkl', 'rb') as handle:\n",
    "    wcss_grand = pickle.load(handle)\n",
    "with open('objects/labels_grand.pkl','rb') as handle:\n",
    "    labels_grand = pickle.load(handle)"
   ]
  },
  {
   "cell_type": "markdown",
   "metadata": {},
   "source": [
    "## Optimizing K-Means"
   ]
  },
  {
   "cell_type": "markdown",
   "metadata": {},
   "source": [
    "I am making an elbow plot to see if there is a clear elbow, which hopefully I'll find but it's not very likely."
   ]
  },
  {
   "cell_type": "code",
   "execution_count": 101,
   "metadata": {},
   "outputs": [
    {
     "data": {
      "image/png": "[encoded data removed]",
      "text/plain": [
       "<Figure size 864x504 with 1 Axes>"
      ]
     },
     "metadata": {},
     "output_type": "display_data"
    },
    {
     "data": {
      "image/png": "[encoded data removed]",
      "text/plain": [
       "<Figure size 864x504 with 1 Axes>"
      ]
     },
     "metadata": {},
     "output_type": "display_data"
    }
   ],
   "source": [
    "# Elbow Plot\n",
    "plt.figure(figsize=(12,7))\n",
    "plt.plot(range(10, 101, 10), wcss_grand['inbound_cv_ss_wcss'], color = 'magenta')\n",
    "plt.title('Elbow Method')\n",
    "plt.xlabel('Number of clusters')\n",
    "plt.ylabel('WCSS')\n",
    "plt.show()\n",
    "\n",
    "# Silouette Plot\n",
    "plt.figure(figsize=(12,7))\n",
    "plt.plot(range(10, 101, 10), silhouette_scores, color = 'red')\n",
    "plt.title('Silhouette Method')\n",
    "plt.xlabel('Silhouette Score')\n",
    "plt.ylabel('WCSS')\n",
    "plt.show()\n"
   ]
  },
  {
   "cell_type": "markdown",
   "metadata": {},
   "source": [
    "## Visualizing my Clusters with t-SNE"
   ]
  },
  {
   "cell_type": "code",
   "execution_count": null,
   "metadata": {},
   "outputs": [],
   "source": [
    "# instantiate t-SNE\n",
    "tsne = TSNE(n_components=2, random_state=1, n_jobs=-1)\n",
    "\n",
    "# fit t-SNE\n",
    "X_s_tsne = tsne.fit_transform(X_s)\n",
    "\n",
    "# visualize high-dimensional data\n",
    "plt.figure()\n",
    "plt.scatter(X_s_tsne[:,0], X_s_tsne[:,1], s=20)\n",
    "plt.title('2-D t-SNE representation of my Inbound data')\n",
    "plt.xlabel('t-SNE dimension 1')\n",
    "plt.ylabel('t-SNE dimension 2')\n",
    "plt.show()"
   ]
  },
  {
   "cell_type": "markdown",
   "metadata": {},
   "source": [
    "## 2. LDA (Latent Dirichlet Allocation)\n",
    "My second approach for the clustering is LDA topic modelling. It basically takes your data and splits it into topics. My goal is still to cluster, but with this method I hope to get more useful, distinct topics.\n",
    "\n",
    "Useful articles:\n",
    "* https://towardsdatascience.com/end-to-end-topic-modeling-in-python-latent-dirichlet-allocation-lda-35ce4ed6b3e0\n",
    "* https://medium.com/nanonets/topic-modeling-with-lsa-psla-lda-and-lda2vec-555ff65b0b05\n",
    "\n",
    "There are also newer, deep-learning based methods called LDA2Vec which could be interesting to explore as well."
   ]
  },
  {
   "cell_type": "code",
   "execution_count": null,
   "metadata": {},
   "outputs": [],
   "source": [
    "\n",
    "\n"
   ]
  },
  {
   "cell_type": "code",
   "execution_count": null,
   "metadata": {},
   "outputs": [],
   "source": []
  },
  {
   "cell_type": "markdown",
   "metadata": {},
   "source": [
    "# 3. Hierarchical Clustering"
   ]
  },
  {
   "cell_type": "markdown",
   "metadata": {},
   "source": [
    "Height represents how much seperation there are between clusters. If not much distance between old centers and new centers, it signals that there is not much separation."
   ]
  },
  {
   "cell_type": "code",
   "execution_count": 4,
   "metadata": {},
   "outputs": [
    {
     "ename": "SyntaxError",
     "evalue": "invalid syntax (<ipython-input-4-225f98002726>, line 4)",
     "output_type": "error",
     "traceback": [
      "\u001b[0;36m  File \u001b[0;32m\"<ipython-input-4-225f98002726>\"\u001b[0;36m, line \u001b[0;32m4\u001b[0m\n\u001b[0;31m    linkage_mat linkage(X, 'ward')\u001b[0m\n\u001b[0m                      ^\u001b[0m\n\u001b[0;31mSyntaxError\u001b[0m\u001b[0;31m:\u001b[0m invalid syntax\n"
     ]
    }
   ],
   "source": [
    "from scipy.cluster.hierarchy import linkage, dendrogram\n",
    "\n",
    "# Creating out linkage matrix\n",
    "linkage_mat linkage(X, 'ward')\n",
    "\n",
    "# Plotting our dendrogram\n",
    "plt.figure(figsize =(20,20))\n",
    "dendrogram(linkage_mat)\n",
    "plt.show()"
   ]
  },
  {
   "cell_type": "markdown",
   "metadata": {},
   "source": [
    "# 4. DBSCAN\n",
    "Density-based spatial clustering of applications with noise.\n",
    "\n",
    "1. Choose a point at random\n",
    "2. If that point is connected to greater than n points within d distance, it is a core sample. If not, it is classed as noise, and another point is chosen\n",
    "3. Assign it, and all points within d distance as belonging to cluster x\n",
    "4. Check all points just marked 0 if any are core cluseters, repeat step 3-4"
   ]
  },
  {
   "cell_type": "code",
   "execution_count": null,
   "metadata": {},
   "outputs": [],
   "source": []
  },
  {
   "cell_type": "markdown",
   "metadata": {},
   "source": [
    "For time constraint's sake, I decided not to use DBScan because they will achieve a clustering result similar to K-Means. I could have also use Gaussian Mixed Models or Heirarchical Clustering to achieve this clustering result."
   ]
  },
  {
   "cell_type": "markdown",
   "metadata": {},
   "source": [
    "# Fitting all with optimized hyperparamaters"
   ]
  },
  {
   "cell_type": "code",
   "execution_count": null,
   "metadata": {},
   "outputs": [],
   "source": [
    "# K-Means Final\n"
   ]
  },
  {
   "cell_type": "code",
   "execution_count": null,
   "metadata": {},
   "outputs": [],
   "source": []
  },
  {
   "cell_type": "markdown",
   "metadata": {},
   "source": [
    "Storing all our results in a final dataframe:"
   ]
  },
  {
   "cell_type": "code",
   "execution_count": null,
   "metadata": {},
   "outputs": [],
   "source": []
  },
  {
   "cell_type": "markdown",
   "metadata": {},
   "source": [
    "# Comparing All our Clustering Methods"
   ]
  },
  {
   "cell_type": "markdown",
   "metadata": {},
   "source": [
    "## With a Contingency Table"
   ]
  },
  {
   "cell_type": "code",
   "execution_count": null,
   "metadata": {},
   "outputs": [],
   "source": [
    "# Do the clusterings tend to agree with one another?\n",
    "# We'll make what's called a contingency table\n",
    "pd.crosstab(cc_df2['cluster'], cc_df2['hcluster'])"
   ]
  },
  {
   "cell_type": "markdown",
   "metadata": {},
   "source": [
    "We see the largest values here in the off-diagonal. And this is a good sign, because the cluster labels are arbitrary in any of the clusterings (i.e. KMeans 0 is HCluster's 1). Let's look at the percentages:"
   ]
  },
  {
   "cell_type": "code",
   "execution_count": null,
   "metadata": {},
   "outputs": [],
   "source": [
    "pd.crosstab(cc_df2['cluster'], cc_df2['hcluster']) / len(cc_df2)"
   ]
  },
  {
   "cell_type": "markdown",
   "metadata": {},
   "source": [
    "Even though the cluster labels are different, this actually looks pretty good because ~83 percent of the data is in the off-diagonal, meaning that the KMeans and the Hclust agreed on ~83% of the points being clustered.\n",
    "\n",
    "The labels are arbitrary, in the event that they use opposite labelings then you woul look at the other diagonal."
   ]
  },
  {
   "cell_type": "code",
   "execution_count": null,
   "metadata": {},
   "outputs": [],
   "source": []
  },
  {
   "cell_type": "markdown",
   "metadata": {},
   "source": [
    "We can also analyze, for a single clustering, why did the clusterer come to the groupings that it did? (e.g. What similarities and differences did it find in the data?)"
   ]
  },
  {
   "cell_type": "markdown",
   "metadata": {},
   "source": [
    "## With the silhouette scores"
   ]
  },
  {
   "cell_type": "code",
   "execution_count": null,
   "metadata": {},
   "outputs": [],
   "source": []
  },
  {
   "cell_type": "markdown",
   "metadata": {},
   "source": [
    "## Finding and Visualizing Intent Differences Between Clusters"
   ]
  },
  {
   "cell_type": "markdown",
   "metadata": {},
   "source": [
    "Sample the data, then for reproducibility set a random state."
   ]
  },
  {
   "cell_type": "code",
   "execution_count": 250,
   "metadata": {},
   "outputs": [],
   "source": [
    "# For 5 clusters\n",
    "ten_clust = pd.DataFrame({'data': processed_X_train,'original': original, 'labels': labels[6]}).sort_values('labels',ignore_index = True)\n",
    "six_clust = pd.DataFrame({'data': processed_X_train,'labels': labels[3]})"
   ]
  },
  {
   "cell_type": "code",
   "execution_count": 253,
   "metadata": {
    "scrolled": true
   },
   "outputs": [
    {
     "data": {
      "text/html": [
       "<div>\n",
       "<style scoped>\n",
       "    .dataframe tbody tr th:only-of-type {\n",
       "        vertical-align: middle;\n",
       "    }\n",
       "\n",
       "    .dataframe tbody tr th {\n",
       "        vertical-align: top;\n",
       "    }\n",
       "\n",
       "    .dataframe thead th {\n",
       "        text-align: right;\n",
       "    }\n",
       "</style>\n",
       "<table border=\"1\" class=\"dataframe\">\n",
       "  <thead>\n",
       "    <tr style=\"text-align: right;\">\n",
       "      <th></th>\n",
       "      <th>data</th>\n",
       "      <th>original</th>\n",
       "      <th>labels</th>\n",
       "    </tr>\n",
       "  </thead>\n",
       "  <tbody>\n",
       "    <tr>\n",
       "      <th>0</th>\n",
       "      <td>[yep, i, have, thought, app, site, fault, yikes]</td>\n",
       "      <td>@285455 Yep - I've had that too. I thought it ...</td>\n",
       "      <td>0</td>\n",
       "    </tr>\n",
       "    <tr>\n",
       "      <th>1</th>\n",
       "      <td>[still, waiting, order, status, change, order,...</td>\n",
       "      <td>Still waiting for my order status to change fr...</td>\n",
       "      <td>0</td>\n",
       "    </tr>\n",
       "    <tr>\n",
       "      <th>2</th>\n",
       "      <td>[using, #ios11, ipadair, 2, conclude, ruined, ...</td>\n",
       "      <td>After a while using #ios11 on my iPadAir2, I c...</td>\n",
       "      <td>0</td>\n",
       "    </tr>\n",
       "    <tr>\n",
       "      <th>3</th>\n",
       "      <td>[1st, messages, deleted, pics, gone, wtf, get,...</td>\n",
       "      <td>1st all my messages deleted now all my pics ar...</td>\n",
       "      <td>0</td>\n",
       "    </tr>\n",
       "    <tr>\n",
       "      <th>4</th>\n",
       "      <td>[hi, want, view, us, app, store, i, am, uk, on...</td>\n",
       "      <td>@AppleSupport Hi I want to view the US app sto...</td>\n",
       "      <td>0</td>\n",
       "    </tr>\n",
       "    <tr>\n",
       "      <th>...</th>\n",
       "      <td>...</td>\n",
       "      <td>...</td>\n",
       "      <td>...</td>\n",
       "    </tr>\n",
       "    <tr>\n",
       "      <th>15816</th>\n",
       "      <td>[help, please, every, time, ️, type, letter, ️...</td>\n",
       "      <td>@AppleSupport Help please every time i️ type t...</td>\n",
       "      <td>0</td>\n",
       "    </tr>\n",
       "    <tr>\n",
       "      <th>15817</th>\n",
       "      <td>[say, 7hrs, .., pretty, awful, ask, :(]</td>\n",
       "      <td>@AppleSupport I’d say about 7hrs.. which is pr...</td>\n",
       "      <td>0</td>\n",
       "    </tr>\n",
       "    <tr>\n",
       "      <th>15818</th>\n",
       "      <td>[stop, ️, swearr, tooo, god, sound, bad, atm, ...</td>\n",
       "      <td>IF THIS DOES NOT STOP I️ SWEARR TOOO GOD @1158...</td>\n",
       "      <td>0</td>\n",
       "    </tr>\n",
       "    <tr>\n",
       "      <th>15819</th>\n",
       "      <td>[man, ️, keep, popping, type, letter, comes, h...</td>\n",
       "      <td>Man why do this “ I️  “keep popping up when we...</td>\n",
       "      <td>0</td>\n",
       "    </tr>\n",
       "    <tr>\n",
       "      <th>15820</th>\n",
       "      <td>[made, sure, mac, listed, still, cannot, downl...</td>\n",
       "      <td>@AppleSupport I am. Just made sure my mac is l...</td>\n",
       "      <td>0</td>\n",
       "    </tr>\n",
       "  </tbody>\n",
       "</table>\n",
       "<p>15821 rows × 3 columns</p>\n",
       "</div>"
      ],
      "text/plain": [
       "                                                    data  \\\n",
       "0       [yep, i, have, thought, app, site, fault, yikes]   \n",
       "1      [still, waiting, order, status, change, order,...   \n",
       "2      [using, #ios11, ipadair, 2, conclude, ruined, ...   \n",
       "3      [1st, messages, deleted, pics, gone, wtf, get,...   \n",
       "4      [hi, want, view, us, app, store, i, am, uk, on...   \n",
       "...                                                  ...   \n",
       "15816  [help, please, every, time, ️, type, letter, ️...   \n",
       "15817            [say, 7hrs, .., pretty, awful, ask, :(]   \n",
       "15818  [stop, ️, swearr, tooo, god, sound, bad, atm, ...   \n",
       "15819  [man, ️, keep, popping, type, letter, comes, h...   \n",
       "15820  [made, sure, mac, listed, still, cannot, downl...   \n",
       "\n",
       "                                                original  labels  \n",
       "0      @285455 Yep - I've had that too. I thought it ...       0  \n",
       "1      Still waiting for my order status to change fr...       0  \n",
       "2      After a while using #ios11 on my iPadAir2, I c...       0  \n",
       "3      1st all my messages deleted now all my pics ar...       0  \n",
       "4      @AppleSupport Hi I want to view the US app sto...       0  \n",
       "...                                                  ...     ...  \n",
       "15816  @AppleSupport Help please every time i️ type t...       0  \n",
       "15817  @AppleSupport I’d say about 7hrs.. which is pr...       0  \n",
       "15818  IF THIS DOES NOT STOP I️ SWEARR TOOO GOD @1158...       0  \n",
       "15819  Man why do this “ I️  “keep popping up when we...       0  \n",
       "15820  @AppleSupport I am. Just made sure my mac is l...       0  \n",
       "\n",
       "[15821 rows x 3 columns]"
      ]
     },
     "execution_count": 253,
     "metadata": {},
     "output_type": "execute_result"
    }
   ],
   "source": [
    "ten_clust.to_csv('ten_clust.csv') # Storing to CSV to view results\n",
    "ten_clust[ten_clust['labels'] == 0]"
   ]
  },
  {
   "cell_type": "code",
   "execution_count": 252,
   "metadata": {
    "scrolled": true
   },
   "outputs": [
    {
     "data": {
      "text/html": [
       "<div>\n",
       "<style scoped>\n",
       "    .dataframe tbody tr th:only-of-type {\n",
       "        vertical-align: middle;\n",
       "    }\n",
       "\n",
       "    .dataframe tbody tr th {\n",
       "        vertical-align: top;\n",
       "    }\n",
       "\n",
       "    .dataframe thead th {\n",
       "        text-align: right;\n",
       "    }\n",
       "</style>\n",
       "<table border=\"1\" class=\"dataframe\">\n",
       "  <thead>\n",
       "    <tr style=\"text-align: right;\">\n",
       "      <th></th>\n",
       "      <th>data</th>\n",
       "      <th>original</th>\n",
       "      <th>labels</th>\n",
       "    </tr>\n",
       "  </thead>\n",
       "  <tbody>\n",
       "    <tr>\n",
       "      <th>15821</th>\n",
       "      <td>[11.1, 2, still, fixed, many, bug, issues, iph...</td>\n",
       "      <td>@AppleSupport 11.1.2 still hasn’t fixed many o...</td>\n",
       "      <td>1</td>\n",
       "    </tr>\n",
       "    <tr>\n",
       "      <th>15822</th>\n",
       "      <td>[got, brand, new, iphone, 8, plus, stuck, reco...</td>\n",
       "      <td>I’ve got a brand new @115858 iPhone 8 Plus tha...</td>\n",
       "      <td>1</td>\n",
       "    </tr>\n",
       "    <tr>\n",
       "      <th>15823</th>\n",
       "      <td>[iphone, 6s, battery, life, completely, crappe...</td>\n",
       "      <td>My iPhone 6S battery life has completely crapp...</td>\n",
       "      <td>1</td>\n",
       "    </tr>\n",
       "    <tr>\n",
       "      <th>15824</th>\n",
       "      <td>[iphone, 8, plus, problem, speakers, sound, ev...</td>\n",
       "      <td>@AppleSupport iphone 8 plus I have a problem w...</td>\n",
       "      <td>1</td>\n",
       "    </tr>\n",
       "    <tr>\n",
       "      <th>15825</th>\n",
       "      <td>[iphone, 5s, keeps, dying, 40, snapchat, app, ...</td>\n",
       "      <td>@AppleSupport iPhone 5S keeps dying on 40%+ wh...</td>\n",
       "      <td>1</td>\n",
       "    </tr>\n",
       "    <tr>\n",
       "      <th>...</th>\n",
       "      <td>...</td>\n",
       "      <td>...</td>\n",
       "      <td>...</td>\n",
       "    </tr>\n",
       "    <tr>\n",
       "      <th>22285</th>\n",
       "      <td>[iphone, trippin, mane, cause, want, go, buy, ...</td>\n",
       "      <td>@115858 why my iphone trippin mane, it’s cause...</td>\n",
       "      <td>1</td>\n",
       "    </tr>\n",
       "    <tr>\n",
       "      <th>22286</th>\n",
       "      <td>[tried, see, pic, iphone, x, showing, corner, ...</td>\n",
       "      <td>@AppleSupport I tried that but if you can see ...</td>\n",
       "      <td>1</td>\n",
       "    </tr>\n",
       "    <tr>\n",
       "      <th>22287</th>\n",
       "      <td>[wanna, able, change, screen, gestures, iphone...</td>\n",
       "      <td>I wanna be able to change the screen gestures ...</td>\n",
       "      <td>1</td>\n",
       "    </tr>\n",
       "    <tr>\n",
       "      <th>22288</th>\n",
       "      <td>[iphone, hangs, lot, ..., really, reason, ...,...</td>\n",
       "      <td>@AppleSupport My iPhone hangs a lot....I reall...</td>\n",
       "      <td>1</td>\n",
       "    </tr>\n",
       "    <tr>\n",
       "      <th>22289</th>\n",
       "      <td>[since, getting, iphone, 8, plus, updating, io...</td>\n",
       "      <td>@AppleSupport why since getting the iPhone 8 P...</td>\n",
       "      <td>1</td>\n",
       "    </tr>\n",
       "  </tbody>\n",
       "</table>\n",
       "<p>6469 rows × 3 columns</p>\n",
       "</div>"
      ],
      "text/plain": [
       "                                                    data  \\\n",
       "15821  [11.1, 2, still, fixed, many, bug, issues, iph...   \n",
       "15822  [got, brand, new, iphone, 8, plus, stuck, reco...   \n",
       "15823  [iphone, 6s, battery, life, completely, crappe...   \n",
       "15824  [iphone, 8, plus, problem, speakers, sound, ev...   \n",
       "15825  [iphone, 5s, keeps, dying, 40, snapchat, app, ...   \n",
       "...                                                  ...   \n",
       "22285  [iphone, trippin, mane, cause, want, go, buy, ...   \n",
       "22286  [tried, see, pic, iphone, x, showing, corner, ...   \n",
       "22287  [wanna, able, change, screen, gestures, iphone...   \n",
       "22288  [iphone, hangs, lot, ..., really, reason, ...,...   \n",
       "22289  [since, getting, iphone, 8, plus, updating, io...   \n",
       "\n",
       "                                                original  labels  \n",
       "15821  @AppleSupport 11.1.2 still hasn’t fixed many o...       1  \n",
       "15822  I’ve got a brand new @115858 iPhone 8 Plus tha...       1  \n",
       "15823  My iPhone 6S battery life has completely crapp...       1  \n",
       "15824  @AppleSupport iphone 8 plus I have a problem w...       1  \n",
       "15825  @AppleSupport iPhone 5S keeps dying on 40%+ wh...       1  \n",
       "...                                                  ...     ...  \n",
       "22285  @115858 why my iphone trippin mane, it’s cause...       1  \n",
       "22286  @AppleSupport I tried that but if you can see ...       1  \n",
       "22287  I wanna be able to change the screen gestures ...       1  \n",
       "22288  @AppleSupport My iPhone hangs a lot....I reall...       1  \n",
       "22289  @AppleSupport why since getting the iPhone 8 P...       1  \n",
       "\n",
       "[6469 rows x 3 columns]"
      ]
     },
     "execution_count": 252,
     "metadata": {},
     "output_type": "execute_result"
    }
   ],
   "source": [
    "ten_clust[ten_clust['labels'] == 1]"
   ]
  },
  {
   "cell_type": "code",
   "execution_count": 39,
   "metadata": {},
   "outputs": [
    {
     "ename": "NameError",
     "evalue": "name 'ten_clust' is not defined",
     "output_type": "error",
     "traceback": [
      "\u001b[0;31m---------------------------------------------------------------------------\u001b[0m",
      "\u001b[0;31mNameError\u001b[0m                                 Traceback (most recent call last)",
      "\u001b[0;32m<ipython-input-39-037e8d1b53ee>\u001b[0m in \u001b[0;36m<module>\u001b[0;34m\u001b[0m\n\u001b[0;32m----> 1\u001b[0;31m \u001b[0mten_clust\u001b[0m\u001b[0;34m[\u001b[0m\u001b[0mten_clust\u001b[0m\u001b[0;34m[\u001b[0m\u001b[0;34m'labels'\u001b[0m\u001b[0;34m]\u001b[0m \u001b[0;34m==\u001b[0m \u001b[0;36m2\u001b[0m\u001b[0;34m]\u001b[0m\u001b[0;34m\u001b[0m\u001b[0;34m\u001b[0m\u001b[0m\n\u001b[0m",
      "\u001b[0;31mNameError\u001b[0m: name 'ten_clust' is not defined"
     ]
    }
   ],
   "source": [
    "ten_clust[ten_clust['labels'] == 2]"
   ]
  },
  {
   "cell_type": "code",
   "execution_count": 78,
   "metadata": {},
   "outputs": [],
   "source": [
    "# We give our estimators as a list of tuples: name:function.\n",
    "estimators = [('embedding', EmbeddingTransformer()),\n",
    "              ('model', KMeans())]\n",
    "\n",
    "pipe = Pipeline(estimators, memory = cachedir)\n",
    "\n",
    "params = [\n",
    "    {'embedding': [EmbeddingTransformer()], 'model': [KMeans()],\n",
    "    'embedding__model':['glove'],'model__n_cluster': [8]},\n",
    "    {'embedding':[EmbeddingTransformer()], 'model': [LatentDirichletAllocation()],\n",
    "    'embedding_model':['glove']}\n",
    "]\n",
    "\n",
    "grid = GridSearchCV(pipe, param_grid=params)"
   ]
  },
  {
   "cell_type": "code",
   "execution_count": null,
   "metadata": {},
   "outputs": [],
   "source": [
    "fittedgrid = grid.fit(X_train, y_train)"
   ]
  },
  {
   "cell_type": "code",
   "execution_count": null,
   "metadata": {},
   "outputs": [],
   "source": [
    "fittedgrid.best_estimator_"
   ]
  },
  {
   "cell_type": "code",
   "execution_count": null,
   "metadata": {},
   "outputs": [],
   "source": [
    "fittedgrid.cv_results_['mean_test_score']"
   ]
  }
 ],
 "metadata": {
  "kernelspec": {
   "display_name": "chatbot",
   "language": "python",
   "name": "chatbot"
  },
  "language_info": {
   "codemirror_mode": {
    "name": "ipython",
    "version": 3
   },
   "file_extension": ".py",
   "mimetype": "text/x-python",
   "name": "python",
   "nbconvert_exporter": "python",
   "pygments_lexer": "ipython3",
   "version": "3.7.7"
  }
 },
 "nbformat": 4,
 "nbformat_minor": 4
}
