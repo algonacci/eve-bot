{
 "cells": [
  {
   "cell_type": "markdown",
   "metadata": {},
   "source": [
    "# Data Preparation and Backend\n",
    "So this is a place where I would like to implement what I have learned in the Natural Language Understanding modules embodied in the previous notebooks."
   ]
  },
  {
   "cell_type": "markdown",
   "metadata": {},
   "source": [
    "## RASA Training\n",
    "I try to see my training results using RASA's infrastructure first before I train it myself below.\n",
    "\n",
    "### CLI Commands\n",
    "    rasa init\n",
    "    rasa train nlu\n",
    "    rasa load nlu : (Loads the model and trains it again)\n",
    "    \n",
    "So these are some of the things that RASA uses to train their bot, and I use their model to train an intent classification and entity extraction model. Then I compared it to the work I did in the previous notebook.\n",
    "\n",
    "If you would like to see my notes on how the bot works, it's stored in `progress/rasa_notes.md`."
   ]
  },
  {
   "cell_type": "code",
   "execution_count": 102,
   "metadata": {
    "tags": []
   },
   "outputs": [
    {
     "name": "stdout",
     "output_type": "stream",
     "text": [
      "Pandas: 1.0.5\n",
      "Numpy: 1.18.5\n",
      "Pandas: 1.0.5\n",
      "Numpy: 1.18.5\n"
     ]
    },
    {
     "name": "stderr",
     "output_type": "stream",
     "text": [
      "/opt/anaconda3/envs/chatbot/lib/python3.7/site-packages/ipykernel_launcher.py:18: TqdmDeprecationWarning: This function will be removed in tqdm==5.0.0\n",
      "Please use `tqdm.notebook.tqdm` instead of `tqdm.tqdm_notebook`\n"
     ]
    },
    {
     "data": {
      "application/vnd.jupyter.widget-view+json": {
       "model_id": "1c5995f399aa436ea92f98f0966d7cb5",
       "version_major": 2,
       "version_minor": 0
      },
      "text/plain": [
       "HBox(children=(FloatProgress(value=1.0, bar_style='info', max=1.0), HTML(value='')))"
      ]
     },
     "metadata": {},
     "output_type": "display_data"
    },
    {
     "name": "stderr",
     "output_type": "stream",
     "text": [
      "/opt/anaconda3/envs/chatbot/lib/python3.7/site-packages/tqdm/std.py:668: FutureWarning: The Panel class is removed from pandas. Accessing it from the top-level namespace will also be removed in the next version\n",
      "  from pandas import Panel\n"
     ]
    },
    {
     "name": "stdout",
     "output_type": "stream",
     "text": [
      "\n"
     ]
    }
   ],
   "source": [
    "import random\n",
    "# Visualization \n",
    "import seaborn as sns\n",
    "import matplotlib.pyplot as plt\n",
    "sns.set(style=\"ticks\", color_codes=True)\n",
    "# Data science\n",
    "import pandas as pd\n",
    "print(f\"Pandas: {pd.__version__}\")\n",
    "import numpy as np\n",
    "print(f\"Numpy: {np.__version__}\") # Data science\n",
    "import pandas as pd\n",
    "print(f\"Pandas: {pd.__version__}\")\n",
    "import numpy as np\n",
    "print(f\"Numpy: {np.__version__}\")\n",
    "\n",
    "# Cool progress bars\n",
    "from tqdm import tqdm_notebook as tqdm\n",
    "tqdm().pandas()  # Enable tracking of execution progress\n",
    "\n",
    "import re\n",
    "import collections\n",
    "import yaml\n",
    "import random\n",
    "\n",
    "from IPython.core.display import display, HTML\n",
    "\n",
    "# Loading in objects\n",
    "train = pd.read_pickle('objects/train.pkl')\n",
    "\n",
    "with open(r'objects/entities.yml') as file:\n",
    "    entities = yaml.load(file, Loader=yaml.FullLoader)"
   ]
  },
  {
   "cell_type": "markdown",
   "metadata": {},
   "source": [
    "# NER"
   ]
  },
  {
   "cell_type": "code",
   "execution_count": 103,
   "metadata": {},
   "outputs": [],
   "source": [
    "# Data science\n",
    "import pandas as pd\n",
    "import numpy as np\n",
    "import sklearn\n",
    "\n",
    "# NER\n",
    "import spacy\n",
    "from spacy import displacy\n",
    "import random\n",
    "from spacy.matcher import PhraseMatcher\n",
    "from pathlib import Path\n",
    "\n",
    "# Visualization\n",
    "import seaborn as sns\n",
    "import matplotlib.pyplot as plt\n",
    "\n",
    "sns.set(style=\"ticks\", color_codes=True)\n",
    "import collections\n",
    "import yaml\n",
    "import pickle\n",
    "import streamlit as st\n",
    "\n",
    "from IPython.core.display import display, HTML\n",
    "\n",
    "# Reading back in intents\n",
    "with open(r\"objects/intents.yml\") as file:\n",
    "    intents = yaml.load(file, Loader=yaml.FullLoader)\n",
    "\n",
    "# Reading in training data\n",
    "train = pd.read_pickle(\"objects/train.pkl\")\n",
    "\n",
    "# Reading in processed data\n",
    "processed = pd.read_pickle(\"objects/processed.pkl\")\n",
    "\n",
    "# Read our trained models back in\n",
    "hardware_nlp = pickle.load(open(\"models/hardware_big_nlp.pkl\", \"rb\"))\n",
    "app_nlp = pickle.load(open(\"models/app_big_nlp.pkl\", \"rb\"))\n",
    "\n",
    "# Testing out the results\n",
    "test_text_hardware = \"My iphone sucks but my macbook pro doesnt. Why couldnt they make\\\n",
    "            my iphone better. At least I could use airpods with it. Mcabook pro is\\\n",
    "            the best! Apple watches too. Maybe if they made the iphone more like the\\\n",
    "            ipad or my TV it would be alright. Mac. Ugh.\"\n",
    "test_text_app = \"My top favorite apps include the facetime application, the apple books on my iphone, and the podcasts\\\n",
    "        application. Sometimes instead of spotify I would listen to apple music. My macbook is running\\\n",
    "        Catalina btw.\"\n",
    "\n",
    "\n",
    "def extract_hardware(user_input, visualize=False):\n",
    "    \"\"\" Takes as input the user input, and outputs all the entities extracted. Also made a toggler for visualizing with displacy.\"\"\"\n",
    "    # Loading it in\n",
    "    hardware_nlp = pickle.load(open(\"models/hardware_big_nlp.pkl\", \"rb\"))\n",
    "    doc = hardware_nlp(user_input)\n",
    "\n",
    "    extracted_entities = []\n",
    "\n",
    "    # These are the objects you can take out\n",
    "    for ent in doc.ents:\n",
    "        extracted_entities.append((ent.text, ent.start_char, ent.end_char, ent.label_))\n",
    "\n",
    "    # If you want to visualize\n",
    "    if visualize == True:\n",
    "        # Visualizing with displaCy how the document had it's entity tagged (runs a server)\n",
    "        colors = {\"HARDWARE\": \"linear-gradient(90deg, #aa9cfc, #fc9ce7)\"}\n",
    "        options = {\"ents\": [\"HARDWARE\"], \"colors\": colors}\n",
    "        html = displacy.render(doc, style = 'ent', options = options)\n",
    "        display(HTML(html));\n",
    "\n",
    "    return extracted_entities\n",
    "\n",
    "\n",
    "def extract_app(user_input, visualize=False):\n",
    "    \"\"\" Takes as input the user input, and outputs all the entities extracted. Also made a toggler for visualizing with displacy.\"\"\"\n",
    "    # Loading it in\n",
    "    app_nlp = pickle.load(open(\"models/app_big_nlp.pkl\", \"rb\"))\n",
    "    doc = app_nlp(user_input)\n",
    "\n",
    "    extracted_entities = []\n",
    "\n",
    "    # These are the objects you can take out\n",
    "    for ent in doc.ents:\n",
    "        extracted_entities.append((ent.text, ent.start_char, ent.end_char, ent.label_))\n",
    "\n",
    "    # If you want to visualize\n",
    "    if visualize == True:\n",
    "        # Visualizing with displaCy how the document had it's entity tagged (runs a server)\n",
    "        colors = {\"APP\": \"linear-gradient(90deg, #aa9cfc, #fc9ce7)\"}\n",
    "        options = {\"ents\": [\"APP\"], \"colors\": colors}\n",
    "        html = displacy.render(doc, style = 'ent', options = options)\n",
    "        display(HTML(html));\n",
    "    return extracted_entities\n",
    "\n",
    "\n",
    "# Test functionality\n",
    "# print(extract_app(test_text_app))"
   ]
  },
  {
   "cell_type": "markdown",
   "metadata": {},
   "source": [
    "# Actions"
   ]
  },
  {
   "cell_type": "code",
   "execution_count": 133,
   "metadata": {},
   "outputs": [],
   "source": [
    "import random\n",
    "# Visualization\n",
    "import seaborn as sns\n",
    "import matplotlib.pyplot as plt\n",
    "sns.set(style=\"ticks\", color_codes=True)\n",
    "# Data science\n",
    "import pandas as pd\n",
    "import numpy as np\n",
    "import re\n",
    "import collections\n",
    "import yaml\n",
    "import random\n",
    "\n",
    "# Loading in objects\n",
    "train = pd.read_pickle(\"objects/train.pkl\")\n",
    "\n",
    "with open(r\"objects/entities.yml\") as file:\n",
    "    entities = yaml.load(file, Loader=yaml.FullLoader)\n",
    "\n",
    "# Making a class to define all the actions to do when you are\n",
    "class Actions:\n",
    "    memory = {'hardware': [], 'app': []}\n",
    "    def __init__(self):\n",
    "        pass\n",
    "\n",
    "    # If greet\n",
    "    def utter_greet(self):\n",
    "        # Storing the bank of responses\n",
    "        return random.choice(\n",
    "            [\n",
    "                \"Hi! My name is EVE. How may I assist you today?\",\n",
    "                \"Hello. How may I be of help?\",\n",
    "            ]\n",
    "        )\n",
    "\n",
    "    # If goodbye\n",
    "    def utter_goodbye(self):\n",
    "        reaffirm = [\"Is there anything else I could help you with?\"]\n",
    "        goodbye = [\n",
    "            \"Thank you for your time. Have a nice day!\",\n",
    "            \"Glad I could be of help, have a nice day!\",\n",
    "        ]\n",
    "        return random.choice(goodbye)\n",
    "\n",
    "    # Speak to representative\n",
    "    def link_to_human(self):\n",
    "        return random.choice([\"Alright. Let me direct you to a representative!\"])\n",
    "\n",
    "    def battery(self, entity):\n",
    "        if entity == 'none':\n",
    "            return random.choice(['What device are you using?', 'May I know what device you are using?'])\n",
    "        else:\n",
    "            return random.choice([\"I'm sorry to hear about there. You can check the battery health in your\\\n",
    "                                  settings. If it is below 75%, please consider getting it replaced at your local apple store\"])\n",
    "\n",
    "    def forgot_pass(self):\n",
    "        reset_appleid = 'https://support.apple.com/en-us/HT201355'\n",
    "        return f\"I'm sorry to hear about that, go to {reset_appleid}\"\n",
    "\n",
    "    def payment(self):\n",
    "        return \"Login with your Apple ID and update your payment method\"\n",
    "\n",
    "    def challenge_robot(self):\n",
    "        return random.choice(\n",
    "            [\n",
    "                \"You're funny. Of course I am a robot.\",\n",
    "                \"Yes, and I was designed by Matthew to assist you.\",\n",
    "            ]\n",
    "        )\n",
    "\n",
    "    def update(self, entity):\n",
    "        # Affirm hardware\n",
    "        if entity == 'none':\n",
    "            return random.choice(['What device are you using?', 'May I know what device you are using?'])\n",
    "        elif hardware == 'macbook pro':\n",
    "            return random.choice(['Find details on how to update your macbook pro here: https://support.apple.com/en-us/HT201541'])\n",
    "        else:\n",
    "            return random.choice([\"I'm sorry to hear about there. You can check the battery health in your\\\n",
    "                                  settings. If it is below 75%, please consider getting it replaced at your local apple store\"])\n",
    "        \n",
    "    def info(self, entity):\n",
    "        if entity == 'macbook pro':\n",
    "            return random.choice(['Okay! Right now we have 13 and 16 inch macbook pros. Please find more info here: https://www.apple.com/macbook-pro/'])\n",
    "        if entity == 'ipad':\n",
    "            return random.choice(['We have a few options for iPads ranging from '])\n",
    "        if entity == 'none':\n",
    "            return random.choice(['What would you like to get info on good sir?'])\n"
   ]
  },
  {
   "cell_type": "code",
   "execution_count": 141,
   "metadata": {},
   "outputs": [
    {
     "data": {
      "text/plain": [
       "'Okay! Right now we have 13 and 16 inch macbook pros. Please find more info here: https://www.apple.com/macbook-pro/'"
      ]
     },
     "execution_count": 141,
     "metadata": {},
     "output_type": "execute_result"
    }
   ],
   "source": [
    "a = Actions()\n",
    "a.payment('macbook pro')"
   ]
  },
  {
   "cell_type": "markdown",
   "metadata": {},
   "source": [
    "# Initialize Intent Classification"
   ]
  },
  {
   "cell_type": "code",
   "execution_count": 98,
   "metadata": {},
   "outputs": [],
   "source": [
    "import re\n",
    "from sklearn.preprocessing import OneHotEncoder\n",
    "from keras.preprocessing.text import Tokenizer\n",
    "from keras.preprocessing.sequence import pad_sequences\n",
    "\n",
    "# Load intent classification model\n",
    "from keras.models import load_model\n",
    "\n",
    "import pandas as pd\n",
    "import numpy as np\n",
    "\n",
    "model = load_model(\"models/intent_classification.h5\")\n",
    "\n",
    "# Reading in training data\n",
    "train = pd.read_pickle(\"objects/train.pkl\")\n",
    "# Functions required for initialization\n",
    "get_max_token_length = lambda series: len(max(series, key=len))\n",
    "\n",
    "\n",
    "def make_tokenizer(docs, filters='!\"#$%&()*+,-./:;<=>?@[\\]^_`{|}~'):\n",
    "    t = Tokenizer(filters=filters)\n",
    "    t.fit_on_texts(docs)\n",
    "    return t\n",
    "\n",
    "\n",
    "pad_tweets = lambda encoded_doc, max_length: pad_sequences(\n",
    "    encoded_doc, maxlen=max_length, padding=\"post\"\n",
    ")\n",
    "\n",
    "# Initializing required variables\n",
    "\n",
    "max_token_length = get_max_token_length(train[\"Utterance\"])\n",
    "token = make_tokenizer(train[\"Utterance\"])\n",
    "unique_intents = sorted(list(set(train[\"Intent\"])))\n",
    "\n",
    "\n",
    "def infer_intent(text):\n",
    "    \"\"\" Takes as input an utterance an outputs a dictionary of intent probabilities \"\"\"\n",
    "    # Making sure that my text is a string\n",
    "    string_text = re.sub(r\"[^ a-z A-Z 0-9]\", \" \", text)\n",
    "\n",
    "    # Converting to Keras form\n",
    "    keras_text = token.texts_to_sequences(string_text)\n",
    "\n",
    "    # Check for and remove unknown words - [] indicates that word is unknown\n",
    "    if [] in keras_text:\n",
    "        # Filtering out\n",
    "        keras_text = list(filter(None, keras_text))\n",
    "    keras_text = np.array(keras_text).reshape(1, len(keras_text))\n",
    "    x = pad_tweets(keras_text, max_token_length)\n",
    "\n",
    "    # Generate class probability predictions\n",
    "    # You're using the overfit model to predict!\n",
    "    intent_predictions = np.array(model.predict(x)[0])\n",
    "\n",
    "    # Match probability predictions with intents\n",
    "    pairs = list(zip(unique_intents, intent_predictions))\n",
    "    dict_pairs = dict(pairs)\n",
    "\n",
    "    # Output dictionary\n",
    "    output = {\n",
    "        k: v\n",
    "        for k, v in sorted(dict_pairs.items(), key=lambda item: item[1], reverse=True)\n",
    "    }\n",
    "\n",
    "    return string_text, output\n",
    "\n",
    "\n",
    "string_text, conf_dict = infer_intent(\"need info\")"
   ]
  },
  {
   "cell_type": "markdown",
   "metadata": {},
   "source": [
    "# Deploy"
   ]
  },
  {
   "cell_type": "code",
   "execution_count": 149,
   "metadata": {
    "scrolled": false
   },
   "outputs": [
    {
     "data": {
      "image/png": "[encoded data removed]",
      "text/plain": [
       "<Figure size 432x288 with 1 Axes>"
      ]
     },
     "metadata": {},
     "output_type": "display_data"
    },
    {
     "data": {
      "text/html": [
       "<span class=\"tex2jax_ignore\"><div class=\"entities\" style=\"line-height: 2.5; direction: ltr\">hi \n",
       "<mark class=\"entity\" style=\"background: linear-gradient(90deg, #aa9cfc, #fc9ce7); padding: 0.45em 0.6em; margin: 0 0.25em; line-height: 1; border-radius: 0.35em;\">\n",
       "    macbook pro\n",
       "    <span style=\"font-size: 0.8em; font-weight: bold; line-height: 1; border-radius: 0.35em; text-transform: uppercase; vertical-align: middle; margin-left: 0.5rem\">HARDWARE</span>\n",
       "</mark>\n",
       "</div></span>"
      ],
      "text/plain": [
       "<IPython.core.display.HTML object>"
      ]
     },
     "metadata": {},
     "output_type": "display_data"
    },
    {
     "data": {
      "text/plain": [
       "<IPython.core.display.HTML object>"
      ]
     },
     "metadata": {},
     "output_type": "display_data"
    },
    {
     "name": "stdout",
     "output_type": "stream",
     "text": [
      "[('macbook pro', 3, 14, 'HARDWARE')]\n"
     ]
    },
    {
     "name": "stderr",
     "output_type": "stream",
     "text": [
      "/opt/anaconda3/envs/chatbot/lib/python3.7/site-packages/spacy/displacy/__init__.py:189: UserWarning: [W006] No entities to visualize found in Doc object. If this is surprising to you, make sure the Doc was processed using a model that supports named entity recognition, and check the `doc.ents` property manually if necessary.\n",
      "  warnings.warn(Warnings.W006)\n"
     ]
    },
    {
     "data": {
      "text/html": [
       "<span class=\"tex2jax_ignore\"><div class=\"entities\" style=\"line-height: 2.5; direction: ltr\">hi macbook pro</div></span>"
      ],
      "text/plain": [
       "<IPython.core.display.HTML object>"
      ]
     },
     "metadata": {},
     "output_type": "display_data"
    },
    {
     "data": {
      "text/plain": [
       "<IPython.core.display.HTML object>"
      ]
     },
     "metadata": {},
     "output_type": "display_data"
    },
    {
     "name": "stdout",
     "output_type": "stream",
     "text": [
      "[]\n"
     ]
    },
    {
     "data": {
      "text/html": [
       "<div>\n",
       "<style scoped>\n",
       "    .dataframe tbody tr th:only-of-type {\n",
       "        vertical-align: middle;\n",
       "    }\n",
       "\n",
       "    .dataframe tbody tr th {\n",
       "        vertical-align: top;\n",
       "    }\n",
       "\n",
       "    .dataframe thead th {\n",
       "        text-align: right;\n",
       "    }\n",
       "</style>\n",
       "<table border=\"1\" class=\"dataframe\">\n",
       "  <thead>\n",
       "    <tr style=\"text-align: right;\">\n",
       "      <th></th>\n",
       "      <th>macbook pro</th>\n",
       "      <th>iphone</th>\n",
       "      <th>iphones</th>\n",
       "      <th>mac</th>\n",
       "      <th>ipad</th>\n",
       "      <th>watch</th>\n",
       "      <th>TV</th>\n",
       "      <th>airpods</th>\n",
       "      <th>app store</th>\n",
       "      <th>garageband</th>\n",
       "      <th>...</th>\n",
       "      <th>payment</th>\n",
       "      <th>location</th>\n",
       "      <th>battery</th>\n",
       "      <th>speak_representative</th>\n",
       "      <th>forgot_password</th>\n",
       "      <th>info</th>\n",
       "      <th>challenge_robot</th>\n",
       "      <th>greeting</th>\n",
       "      <th>update</th>\n",
       "      <th>goodbye</th>\n",
       "    </tr>\n",
       "  </thead>\n",
       "  <tbody>\n",
       "    <tr>\n",
       "      <th>0</th>\n",
       "      <td>0.0</td>\n",
       "      <td>0.0</td>\n",
       "      <td>0.0</td>\n",
       "      <td>0.0</td>\n",
       "      <td>0.0</td>\n",
       "      <td>0.0</td>\n",
       "      <td>0.0</td>\n",
       "      <td>0.0</td>\n",
       "      <td>0.0</td>\n",
       "      <td>0.0</td>\n",
       "      <td>...</td>\n",
       "      <td>0.000000</td>\n",
       "      <td>0.000000</td>\n",
       "      <td>0.000000</td>\n",
       "      <td>0.000000</td>\n",
       "      <td>0.000000</td>\n",
       "      <td>0.000000</td>\n",
       "      <td>0.000000</td>\n",
       "      <td>0.000000</td>\n",
       "      <td>0.000000</td>\n",
       "      <td>0.00000</td>\n",
       "    </tr>\n",
       "    <tr>\n",
       "      <th>1</th>\n",
       "      <td>1.0</td>\n",
       "      <td>0.0</td>\n",
       "      <td>0.0</td>\n",
       "      <td>0.0</td>\n",
       "      <td>0.0</td>\n",
       "      <td>0.0</td>\n",
       "      <td>0.0</td>\n",
       "      <td>0.0</td>\n",
       "      <td>0.0</td>\n",
       "      <td>0.0</td>\n",
       "      <td>...</td>\n",
       "      <td>0.658146</td>\n",
       "      <td>0.167895</td>\n",
       "      <td>0.136584</td>\n",
       "      <td>0.010097</td>\n",
       "      <td>0.010085</td>\n",
       "      <td>0.004833</td>\n",
       "      <td>0.001305</td>\n",
       "      <td>0.000508</td>\n",
       "      <td>0.000272</td>\n",
       "      <td>0.00008</td>\n",
       "    </tr>\n",
       "  </tbody>\n",
       "</table>\n",
       "<p>2 rows × 30 columns</p>\n",
       "</div>"
      ],
      "text/plain": [
       "   macbook pro  iphone  iphones  mac  ipad  watch   TV  airpods  app store  \\\n",
       "0          0.0     0.0      0.0  0.0   0.0    0.0  0.0      0.0        0.0   \n",
       "1          1.0     0.0      0.0  0.0   0.0    0.0  0.0      0.0        0.0   \n",
       "\n",
       "   garageband  ...   payment  location   battery  speak_representative  \\\n",
       "0         0.0  ...  0.000000  0.000000  0.000000              0.000000   \n",
       "1         0.0  ...  0.658146  0.167895  0.136584              0.010097   \n",
       "\n",
       "   forgot_password      info  challenge_robot  greeting    update  goodbye  \n",
       "0         0.000000  0.000000         0.000000  0.000000  0.000000  0.00000  \n",
       "1         0.010085  0.004833         0.001305  0.000508  0.000272  0.00008  \n",
       "\n",
       "[2 rows x 30 columns]"
      ]
     },
     "metadata": {},
     "output_type": "display_data"
    },
    {
     "name": "stdout",
     "output_type": "stream",
     "text": [
      "[('payment', 0.6581464409828186)]\n",
      "max_intentpayment\n",
      "macbook pro\n",
      "Okay! Right now we have 13 and 16 inch macbook pros. Please find more info here: https://www.apple.com/macbook-pro/\n"
     ]
    }
   ],
   "source": [
    "def main():\n",
    "    a = Actions()\n",
    "    a.utter_greet()\n",
    "    user_input = 'hi macbook pro'# input(\"Tell EVE something!\")\n",
    "    intents, hardware, app = initialize(user_input)\n",
    "    user_input, prediction = intents\n",
    "    # Initializing dialogue history\n",
    "    columns = entities[\"hardware\"] + entities[\"apps\"] + list(prediction.keys())\n",
    "    history_df = pd.DataFrame(dict(zip(columns, np.zeros(len(columns)))), index=[0])\n",
    "    \n",
    "    # Converting to dialogue history entry, then appending it to a dataframe\n",
    "    history_df = history_df.append(to_row(prediction, hardware, app), ignore_index = True)\n",
    "    \n",
    "    display(history_df)\n",
    "    \n",
    "    # Mapping action\n",
    "    max_intent, extracted_entities = action_mapper(history_df)\n",
    "    \n",
    "    entity = extracted_entities[0]\n",
    "    \n",
    "    if max_intent == 'greeting':\n",
    "        print(a.greeting())\n",
    "    elif max_intent == 'info':\n",
    "        print(a.info())\n",
    "    elif max_intent == 'update':\n",
    "        print(a.update())\n",
    "    elif max_intent == 'forgot_password':\n",
    "        print(a.forgot_pass())\n",
    "    elif max_intent == 'challenge_robot':\n",
    "        print(a.challenge_robot())\n",
    "    elif max_intent == 'goodbye':\n",
    "        print(a.utter_goodbye())\n",
    "    elif max_intent == 'payment':\n",
    "        print(a.payment(entity))\n",
    "    \n",
    "\n",
    "def to_row(prediction, hardware, app):\n",
    "    row = []\n",
    "    \n",
    "    # Hardware\n",
    "    if hardware == []:\n",
    "        for i in range(len(entities['hardware'])):\n",
    "            row.append(0)\n",
    "    else:\n",
    "        for entity in entities['hardware']:\n",
    "            if hardware[0][0] == entity:\n",
    "                row.append(1)\n",
    "            else:\n",
    "                row.append(0)\n",
    "    \n",
    "    # App\n",
    "    if app == []:\n",
    "        for i in range(len(entities['apps'])):\n",
    "            row.append(0)\n",
    "    else:\n",
    "        for entity in entities['apps']:\n",
    "            if app[0][0] == entity:\n",
    "                row.append(1)\n",
    "            else:\n",
    "                row.append(0)\n",
    "    \n",
    "    # Prediction - inserting all the probabilities\n",
    "    for i in prediction.items():\n",
    "        row.append(i[1])\n",
    "    \n",
    "    # Converting to dataframe\n",
    "    columns = entities[\"hardware\"] + entities[\"apps\"] + list(prediction.keys())\n",
    "    df = pd.DataFrame(dict(zip(columns, row)), index = [0])\n",
    "    \n",
    "    return df\n",
    "    \n",
    "    \n",
    "def action_mapper(history_df):\n",
    "    prediction_probs = history_df.iloc[-1:, -len(set(train['Intent'])):]\n",
    "    predictions = [*zip(list(prediction_probs.columns), list(prediction_probs.values[0]))]\n",
    "    \n",
    "    # Finding the entities\n",
    "    entities = history_df.iloc[-1:, :-len(set(train['Intent']))]\n",
    "    mask = [True if i == 1.0 else False for i in list(entities.values[0])]\n",
    "    extracted_entities = [b for a, b in zip(mask, list(entities.columns)) if a]\n",
    "    \n",
    "    # Finding the max intent by sorting\n",
    "    predictions.sort(key=lambda x: x[1])\n",
    "    # Taking the max\n",
    "    max_tuple = predictions[-1:]\n",
    "    # Max intent\n",
    "    print(max_tuple)\n",
    "    max_intent = max_tuple[0][0]\n",
    "    print(f'max_intent{max_intent}')\n",
    "    \n",
    "    entity = extracted_entities[0]\n",
    "    print(entity)\n",
    "    \n",
    "    return (max_intent, extracted_entities)\n",
    "    \n",
    "\n",
    "\n",
    "def initialize(user_input):\n",
    "    \"\"\" Takes the user input and returns the entity representation and predicted intent\"\"\"\n",
    "    # Intent classification\n",
    "    intents = infer_intent(user_input)\n",
    "    # Further unpacking\n",
    "    user_input, pred = intents\n",
    "    pred = {k: round(float(v), 3) for k, v in pred.items()}\n",
    "\n",
    "    # Visualizing intent classification\n",
    "    g = sns.barplot(\n",
    "        list(pred.keys()),\n",
    "        list(pred.values()),\n",
    "        palette=sns.cubehelix_palette(8, reverse=True),\n",
    "    )\n",
    "    g.set_xticklabels(g.get_xticklabels(), rotation=90)\n",
    "    plt.show()\n",
    "    \n",
    "    # NER\n",
    "    hardware = extract_hardware(user_input, visualize=True)\n",
    "    print(hardware)\n",
    "    \n",
    "    app = extract_app(user_input, visualize=True)\n",
    "    print(app)\n",
    "    \n",
    "    if hardware == []:\n",
    "        hardware = 'none'\n",
    "    \n",
    "    if app == []:\n",
    "        app = 'none'\n",
    "\n",
    "    return (intents, hardware, app)\n",
    "\n",
    "if __name__ == \"__main__\":\n",
    "    main()"
   ]
  },
  {
   "cell_type": "code",
   "execution_count": 107,
   "metadata": {},
   "outputs": [
    {
     "data": {
      "text/plain": [
       "['__class__',\n",
       " '__delattr__',\n",
       " '__dict__',\n",
       " '__dir__',\n",
       " '__doc__',\n",
       " '__eq__',\n",
       " '__format__',\n",
       " '__ge__',\n",
       " '__getattribute__',\n",
       " '__gt__',\n",
       " '__hash__',\n",
       " '__init__',\n",
       " '__init_subclass__',\n",
       " '__le__',\n",
       " '__lt__',\n",
       " '__module__',\n",
       " '__ne__',\n",
       " '__new__',\n",
       " '__reduce__',\n",
       " '__reduce_ex__',\n",
       " '__repr__',\n",
       " '__setattr__',\n",
       " '__sizeof__',\n",
       " '__str__',\n",
       " '__subclasshook__',\n",
       " '__weakref__',\n",
       " 'battery',\n",
       " 'challenge_robot',\n",
       " 'forgot_pass',\n",
       " 'info',\n",
       " 'link_to_human',\n",
       " 'memory',\n",
       " 'payment',\n",
       " 'update',\n",
       " 'utter_goodbye',\n",
       " 'utter_greet']"
      ]
     },
     "execution_count": 107,
     "metadata": {},
     "output_type": "execute_result"
    }
   ],
   "source": [
    "dir(Actions)"
   ]
  },
  {
   "cell_type": "markdown",
   "metadata": {},
   "source": [
    "# EVE Web API\n",
    "Got a front end design over here: [example](https://github.com/sahil-rajput/Candice-YourPersonalChatBot)"
   ]
  },
  {
   "cell_type": "code",
   "execution_count": null,
   "metadata": {},
   "outputs": [],
   "source": [
    "import flask as Flask"
   ]
  },
  {
   "cell_type": "markdown",
   "metadata": {},
   "source": [
    "# Coding up a bot with Python"
   ]
  },
  {
   "cell_type": "markdown",
   "metadata": {},
   "source": [
    "### Inbound and outbound"
   ]
  },
  {
   "cell_type": "code",
   "execution_count": 10,
   "metadata": {
    "tags": []
   },
   "outputs": [],
   "source": [
    "# Define variables\n",
    "name = \"Greg\"\n",
    "weather = \"cloudy\"\n",
    "\n",
    "# Echo bot\n",
    "\n",
    "# Create templates\n",
    "bot_template = \"EVE : {0}\"\n",
    "user_template = \"USER : {0}\"\n",
    "\n",
    "# Define a dictionary with the predefined responses\n",
    "responses = {\n",
    "  \"what's your name?\": \"my name is {0}\".format(name),\n",
    "  \"what's today's weather?\": \"the weather is {0}\".format(weather),\n",
    "  \"default\": \"default message\"\n",
    "}\n",
    "\n",
    "# Define a dictionary containing a list of responses for each message\n",
    "responses = {\n",
    "  \"what's your name?\": [\n",
    "      \"my name is {0}\".format(name),\n",
    "      \"they call me {0}\".format(name),\n",
    "      \"I go by {0}\".format(name)\n",
    "   ],\n",
    "  \"what's today's weather?\": [\n",
    "      \"the weather is {0}\".format(weather),\n",
    "      \"it's {0} today\".format(weather)\n",
    "    ],\n",
    "  \"default\": [\"default message\"]\n",
    "}\n",
    "responses = {'statement': ['tell me more!', 'why do you think that?', 'how long have you felt this way?', 'I find that extremely interesting', 'can you back that up?', 'oh wow!', ':)'], 'question': [\"I don't know :(\", 'you tell me!']}\n",
    "\n",
    "# Return the matching response if there is one, default otherwise\n",
    "def respond(message):\n",
    "    # Check if the message is in the responses\n",
    "    if message in responses:\n",
    "        # Return the matching message\n",
    "        bot_message = responses[message]\n",
    "    else:\n",
    "        # Return the \"default\" message\n",
    "        bot_message = responses[\"default\"]\n",
    "    return bot_message\n",
    "\n",
    "# Use random.choice() to choose a matching response\n",
    "def respond(message):\n",
    "    if message in responses:\n",
    "        bot_message = random.choice(responses[message])\n",
    "    else:\n",
    "        bot_message = random.choice(responses[\"default\"])\n",
    "    return bot_message\n",
    "\n",
    "def respond(message):\n",
    "    # Check for a question mark\n",
    "    if message.endswith(\"?\"):\n",
    "        # Return a random question\n",
    "        return random.choice(responses[\"question\"])\n",
    "    # Return a random statement\n",
    "    return random.choice(responses[\"statement\"])\n",
    "\n",
    "# Define a function that sends a message to the bot: send_message\n",
    "def send_message(message):\n",
    "    # Print user_template including the user_message\n",
    "    print(user_template.format(message))\n",
    "    # Get the bot's response to the message\n",
    "    response = respond(message)\n",
    "    # Print the bot template including the bot's response.\n",
    "    print(bot_template.format(response))"
   ]
  },
  {
   "cell_type": "markdown",
   "metadata": {},
   "source": [
    "### Text Scraping"
   ]
  },
  {
   "cell_type": "code",
   "execution_count": 11,
   "metadata": {
    "tags": []
   },
   "outputs": [
    {
     "name": "stdout",
     "output_type": "stream",
     "text": [
      "your last birthday\n",
      "when me went to florida\n",
      "i had your own castle\n"
     ]
    }
   ],
   "source": [
    "rules = {'do you think (.*)': ['if {0}? Absolutely.', 'No chance'], 'do you remember (.*)': ['Did you think I would forget {0}', \"Why haven't you been able to forget {0}\", 'What about {0}', 'Yes .. and?'], 'I want (.*)': ['What would it mean if you got {0}', 'Why do you want {0}', \"What's stopping you from getting {0}\"], 'if (.*)': [\"Do you really think it's likely that {0}\", 'Do you wish that {0}', 'What do you think about {0}', 'Really--if {0}']}\n",
    "\n",
    "# Text processing\n",
    "\n",
    "# Define replace_pronouns()\n",
    "def replace_pronouns(message):\n",
    "\n",
    "    message = message.lower()\n",
    "    if 'me' in message:\n",
    "        # Replace 'me' with 'you'\n",
    "        return re.sub('me', 'you', message)\n",
    "    if 'my' in message:\n",
    "        # Replace 'my' with 'your'\n",
    "        return re.sub('my', 'your', message)\n",
    "    if 'your' in message:\n",
    "        # Replace 'your' with 'my'\n",
    "        return re.sub('your', 'my', message)\n",
    "    if 'you' in message:\n",
    "        # Replace 'you' with 'me'\n",
    "        return re.sub('you', 'me', message)\n",
    "\n",
    "    return message\n",
    "\n",
    "print(replace_pronouns(\"my last birthday\"))\n",
    "print(replace_pronouns(\"when you went to Florida\"))\n",
    "print(replace_pronouns(\"I had my own castle\"))\n",
    "\n",
    "# Define match_rule()\n",
    "def match_rule(rules, message):\n",
    "    response, phrase = \"default\", None\n",
    "    \n",
    "    # Iterate over the rules dictionary\n",
    "    for pattern, responses in rules.items():\n",
    "        # Create a match object\n",
    "        match = re.search(pattern, message)\n",
    "        if match is not None:\n",
    "            # Choose a random response\n",
    "            response = random.choice(responses)\n",
    "            if '{0}' in response:\n",
    "                phrase = match.group(1)\n",
    "    # Return the response and phrase\n",
    "    return response.format(phrase)"
   ]
  },
  {
   "cell_type": "code",
   "execution_count": 12,
   "metadata": {
    "scrolled": true,
    "tags": []
   },
   "outputs": [
    {
     "name": "stdout",
     "output_type": "stream",
     "text": [
      "USER : hello\n",
      "EVE : how long have you felt this way?\n",
      "USER : what's today's weather?\n",
      "EVE : I don't know :(\n",
      "USER : I love building chatbots\n",
      "EVE : can you back that up?\n",
      "Why haven't you been able to forget your last birthday\n",
      "USER : do you remember your last birthday\n",
      "EVE : can you back that up?\n",
      "USER : do you think humans should be worried about AI\n",
      "EVE : :)\n",
      "USER : I want a robot friend\n",
      "EVE : tell me more!\n",
      "USER : what if you could be anything you wanted\n",
      "EVE : oh wow!\n"
     ]
    }
   ],
   "source": [
    "# Send a message to the bot\n",
    "send_message(\"hello\")\n",
    "# Send messages ending in a question mark\n",
    "send_message(\"what's today's weather?\")\n",
    "# Send messages which don't end with a question mark\n",
    "send_message(\"I love building chatbots\")\n",
    "respond('hello')\n",
    "\n",
    "# Test match_rule\n",
    "print(match_rule(rules, \"do you remember your last birthday\"))\n",
    "\n",
    "# Send the messages\n",
    "send_message(\"do you remember your last birthday\")\n",
    "send_message(\"do you think humans should be worried about AI\")\n",
    "send_message(\"I want a robot friend\")\n",
    "send_message(\"what if you could be anything you wanted\")"
   ]
  },
  {
   "cell_type": "code",
   "execution_count": null,
   "metadata": {},
   "outputs": [],
   "source": [
    "class Respond():\n",
    "    "
   ]
  }
 ],
 "metadata": {
  "kernelspec": {
   "display_name": "chatbot",
   "language": "python",
   "name": "chatbot"
  },
  "language_info": {
   "codemirror_mode": {
    "name": "ipython",
    "version": 3
   },
   "file_extension": ".py",
   "mimetype": "text/x-python",
   "name": "python",
   "nbconvert_exporter": "python",
   "pygments_lexer": "ipython3",
   "version": "3.7.7"
  }
 },
 "nbformat": 4,
 "nbformat_minor": 4
}
