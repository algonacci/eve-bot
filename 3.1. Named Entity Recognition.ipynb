{
 "cells": [
  {
   "cell_type": "markdown",
   "metadata": {},
   "source": [
    "# Named Entity Recognition\n",
    "The chatbot should also be able, based on the intent, to label entities that it stores in it's dialog management so that it's replies are more accurate. This notebook is where for every Tweet, I try to extract the entities. This should be added to my pipeline later.\n",
    "\n",
    "More particularly, from the utterance as input, I want the output to be all the entities in that utterance stored in a dictionary."
   ]
  },
  {
   "cell_type": "code",
   "execution_count": 4,
   "metadata": {},
   "outputs": [
    {
     "name": "stdout",
     "output_type": "stream",
     "text": [
      "Pandas: 1.0.5\n",
      "Numpy: 1.18.5\n",
      "Tensorflow: 2.2.0\n",
      "Keras: 2.3.0-tf\n",
      "Sklearn: 0.23.1\n",
      "spaCy: 2.3.0\n"
     ]
    },
    {
     "name": "stderr",
     "output_type": "stream",
     "text": [
      "/opt/anaconda3/envs/chatbot/lib/python3.7/site-packages/ipykernel_launcher.py:26: TqdmDeprecationWarning: This function will be removed in tqdm==5.0.0\n",
      "Please use `tqdm.notebook.tqdm` instead of `tqdm.tqdm_notebook`\n"
     ]
    },
    {
     "data": {
      "application/vnd.jupyter.widget-view+json": {
       "model_id": "feda0d1be4bd4ba8b60737d7e29a5cfe",
       "version_major": 2,
       "version_minor": 0
      },
      "text/plain": [
       "HBox(children=(FloatProgress(value=1.0, bar_style='info', max=1.0), HTML(value='')))"
      ]
     },
     "metadata": {},
     "output_type": "display_data"
    },
    {
     "name": "stdout",
     "output_type": "stream",
     "text": [
      "\n"
     ]
    },
    {
     "name": "stderr",
     "output_type": "stream",
     "text": [
      "/opt/anaconda3/envs/chatbot/lib/python3.7/site-packages/tqdm/std.py:668: FutureWarning: The Panel class is removed from pandas. Accessing it from the top-level namespace will also be removed in the next version\n",
      "  from pandas import Panel\n"
     ]
    },
    {
     "name": "stdout",
     "output_type": "stream",
     "text": [
      "                                           Utterance   Intent\n",
      "0  [could, drain, beer, quickly, io, update, drai...  Battery\n",
      "1  [annnd, release, best, update, yet, new, emoji...   Update\n",
      "2        [iphone, connect, wifi, anymore, since, io]   iphone\n",
      "3  [able, update, facebook, status, via, siri, io...      app\n",
      "4  [run, high, sierra, can, not, view, iphone, x,...      mac\n",
      "\n",
      "intents:\n",
      "{'battery': ['battery', 'power'], 'forgot_password': ['password', 'account', 'login'], 'lost_replace': ['replace', 'lost', 'gone', 'missing', 'trade', 'trade-in'], 'payment': ['credit', 'card', 'payment', 'pay'], 'repair': ['repair', 'fix', 'broken'], 'update': ['update']}\n"
     ]
    }
   ],
   "source": [
    "# Data science\n",
    "import pandas as pd\n",
    "print(f\"Pandas: {pd.__version__}\")\n",
    "import numpy as np\n",
    "print(f\"Numpy: {np.__version__}\")\n",
    "\n",
    "# Deep Learning \n",
    "import tensorflow as tf\n",
    "print(f\"Tensorflow: {tf.__version__}\")\n",
    "from tensorflow import keras\n",
    "print(f\"Keras: {keras.__version__}\")\n",
    "import sklearn\n",
    "print(f\"Sklearn: {sklearn.__version__}\")\n",
    "\n",
    "# NER\n",
    "import spacy\n",
    "print(f'spaCy: {spacy.__version__}')\n",
    "\n",
    "# Visualization \n",
    "import seaborn as sns\n",
    "import matplotlib.pyplot as plt\n",
    "sns.set(style=\"ticks\", color_codes=True)\n",
    "\n",
    "# Cool progress bars\n",
    "from tqdm import tqdm_notebook as tqdm\n",
    "tqdm().pandas()  # Enable tracking of execution progress\n",
    "\n",
    "import collections\n",
    "import yaml\n",
    "\n",
    "# Reading back in intents\n",
    "with open(r'objects/intents.yml') as file:\n",
    "    intents = yaml.load(file, Loader=yaml.FullLoader)\n",
    "\n",
    "# Reading in representative intents\n",
    "# with open(r'objects/intents_repr.yml') as file:\n",
    "#     intents_repr = yaml.load(file, Loader=yaml.FullLoader)\n",
    "    \n",
    "# Reading in training data\n",
    "train = pd.read_pickle('objects/train.pkl')\n",
    "\n",
    "print(train.head())\n",
    "print(f'\\nintents:\\n{intents}')"
   ]
  },
  {
   "cell_type": "markdown",
   "metadata": {},
   "source": [
    "# Entities to Label:\n",
    "\n",
    "<img src=\"visualizations/entity_list.png\" alt=\"Drawing\" style=\"width: 500px;\"/>\n",
    "\n",
    "# NER Methods\n",
    "\n",
    "Named Entities are just real world objects that are assigned a name.\n",
    "\n",
    "This is often seen as a sequential prediction problem.\n",
    "\n",
    "Schemes:\n",
    "* **BIO scheme** (Beginning, Inside, Outside)\n",
    "* **Bilou scheme** is more rigorous, but requires more training examples.\n",
    "\n",
    "There are multiple ways to get this done:\n",
    "* Linear Chain Conditional Random Fields (Linear Chain CRF)\n",
    "* Maximum Entropy Markov Models\n",
    "* Bidirectional-LSTM\n",
    "\n",
    "SpaCy's entity extractor is good for utilizing pretrained NERs. In their words:\n",
    "    \n",
    "    spaCy features an extremely fast statistical entity recognition system, that assigns labels to contiguous spans of tokens. The default model identifies a variety of named and numeric entities, including companies, locations, organizations and products. You can add arbitrary classes to the entity recognition system, and update the model with new examples.\n",
    "   \n",
    "However, I would like more custom entities. CRF or Rasa's DIET Classifier is good for this. Almost every chatbot will have some custom entities.\n",
    "\n",
    "# Conditional Random Field\n",
    "I implement this formula:\n",
    "\n",
    "<img src=\"visualizations/CRF.png\" alt=\"Drawing\" style=\"width: 400px;\"/>\n",
    "\n",
    "Sources:\n",
    "* [NER Using CRF](https://medium.com/data-science-in-your-pocket/named-entity-recognition-ner-using-conditional-random-fields-in-nlp-3660df22e95c)\n",
    "* [CRF NER with Python](https://www.aitimejournal.com/@akshay.chavan/complete-tutorial-on-named-entity-recognition-ner-using-python-and-keras)\n",
    "    * [His Git Repo](https://github.com/Akshayc1/named-entity-recognition)\n",
    "* [Rasa Entity Extraction Docs](https://rasa.com/docs/rasa/nlu/entity-extraction/)\n",
    "* [Training my own custom NER model](https://towardsdatascience.com/custom-named-entity-recognition-using-spacy-7140ebbb3718)\n",
    "* [Apple Tagging](https://heartbeat.fritz.ai/natural-language-in-ios-12-customizing-tag-schemes-and-named-entity-recognition-caf2da388a9f) - This guy did what I want to do, but it's super verbose\n",
    "* [Tagging schemes or types](https://natural-language-understanding.fandom.com/wiki/Named_entity_recognition)"
   ]
  },
  {
   "cell_type": "code",
   "execution_count": null,
   "metadata": {},
   "outputs": [],
   "source": [
    "# Looks like I have to make my own training data\n"
   ]
  },
  {
   "cell_type": "code",
   "execution_count": 7,
   "metadata": {},
   "outputs": [
    {
     "data": {
      "text/html": [
       "<div>\n",
       "<style scoped>\n",
       "    .dataframe tbody tr th:only-of-type {\n",
       "        vertical-align: middle;\n",
       "    }\n",
       "\n",
       "    .dataframe tbody tr th {\n",
       "        vertical-align: top;\n",
       "    }\n",
       "\n",
       "    .dataframe thead th {\n",
       "        text-align: right;\n",
       "    }\n",
       "</style>\n",
       "<table border=\"1\" class=\"dataframe\">\n",
       "  <thead>\n",
       "    <tr style=\"text-align: right;\">\n",
       "      <th></th>\n",
       "      <th>Utterance</th>\n",
       "      <th>Intent</th>\n",
       "    </tr>\n",
       "  </thead>\n",
       "  <tbody>\n",
       "    <tr>\n",
       "      <th>0</th>\n",
       "      <td>[could, drain, beer, quickly, io, update, drai...</td>\n",
       "      <td>Battery</td>\n",
       "    </tr>\n",
       "    <tr>\n",
       "      <th>1</th>\n",
       "      <td>[annnd, release, best, update, yet, new, emoji...</td>\n",
       "      <td>Update</td>\n",
       "    </tr>\n",
       "    <tr>\n",
       "      <th>2</th>\n",
       "      <td>[iphone, connect, wifi, anymore, since, io]</td>\n",
       "      <td>iphone</td>\n",
       "    </tr>\n",
       "    <tr>\n",
       "      <th>3</th>\n",
       "      <td>[able, update, facebook, status, via, siri, io...</td>\n",
       "      <td>app</td>\n",
       "    </tr>\n",
       "    <tr>\n",
       "      <th>4</th>\n",
       "      <td>[run, high, sierra, can, not, view, iphone, x,...</td>\n",
       "      <td>mac</td>\n",
       "    </tr>\n",
       "    <tr>\n",
       "      <th>...</th>\n",
       "      <td>...</td>\n",
       "      <td>...</td>\n",
       "    </tr>\n",
       "    <tr>\n",
       "      <th>5995</th>\n",
       "      <td>[phone, work, perfectly, fine, stupid, as, upd...</td>\n",
       "      <td>Update</td>\n",
       "    </tr>\n",
       "    <tr>\n",
       "      <th>5996</th>\n",
       "      <td>[dear, please, let, u, downgrade, io, io, make...</td>\n",
       "      <td>iphone</td>\n",
       "    </tr>\n",
       "    <tr>\n",
       "      <th>5997</th>\n",
       "      <td>[hey, software, update, battery, go, battery, ...</td>\n",
       "      <td>app</td>\n",
       "    </tr>\n",
       "    <tr>\n",
       "      <th>5998</th>\n",
       "      <td>[hi, since, update, download, apps, keep, load...</td>\n",
       "      <td>mac</td>\n",
       "    </tr>\n",
       "    <tr>\n",
       "      <th>5999</th>\n",
       "      <td>[i️, fix, letter, i️, show, crazy, already, up...</td>\n",
       "      <td>greeting</td>\n",
       "    </tr>\n",
       "  </tbody>\n",
       "</table>\n",
       "<p>6000 rows × 2 columns</p>\n",
       "</div>"
      ],
      "text/plain": [
       "                                              Utterance    Intent\n",
       "0     [could, drain, beer, quickly, io, update, drai...   Battery\n",
       "1     [annnd, release, best, update, yet, new, emoji...    Update\n",
       "2           [iphone, connect, wifi, anymore, since, io]    iphone\n",
       "3     [able, update, facebook, status, via, siri, io...       app\n",
       "4     [run, high, sierra, can, not, view, iphone, x,...       mac\n",
       "...                                                 ...       ...\n",
       "5995  [phone, work, perfectly, fine, stupid, as, upd...    Update\n",
       "5996  [dear, please, let, u, downgrade, io, io, make...    iphone\n",
       "5997  [hey, software, update, battery, go, battery, ...       app\n",
       "5998  [hi, since, update, download, apps, keep, load...       mac\n",
       "5999  [i️, fix, letter, i️, show, crazy, already, up...  greeting\n",
       "\n",
       "[6000 rows x 2 columns]"
      ]
     },
     "execution_count": 7,
     "metadata": {},
     "output_type": "execute_result"
    }
   ],
   "source": [
    "train"
   ]
  },
  {
   "cell_type": "markdown",
   "metadata": {},
   "source": [
    "# Updating training data\n",
    "Here I add an `entity` as well to each Tweet in addition to it's intent."
   ]
  },
  {
   "cell_type": "code",
   "execution_count": null,
   "metadata": {},
   "outputs": [],
   "source": []
  }
 ],
 "metadata": {
  "kernelspec": {
   "display_name": "chatbot",
   "language": "python",
   "name": "chatbot"
  },
  "language_info": {
   "codemirror_mode": {
    "name": "ipython",
    "version": 3
   },
   "file_extension": ".py",
   "mimetype": "text/x-python",
   "name": "python",
   "nbconvert_exporter": "python",
   "pygments_lexer": "ipython3",
   "version": "3.7.7"
  }
 },
 "nbformat": 4,
 "nbformat_minor": 4
}
