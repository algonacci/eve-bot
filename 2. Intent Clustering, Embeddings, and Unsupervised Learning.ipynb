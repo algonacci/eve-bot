{
 "cells": [
  {
   "cell_type": "markdown",
   "metadata": {},
   "source": [
    "# Intent Clustering, Document Embeddings, and Unsupervised Learning"
   ]
  },
  {
   "cell_type": "markdown",
   "metadata": {},
   "source": [
    "In this notebook, I take the preprocessed and tokenized data in the previous notebook and try to assign labels for each Tweet in the dataset by using meaningful document embedding methods and unsupervised learning methods such as K-Means, DBScan, and LDA."
   ]
  },
  {
   "cell_type": "code",
   "execution_count": null,
   "metadata": {},
   "outputs": [
    {
     "name": "stdout",
     "output_type": "stream",
     "text": [
      "Pandas: 1.0.1\n",
      "Numpy: 1.18.1\n"
     ]
    }
   ],
   "source": [
    "# We need more packages!\n",
    "# Data science\n",
    "import pandas as pd\n",
    "print(f\"Pandas: {pd.__version__}\")\n",
    "import numpy as np\n",
    "print(f\"Numpy: {np.__version__}\")\n",
    "# Unsupervised Learning\n",
    "from sklearn.pipeline import Pipeline\n",
    "from sklearn.model_selection import GridSearchCV\n",
    "from zeugma.embeddings import EmbeddingTransformer\n",
    "from sklearn.metrics.pairwise import cosine_similarity\n",
    "from sklearn.cluster import KMeans\n",
    "from sklearn.model_selection import cross_val_score\n",
    "from sklearn.decomposition import LatentDirichletAllocation\n",
    "from sklearn.datasets import make_multilabel_classification\n",
    "# Visualization \n",
    "import seaborn as sns\n",
    "import matplotlib.pyplot as plt\n",
    "sns.set(style=\"ticks\", color_codes=True)\n",
    "# Word Embeddings\n",
    "import gensim\n",
    "print(f'gensim: {gensim.__version__}')\n",
    "# Storing as objects via serialization\n",
    "from tempfile import mkdtemp\n",
    "# Cool progress bars\n",
    "from tqdm import tqdm_notebook as tqdm\n",
    "tqdm().pandas()  # Enable tracking of execution progress"
   ]
  },
  {
   "cell_type": "markdown",
   "metadata": {},
   "source": [
    "## Previewing the current data we are working with"
   ]
  },
  {
   "cell_type": "code",
   "execution_count": 5,
   "metadata": {},
   "outputs": [
    {
     "name": "stdout",
     "output_type": "stream",
     "text": [
      "labels_grand.pkl      wcss-kmeans.pkl\r\n",
      "processed_inbound.pkl wcss_grand.pkl\r\n"
     ]
    }
   ],
   "source": [
    "!ls objects"
   ]
  },
  {
   "cell_type": "code",
   "execution_count": 1,
   "metadata": {},
   "outputs": [
    {
     "ename": "NameError",
     "evalue": "name 'pd' is not defined",
     "output_type": "error",
     "traceback": [
      "\u001b[0;31m---------------------------------------------------------------------------\u001b[0m",
      "\u001b[0;31mNameError\u001b[0m                                 Traceback (most recent call last)",
      "\u001b[0;32m<ipython-input-1-b25058221435>\u001b[0m in \u001b[0;36m<module>\u001b[0;34m\u001b[0m\n\u001b[1;32m      1\u001b[0m \u001b[0;31m# Loading in the already saved processed dataset\u001b[0m\u001b[0;34m\u001b[0m\u001b[0;34m\u001b[0m\u001b[0;34m\u001b[0m\u001b[0m\n\u001b[0;32m----> 2\u001b[0;31m \u001b[0mprocessed_inbound\u001b[0m \u001b[0;34m=\u001b[0m \u001b[0mpd\u001b[0m\u001b[0;34m.\u001b[0m\u001b[0mread_pickle\u001b[0m\u001b[0;34m(\u001b[0m\u001b[0;34m'processed_inbound.pkl'\u001b[0m\u001b[0;34m)\u001b[0m\u001b[0;34m\u001b[0m\u001b[0;34m\u001b[0m\u001b[0m\n\u001b[0m",
      "\u001b[0;31mNameError\u001b[0m: name 'pd' is not defined"
     ]
    }
   ],
   "source": [
    "# Loading in the already saved processed dataset\n",
    "processed_inbound = pd.read_pickle('processed_inbound.pkl')"
   ]
  },
  {
   "cell_type": "code",
   "execution_count": 135,
   "metadata": {},
   "outputs": [
    {
     "data": {
      "text/plain": [
       "38343    [ever, since, late, watch, o, update, get, not...\n",
       "26943    [work, apple, support, get, result, paid, deve...\n",
       "18403    [many, stupid, bug, new, update, ready, throw,...\n",
       "19883    [take, 7, plus, charger, get, ready, work, tim...\n",
       "87560    [log, itunes, account, lap-fucking-top, god, g...\n",
       "Name: inbound_text, dtype: object"
      ]
     },
     "execution_count": 135,
     "metadata": {},
     "output_type": "execute_result"
    }
   ],
   "source": [
    "# We start with this data, here's the preview\n",
    "processed_X_train.head()"
   ]
  },
  {
   "cell_type": "code",
   "execution_count": 136,
   "metadata": {},
   "outputs": [
    {
     "data": {
      "text/plain": [
       "39227    [possibile, save, photo, dropbox, photo, app, ...\n",
       "96901    [can, not, seem, make, genius, bar, appt, onli...\n",
       "32619    [swear, ..., 3rd, io, update, make, iphone, ba...\n",
       "71706    [phone, tell, wifi, password, network, wrong, ...\n",
       "478      [wire, thing, update, 6, gig, available, 10, k...\n",
       "Name: inbound_text, dtype: object"
      ]
     },
     "execution_count": 136,
     "metadata": {},
     "output_type": "execute_result"
    }
   ],
   "source": [
    "processed_X_test.head()"
   ]
  },
  {
   "cell_type": "code",
   "execution_count": null,
   "metadata": {},
   "outputs": [],
   "source": [
    "\n",
    "cachedir = mkdtemp()"
   ]
  },
  {
   "cell_type": "code",
   "execution_count": 78,
   "metadata": {},
   "outputs": [],
   "source": [
    "# We give our estimators as a list of tuples: name:function.\n",
    "estimators = [('embedding', EmbeddingTransformer()),\n",
    "              ('model', KMeans())]\n",
    "\n",
    "pipe = Pipeline(estimators, memory = cachedir)\n",
    "\n",
    "params = [\n",
    "    {'embedding': [EmbeddingTransformer()], 'model': [KMeans()],\n",
    "    'embedding__model':['glove'],'model__n_cluster': [8]},\n",
    "    {'embedding':[EmbeddingTransformer()], 'model': [LatentDirichletAllocation()],\n",
    "    'embedding_model':['glove']}\n",
    "]\n",
    "\n",
    "grid = GridSearchCV(pipe, param_grid=params)"
   ]
  },
  {
   "cell_type": "code",
   "execution_count": null,
   "metadata": {},
   "outputs": [],
   "source": [
    "fittedgrid = grid.fit(X_train, y_train)"
   ]
  },
  {
   "cell_type": "code",
   "execution_count": null,
   "metadata": {},
   "outputs": [],
   "source": [
    "fittedgrid.best_estimator_"
   ]
  },
  {
   "cell_type": "code",
   "execution_count": null,
   "metadata": {},
   "outputs": [],
   "source": [
    "fittedgrid.cv_results_['mean_test_score']"
   ]
  },
  {
   "cell_type": "markdown",
   "metadata": {},
   "source": [
    "# Embedding and Vectorizing in a Meaningful Way\n",
    "\n",
    "It is incredibly important to be able to represent this text data as in a meaningful way as to have similar Tweets have closer distances than different Tweets that have different intents. However, since I am working with sequences, I could not just embed their individual words because that will result in a different dimensionality for every single Tweet, and this is something that unsupervised learning algorithms do not know how to handle.\n",
    "\n",
    "Some of these document embedding methods are:\n",
    "* BERT\n",
    "* FastText\n",
    "* Doc2Vec\n",
    "* Word2Vec"
   ]
  },
  {
   "cell_type": "markdown",
   "metadata": {},
   "source": [
    "### 1. Count Vectorization"
   ]
  },
  {
   "cell_type": "markdown",
   "metadata": {},
   "source": [
    "The easiest way to represent a document as a vector is with a bagofwords CountVectorizer. This will turn each document to be a 1D array, which I think is a good starting point for putting into my clustering algorithms. Let's see how it does. \n",
    "\n",
    "The count vectorizer only accepts the Series if the document is represented as a String, not a tokenized list. So I do that change here:"
   ]
  },
  {
   "cell_type": "code",
   "execution_count": 140,
   "metadata": {},
   "outputs": [
    {
     "data": {
      "application/vnd.jupyter.widget-view+json": {
       "model_id": "786e3c64f1574dbd99475f7a44127f96",
       "version_major": 2,
       "version_minor": 0
      },
      "text/plain": [
       "HBox(children=(FloatProgress(value=0.0, max=52659.0), HTML(value='')))"
      ]
     },
     "metadata": {},
     "output_type": "display_data"
    },
    {
     "name": "stdout",
     "output_type": "stream",
     "text": [
      "\n"
     ]
    },
    {
     "data": {
      "application/vnd.jupyter.widget-view+json": {
       "model_id": "3308cf0435cd4f6f9599b43eb1664b52",
       "version_major": 2,
       "version_minor": 0
      },
      "text/plain": [
       "HBox(children=(FloatProgress(value=0.0, max=25951.0), HTML(value='')))"
      ]
     },
     "metadata": {},
     "output_type": "display_data"
    },
    {
     "name": "stdout",
     "output_type": "stream",
     "text": [
      "\n"
     ]
    }
   ],
   "source": [
    "# Representing my tokenized data as String documents and storing it into a variable\n",
    "string_processed_X_train = processed_X_train.progress_apply(\" \".join)\n",
    "string_processed_X_test = processed_X_test.progress_apply(\" \".join)"
   ]
  },
  {
   "cell_type": "markdown",
   "metadata": {},
   "source": [
    "I set the min_df paramater to 5 to only include terms that occur more than 5 times in my Count Vectorized data."
   ]
  },
  {
   "cell_type": "code",
   "execution_count": 138,
   "metadata": {},
   "outputs": [
    {
     "data": {
      "text/plain": [
       "38343    ever since late watch o update get notificatio...\n",
       "26943    work apple support get result paid development...\n",
       "18403    many stupid bug new update ready throw iphone ...\n",
       "19883    take 7 plus charger get ready work time get ca...\n",
       "87560    log itunes account lap-fucking-top god green e...\n",
       "                               ...                        \n",
       "33943    can not connect disconnect movie anywhere acco...\n",
       "92303    hey put manual fix ️ use word ️ phone funny th...\n",
       "6618     apple watch 3 work caribbean prepare cruise ne...\n",
       "90430    reason phone keep glitching crash reset 7 plus...\n",
       "29828    fix screen recorder like stop record sound som...\n",
       "Name: inbound_text, Length: 52659, dtype: object"
      ]
     },
     "execution_count": 138,
     "metadata": {},
     "output_type": "execute_result"
    }
   ],
   "source": [
    "string_processed_X_train"
   ]
  },
  {
   "cell_type": "code",
   "execution_count": 141,
   "metadata": {},
   "outputs": [
    {
     "data": {
      "text/plain": [
       "39227    possibile save photo dropbox photo app mean ap...\n",
       "96901    can not seem make genius bar appt online wife ...\n",
       "32619      swear ... 3rd io update make iphone bad bad bad\n",
       "71706    phone tell wifi password network wrong phone n...\n",
       "478              wire thing update 6 gig available 10 know\n",
       "                               ...                        \n",
       "57009          get ️ emoji fix letter ️ get together apple\n",
       "96688    iphone let use wifi imessage facetime app stor...\n",
       "189      hey wonder new update phone go banana day far ...\n",
       "79685                take week change password get old one\n",
       "11767    since update io 11 camera work 🙄 anybody else ...\n",
       "Name: inbound_text, Length: 25951, dtype: object"
      ]
     },
     "execution_count": 141,
     "metadata": {},
     "output_type": "execute_result"
    }
   ],
   "source": [
    "string_processed_X_test"
   ]
  },
  {
   "cell_type": "code",
   "execution_count": 139,
   "metadata": {
    "scrolled": true
   },
   "outputs": [
    {
     "data": {
      "text/plain": [
       "<52659x4181 sparse matrix of type '<class 'numpy.int64'>'\n",
       "\twith 532614 stored elements in Compressed Sparse Row format>"
      ]
     },
     "execution_count": 139,
     "metadata": {},
     "output_type": "execute_result"
    }
   ],
   "source": [
    "# Vectorizing the data with Count Vectorizer\n",
    "bagofwords = CountVectorizer(min_df = 5).fit(string_processed_X_train)\n",
    "X_train_cv = bagofwords.transform(string_processed_X_train)\n",
    "X_train_cv # Output will be a sparse matrix"
   ]
  },
  {
   "cell_type": "markdown",
   "metadata": {},
   "source": [
    "Before we move on, let's visualize and do what we did earlier and view the top 10 most frequent words in my processed data."
   ]
  },
  {
   "cell_type": "markdown",
   "metadata": {},
   "source": [
    "This tells me most of the customer queries are about phones, particularly iOS and battery fixes. We also see thanks rank quite high, which is a good thing because it might indicate gratitude (which indicates a closing intent for my chatbot). Hi (rank 44) and hey (rank 25) classifies a greeting intent, and it's good to see that they appear a lot of times. Things are looking promising right now, but we wouldn't be able to see the quality until we actually start clustering."
   ]
  },
  {
   "cell_type": "markdown",
   "metadata": {},
   "source": [
    "### TFIDF"
   ]
  },
  {
   "cell_type": "code",
   "execution_count": 57,
   "metadata": {},
   "outputs": [],
   "source": [
    "from sklearn.feature_extraction.text import TfidfVectorizer"
   ]
  },
  {
   "cell_type": "code",
   "execution_count": 61,
   "metadata": {},
   "outputs": [
    {
     "data": {
      "text/plain": [
       "TfidfVectorizer(analyzer='word', binary=False, decode_error='strict',\n",
       "                dtype=<class 'numpy.float64'>, encoding='utf-8',\n",
       "                input='content', lowercase=True, max_df=1.0, max_features=None,\n",
       "                min_df=5, ngram_range=(1, 3), norm='l2', preprocessor=None,\n",
       "                smooth_idf=True, stop_words=None, strip_accents=None,\n",
       "                sublinear_tf=False, token_pattern='(?u)\\\\b\\\\w\\\\w+\\\\b',\n",
       "                tokenizer=None, use_idf=True, vocabulary=None)"
      ]
     },
     "execution_count": 61,
     "metadata": {},
     "output_type": "execute_result"
    }
   ],
   "source": [
    "tfidf = TfidfVectorizer(min_df=5, ngram_range = (1,3))\n",
    "tfidf.fit(processed_X_train)"
   ]
  },
  {
   "cell_type": "code",
   "execution_count": 63,
   "metadata": {},
   "outputs": [],
   "source": [
    "# Storing tfidf data and transforming them into sparse matrices\n",
    "X_train_tfidf = tfidf.transform(processed_X_train)\n",
    "X_test_tfidf = tfidf.transform(processed_X_test)"
   ]
  },
  {
   "cell_type": "code",
   "execution_count": 65,
   "metadata": {},
   "outputs": [
    {
     "data": {
      "text/plain": [
       "<52659x23422 sparse matrix of type '<class 'numpy.float64'>'\n",
       "\twith 848948 stored elements in Compressed Sparse Row format>"
      ]
     },
     "execution_count": 65,
     "metadata": {},
     "output_type": "execute_result"
    }
   ],
   "source": [
    "X_train_tfidf"
   ]
  },
  {
   "cell_type": "code",
   "execution_count": 66,
   "metadata": {},
   "outputs": [
    {
     "data": {
      "text/plain": [
       "<25951x23422 sparse matrix of type '<class 'numpy.float64'>'\n",
       "\twith 407769 stored elements in Compressed Sparse Row format>"
      ]
     },
     "execution_count": 66,
     "metadata": {},
     "output_type": "execute_result"
    }
   ],
   "source": [
    "X_test_tfidf"
   ]
  },
  {
   "cell_type": "markdown",
   "metadata": {},
   "source": [
    "## Pretrained word embeddings\n",
    "Useful source: https://towardsdatascience.com/a-beginners-guide-to-word-embedding-with-gensim-word2vec-model-5970fa56cc92\n",
    "\n",
    "* https://pypi.org/project/zeugma/0.41/\n",
    "* https://github.com/nkthiebaut/zeugma\n",
    "\n",
    "Bag of words lose many of the subtleties such as word ordering. This is why I will try these other text vectorization methods:"
   ]
  },
  {
   "cell_type": "markdown",
   "metadata": {},
   "source": [
    "### GloVe\n",
    "I am going to use multiple word embeddings to vectorize my text in different ways, and then test which one is the best word embedding to use, starting with the Glove word embedding. GloVe is an unsupervised learning algorithm for getting vector representations for words.\n",
    "\n",
    "However, as a disclaimer, I won't be using this one because my clustering algorithms only work when each tweet is one point, and this is  a word transformer. I am leaving this part in my notebook as a progress log."
   ]
  },
  {
   "cell_type": "code",
   "execution_count": 46,
   "metadata": {},
   "outputs": [],
   "source": [
    "glove = EmbeddingTransformer('glove')"
   ]
  },
  {
   "cell_type": "code",
   "execution_count": 48,
   "metadata": {},
   "outputs": [
    {
     "data": {
      "application/vnd.jupyter.widget-view+json": {
       "model_id": "717c73cdf973456bba15dd8cc6e83278",
       "version_major": 2,
       "version_minor": 0
      },
      "text/plain": [
       "HBox(children=(FloatProgress(value=0.0, max=63412.0), HTML(value='')))"
      ]
     },
     "metadata": {},
     "output_type": "display_data"
    },
    {
     "name": "stdout",
     "output_type": "stream",
     "text": [
      "\n"
     ]
    }
   ],
   "source": [
    "# Applying it to the entire training data\n",
    "X_train_glove = processed_X_train.progress_apply(glove.transform)"
   ]
  },
  {
   "cell_type": "code",
   "execution_count": 73,
   "metadata": {
    "scrolled": true
   },
   "outputs": [
    {
     "data": {
      "text/plain": [
       "array([[0.8130621 , 0.5656479 , 0.6877206 , 0.86405647, 0.64206785,\n",
       "        0.8817774 , 0.73349965, 0.48393366, 0.35663372, 0.6771863 ,\n",
       "        0.86187154, 0.42652112, 0.6414212 , 0.4901102 ],\n",
       "       [0.8943309 , 0.54043406, 0.7118227 , 0.9206827 , 0.7442706 ,\n",
       "        0.88108957, 0.8326488 , 0.55309945, 0.52669424, 0.73307854,\n",
       "        0.89418006, 0.56818885, 0.5923007 , 0.5121745 ],\n",
       "       [0.71216136, 0.7541538 , 0.7458268 , 0.64471316, 0.73993534,\n",
       "        0.592138  , 0.6949012 , 0.7711556 , 0.5190994 , 0.8070698 ,\n",
       "        0.81427187, 0.64189667, 0.7493244 , 0.35251677],\n",
       "       [0.8264686 , 0.6154053 , 0.7340815 , 0.8245878 , 0.6410612 ,\n",
       "        0.8773806 , 0.6969551 , 0.5448388 , 0.33315665, 0.7115154 ,\n",
       "        0.92361647, 0.40779543, 0.641692  , 0.3772235 ],\n",
       "       [0.16007815, 0.36551693, 0.18245363, 0.15790792, 0.21499912,\n",
       "        0.26659784, 0.23867299, 0.09836231, 0.16759305, 0.1912168 ,\n",
       "        0.2684987 , 0.12097125, 0.35895252, 0.08930411],\n",
       "       [0.65246534, 0.63552326, 0.72683483, 0.5499292 , 0.6522421 ,\n",
       "        0.6001457 , 0.56252784, 0.6197041 , 0.38344058, 0.6146572 ,\n",
       "        0.6733852 , 0.4466278 , 0.7552353 , 0.28593874],\n",
       "       [0.8967213 , 0.6205957 , 0.7580144 , 0.947188  , 0.6469538 ,\n",
       "        0.9161521 , 0.8364395 , 0.49175507, 0.5156362 , 0.7424523 ,\n",
       "        0.87512404, 0.5293709 , 0.61857057, 0.34315076],\n",
       "       [0.5597845 , 0.41088822, 0.33966395, 0.54143256, 0.45323205,\n",
       "        0.45865473, 0.56720924, 0.2696702 , 0.5673551 , 0.38699797,\n",
       "        0.36261314, 0.4401882 , 0.6480466 , 0.3681282 ],\n",
       "       [0.35917297, 0.1446432 , 0.20295194, 0.22465847, 0.20799957,\n",
       "        0.08577942, 0.2537207 , 0.3856248 , 0.3010445 , 0.17381155,\n",
       "        0.16686493, 0.40567505, 0.0213764 , 0.02042678],\n",
       "       [0.6371635 , 0.288616  , 0.38890117, 0.69355804, 0.36434546,\n",
       "        0.67433923, 0.45335734, 0.20916812, 0.21356243, 0.32224226,\n",
       "        0.66630125, 0.20628548, 0.27831185, 0.30484468],\n",
       "       [0.83696574, 0.57988876, 0.7325578 , 0.8519593 , 0.5145118 ,\n",
       "        0.99999994, 0.73769265, 0.4425316 , 0.3969484 , 0.601235  ,\n",
       "        0.8606307 , 0.354932  , 0.6177646 , 0.48741272],\n",
       "       [0.91583014, 0.5781672 , 0.66211003, 0.99999994, 0.66983205,\n",
       "        0.8519593 , 0.8573473 , 0.4943112 , 0.5406765 , 0.7318745 ,\n",
       "        0.82574415, 0.57239014, 0.55928767, 0.3753523 ],\n",
       "       [0.        , 0.        , 0.        , 0.        , 0.        ,\n",
       "        0.        , 0.        , 0.        , 0.        , 0.        ,\n",
       "        0.        , 0.        , 0.        , 0.        ],\n",
       "       [0.8442787 , 0.6509677 , 0.7873085 , 0.8062311 , 0.67299956,\n",
       "        0.9010858 , 0.733271  , 0.59263927, 0.48736224, 0.6566994 ,\n",
       "        0.898009  , 0.50104225, 0.6148189 , 0.4612235 ],\n",
       "       [0.        , 0.        , 0.        , 0.        , 0.        ,\n",
       "        0.        , 0.        , 0.        , 0.        , 0.        ,\n",
       "        0.        , 0.        , 0.        , 0.        ],\n",
       "       [0.34554502, 0.42371595, 0.50596863, 0.30399954, 0.2797027 ,\n",
       "        0.491489  , 0.43276298, 0.37232012, 0.39028472, 0.34751546,\n",
       "        0.3886853 , 0.31689498, 0.45259675, 0.5501409 ],\n",
       "       [0.8335583 , 0.45493677, 0.76711655, 0.80330104, 0.67537427,\n",
       "        0.84475404, 0.678353  , 0.5273182 , 0.36443424, 0.6161037 ,\n",
       "        0.8796177 , 0.39146346, 0.5233237 , 0.41226947],\n",
       "       [0.49837494, 0.42583916, 0.5298627 , 0.49373454, 0.42084524,\n",
       "        0.64727324, 0.34955892, 0.28476918, 0.14214478, 0.24206361,\n",
       "        0.60543376, 0.0958647 , 0.43027318, 0.35824656],\n",
       "       [0.7602564 , 0.59149766, 0.73386604, 0.7041374 , 0.65656006,\n",
       "        0.7084571 , 0.66995   , 0.53285736, 0.5015694 , 0.55294925,\n",
       "        0.7228865 , 0.51333463, 0.61642796, 0.31117594]], dtype=float32)"
      ]
     },
     "execution_count": 73,
     "metadata": {},
     "output_type": "execute_result"
    }
   ],
   "source": [
    "cosine_similarity(X_train_glove.iloc[0],X_train_glove.iloc[1])"
   ]
  },
  {
   "cell_type": "markdown",
   "metadata": {},
   "source": [
    "Cosine similarity could be 0 if they are perpendicular. "
   ]
  },
  {
   "cell_type": "code",
   "execution_count": 90,
   "metadata": {},
   "outputs": [
    {
     "data": {
      "application/vnd.jupyter.widget-view+json": {
       "model_id": "d10a347bbfa84bbebc69632d1de4418f",
       "version_major": 2,
       "version_minor": 0
      },
      "text/plain": [
       "HBox(children=(FloatProgress(value=0.0, max=30484.0), HTML(value='')))"
      ]
     },
     "metadata": {},
     "output_type": "display_data"
    },
    {
     "name": "stdout",
     "output_type": "stream",
     "text": [
      "\n"
     ]
    }
   ],
   "source": [
    "#Doing the same for the testing data\n",
    "X_test_glove = processed_X_test.progress_apply(glove.transform)"
   ]
  },
  {
   "cell_type": "code",
   "execution_count": 92,
   "metadata": {},
   "outputs": [
    {
     "data": {
      "text/plain": [
       "38343    [[0.11597, 0.066013, 0.30173, -0.65542, 0.0217...\n",
       "26943    [[-0.41814, 1.1661, 0.30718, -0.77125, 0.53066...\n",
       "18403    [[1.0472, 0.75721, 0.39005, 0.18197, 0.02607, ...\n",
       "19883    [[-0.39819, 0.92849, 1.1194, -0.13217, -0.2980...\n",
       "87560    [[0.016798, 1.0559, 1.8648, -0.68766, -0.02673...\n",
       "                               ...                        \n",
       "33943    [[0.13191, -0.01726, -0.86139, -0.43648, -1.29...\n",
       "92303    [[-0.011587, 0.6575, 0.19401, 0.1987, -0.69354...\n",
       "6618     [[0.85337, 0.011645, -0.033377, -0.31981, 0.26...\n",
       "90430    [[0.43525, 0.41565, -0.0049016, 0.33494, -0.09...\n",
       "29828    [[0.44877, 1.4266, -0.40778, 0.38396, -0.01416...\n",
       "Name: inbound_text, Length: 63412, dtype: object"
      ]
     },
     "execution_count": 92,
     "metadata": {},
     "output_type": "execute_result"
    }
   ],
   "source": [
    "X_train_glove"
   ]
  },
  {
   "cell_type": "code",
   "execution_count": 91,
   "metadata": {
    "collapsed": true
   },
   "outputs": [
    {
     "data": {
      "text/plain": [
       "array([[ 1.1597e-01,  6.6013e-02,  3.0173e-01, -6.5542e-01,  2.1744e-02,\n",
       "        -4.5297e-01,  2.1000e+00, -1.9427e-01, -1.0320e+00, -6.6347e-01,\n",
       "         3.0398e-01,  4.0125e-01, -4.8677e+00,  1.4501e-01, -2.1228e-01,\n",
       "         1.0987e+00,  6.5365e-01, -3.7288e-01,  1.5131e-01, -6.3025e-01,\n",
       "         2.3052e-01,  6.0988e-01,  1.2155e-01,  4.6332e-01,  2.0091e-01],\n",
       "       [ 5.1860e-02,  8.6367e-01,  1.1402e+00, -7.1556e-01, -1.4073e-01,\n",
       "        -2.6056e-01,  1.0242e+00, -4.3655e-01, -8.5943e-01,  1.0958e-01,\n",
       "        -3.6072e-01,  6.8216e-01, -4.4906e+00,  6.8189e-01,  6.0422e-01,\n",
       "        -1.4920e-01,  3.6563e-01, -2.0704e-01, -8.5323e-02, -6.0814e-01,\n",
       "        -3.2929e-01,  3.5263e-01,  1.9197e-01, -5.5658e-02, -1.6646e-01],\n",
       "       [ 3.4117e-01,  5.1903e-02,  1.3157e-01, -7.7127e-01,  7.1664e-01,\n",
       "        -9.4379e-01,  1.0552e+00, -3.5077e-01,  5.6108e-01, -8.6665e-01,\n",
       "         7.2598e-01,  7.4451e-01, -3.4387e+00,  1.1053e-01,  1.1182e-01,\n",
       "        -5.5985e-01,  6.5788e-01,  2.3376e-01, -5.1038e-01,  9.2750e-02,\n",
       "        -1.1263e+00, -1.1907e+00, -1.7894e-01, -1.0753e+00, -1.1169e+00],\n",
       "       [ 2.7806e-01,  4.2837e-01,  3.8726e-01, -8.2940e-01, -7.5826e-01,\n",
       "        -4.4426e-01,  1.7621e+00,  1.1907e-01,  1.6156e-01, -7.2022e-01,\n",
       "        -4.7905e-01,  6.7888e-01, -4.5780e+00, -1.7566e-01,  7.3636e-02,\n",
       "         2.4484e-01,  3.6114e-01, -3.8957e-01, -4.3863e-01, -9.4151e-02,\n",
       "        -5.2517e-01, -4.4816e-02,  7.8118e-01, -7.1210e-01,  4.7927e-01],\n",
       "       [ 2.9598e+00, -5.4782e-02,  8.5045e-01,  3.8361e-01,  1.3288e-01,\n",
       "        -2.4879e-01, -3.8561e-01,  4.7367e-01, -3.5279e-01, -1.6415e+00,\n",
       "        -1.6796e-03, -3.7109e+00, -2.0034e+00, -3.7925e-01, -2.6033e-01,\n",
       "        -5.6080e-01, -1.0259e+00, -9.2499e-01, -6.0050e-01,  6.7755e-03,\n",
       "        -6.2346e-01,  1.7418e-01,  3.2683e-01,  1.9745e-01,  3.5460e-01],\n",
       "       [ 6.9946e-01,  7.5647e-01,  2.7693e-02, -1.0928e+00,  3.5487e-01,\n",
       "        -6.8115e-01,  1.3262e+00,  1.0372e+00,  1.2488e+00,  5.1408e-01,\n",
       "         6.7335e-01,  1.2216e+00, -2.7238e+00,  5.5478e-02,  2.9960e-01,\n",
       "         2.8995e-01,  2.5090e-01, -1.6582e-01, -9.4264e-01, -4.1924e-01,\n",
       "        -8.6031e-01, -1.0047e+00, -2.4399e-01,  6.1082e-02, -5.9699e-01],\n",
       "       [-3.3344e-01,  1.2678e+00,  4.4720e-02, -6.7070e-01, -2.0790e-01,\n",
       "         1.2289e-01,  1.3696e+00, -2.2981e-01, -5.3645e-01, -1.8330e-01,\n",
       "        -1.3394e-01,  6.3001e-01, -5.6577e+00, -6.6158e-01, -2.6856e-01,\n",
       "        -1.4720e-01,  7.1835e-01, -1.1591e+00, -5.5771e-02, -8.7320e-01,\n",
       "        -2.5146e-02,  3.0690e-01,  1.0787e+00,  3.8923e-01, -2.8963e-02],\n",
       "       [ 8.5676e-01,  8.8132e-01,  7.6881e-01,  4.7229e-02,  1.2712e+00,\n",
       "        -5.0844e-01,  4.2324e-01, -1.3851e+00, -7.0241e-01,  5.4530e-01,\n",
       "        -3.1209e-01,  2.8190e-02, -1.8196e+00, -7.0424e-01, -1.5608e-01,\n",
       "         1.4461e+00,  5.6272e-01, -9.2146e-01, -3.4718e-01, -6.3749e-01,\n",
       "         6.8274e-03, -1.5079e+00,  1.0763e+00,  2.4498e-01, -1.5439e+00],\n",
       "       [-1.2405e+00,  1.9827e-01,  2.8343e-01,  4.3814e-01, -6.0777e-01,\n",
       "        -2.5823e-03, -4.4614e-01, -2.2704e+00,  6.6461e-01, -6.8388e-01,\n",
       "        -6.3567e-01,  2.8096e-01, -7.0264e-01, -5.2373e-01,  2.2646e-01,\n",
       "         1.0028e-01,  1.6950e-01, -3.4255e-01,  2.1996e+00, -9.3890e-01,\n",
       "        -7.3011e-01, -5.8100e-01, -1.1400e+00, -3.9329e-01,  1.1114e-01],\n",
       "       [-9.4296e-01,  1.3406e-01,  2.4230e-01,  1.5744e+00, -2.3682e-01,\n",
       "         3.1562e-01,  1.7821e+00, -9.2026e-01, -4.5905e-02,  5.6448e-01,\n",
       "        -2.0314e-01,  1.0611e+00, -2.8341e+00, -8.0071e-03, -4.7848e-01,\n",
       "         5.0247e-01,  1.3682e-01,  1.5717e-01,  5.4677e-02, -7.7379e-01,\n",
       "         3.2908e-01,  7.8482e-01,  1.4684e+00,  6.5601e-01,  3.1804e-01],\n",
       "       [-2.6079e-01,  5.9108e-01,  6.1622e-01, -7.0368e-01, -8.5159e-01,\n",
       "        -2.3238e-01,  1.0481e+00,  6.6642e-02, -5.4907e-01,  7.0047e-01,\n",
       "        -8.7221e-01, -1.3954e-02, -5.9671e+00, -4.3106e-01, -9.1540e-01,\n",
       "         5.3744e-01,  5.7099e-01, -2.7181e-01, -8.4178e-01, -5.9682e-01,\n",
       "         4.5160e-01,  3.4097e-01,  7.6869e-02,  2.2840e-01,  2.7580e-01],\n",
       "       [-6.9615e-01,  1.1836e+00,  7.1771e-01, -9.8225e-01,  3.5529e-01,\n",
       "         6.8034e-01,  1.2806e+00, -9.0871e-01, -1.1670e+00, -1.2910e-01,\n",
       "         2.7425e-02,  6.7885e-01, -5.0059e+00, -6.2707e-01,  3.7199e-01,\n",
       "        -2.4592e-01,  4.9111e-01, -4.9196e-01,  3.8042e-03, -1.3281e+00,\n",
       "        -3.5287e-02,  5.6014e-01,  7.9602e-01, -7.0036e-02, -4.0572e-01],\n",
       "       [ 0.0000e+00,  0.0000e+00,  0.0000e+00,  0.0000e+00,  0.0000e+00,\n",
       "         0.0000e+00,  0.0000e+00,  0.0000e+00,  0.0000e+00,  0.0000e+00,\n",
       "         0.0000e+00,  0.0000e+00,  0.0000e+00,  0.0000e+00,  0.0000e+00,\n",
       "         0.0000e+00,  0.0000e+00,  0.0000e+00,  0.0000e+00,  0.0000e+00,\n",
       "         0.0000e+00,  0.0000e+00,  0.0000e+00,  0.0000e+00,  0.0000e+00],\n",
       "       [ 2.8228e-01,  1.9558e-02,  1.1509e-01, -3.9242e-01, -1.0503e+00,\n",
       "        -5.4278e-01,  1.1357e+00, -3.4251e-01,  8.0636e-01, -4.7359e-01,\n",
       "        -7.7194e-01, -7.3689e-01, -6.2619e+00, -3.4902e-01, -3.5532e-01,\n",
       "        -6.0148e-01, -5.4534e-02, -6.7057e-01, -3.9972e-01, -1.3240e+00,\n",
       "        -4.3765e-01,  3.0045e-01,  2.1430e-01,  2.5422e-01, -2.6674e-01],\n",
       "       [ 0.0000e+00,  0.0000e+00,  0.0000e+00,  0.0000e+00,  0.0000e+00,\n",
       "         0.0000e+00,  0.0000e+00,  0.0000e+00,  0.0000e+00,  0.0000e+00,\n",
       "         0.0000e+00,  0.0000e+00,  0.0000e+00,  0.0000e+00,  0.0000e+00,\n",
       "         0.0000e+00,  0.0000e+00,  0.0000e+00,  0.0000e+00,  0.0000e+00,\n",
       "         0.0000e+00,  0.0000e+00,  0.0000e+00,  0.0000e+00,  0.0000e+00],\n",
       "       [-5.3028e-01,  7.8505e-01, -2.7571e-01, -3.0433e-01,  2.1584e-01,\n",
       "        -1.0556e+00, -1.4259e+00,  4.3374e-01,  5.3249e-02,  8.4139e-01,\n",
       "         7.2601e-01, -2.1870e+00, -2.8404e+00,  9.6447e-01, -6.2352e-01,\n",
       "         1.3878e+00, -9.0320e-01,  8.8589e-01, -2.1908e+00, -8.0537e-01,\n",
       "        -9.0784e-01, -2.6988e-01, -8.4029e-02, -4.1868e-01, -6.0060e-01],\n",
       "       [-9.5101e-01,  5.0560e-01,  3.6139e-01, -4.0337e-01, -4.0042e-02,\n",
       "        -1.5647e-01,  2.2782e+00,  2.4500e-01, -4.8452e-01, -1.9628e-01,\n",
       "        -5.1955e-01,  2.1754e-01, -4.7039e+00,  9.5037e-01, -9.8481e-02,\n",
       "        -5.7552e-01,  7.2248e-02, -9.5375e-01, -6.9446e-01, -5.4825e-02,\n",
       "        -8.6766e-01,  2.5728e-02, -2.6051e-01,  7.5546e-01,  4.2688e-01],\n",
       "       [ 6.9586e-01, -1.1469e+00, -4.1797e-01, -2.2311e-02, -2.3801e-02,\n",
       "         8.2358e-01,  1.2228e+00,  1.7410e+00, -9.0979e-01,  1.3725e+00,\n",
       "         1.1530e-01, -6.3906e-01, -3.2252e+00,  6.1269e-01,  3.3544e-01,\n",
       "        -5.7058e-01, -5.0861e-01, -1.6575e-01, -9.8153e-01, -8.2130e-01,\n",
       "         2.4333e-01, -1.4482e-01, -6.7877e-01,  7.0610e-01,  4.0833e-01],\n",
       "       [ 4.4877e-01,  1.4266e+00, -4.0778e-01,  3.8396e-01, -1.4161e-02,\n",
       "         1.7239e-01,  1.0145e+00,  7.8520e-02,  1.0829e+00,  7.5544e-01,\n",
       "         3.7450e-01,  5.2940e-01, -3.1336e+00, -4.4927e-01,  4.2623e-01,\n",
       "         4.0551e-01,  9.1764e-02, -6.1886e-01, -3.1532e-01, -7.6114e-01,\n",
       "        -8.1221e-01,  4.6616e-01,  1.7360e-02,  9.6589e-01, -2.8626e-01]],\n",
       "      dtype=float32)"
      ]
     },
     "execution_count": 91,
     "metadata": {},
     "output_type": "execute_result"
    }
   ],
   "source": [
    "X_train_glove.iloc[0]"
   ]
  },
  {
   "cell_type": "code",
   "execution_count": 93,
   "metadata": {
    "collapsed": true
   },
   "outputs": [
    {
     "data": {
      "text/plain": [
       "39227     [[-1.2505, 0.36804, -0.53604, -0.53954, 0.4247...\n",
       "101508    [[0.11597, 0.066013, 0.30173, -0.65542, 0.0217...\n",
       "49484     [[-0.31777, 1.7887, -0.042583, -0.23544, -0.27...\n",
       "6873      [[1.4512, -0.24502, 0.18376, -0.57901, 1.1378,...\n",
       "50704     [[0.3767, 0.036902, -0.79194, -0.57057, 0.8150...\n",
       "                                ...                        \n",
       "57009     [[-0.34366, 1.2638, 1.1414, -0.68691, -0.05408...\n",
       "96688     [[1.4512, -0.24502, 0.18376, -0.57901, 1.1378,...\n",
       "189       [[-0.011587, 0.6575, 0.19401, 0.1987, -0.69354...\n",
       "79685     [[-0.20353, 1.0148, -0.18363, 0.32951, -0.6129...\n",
       "11767     [[0.05186, 0.86367, 1.1402, -0.71556, -0.14073...\n",
       "Name: inbound_text, Length: 31334, dtype: object"
      ]
     },
     "execution_count": 93,
     "metadata": {},
     "output_type": "execute_result"
    }
   ],
   "source": [
    "X_test_glove"
   ]
  },
  {
   "cell_type": "markdown",
   "metadata": {},
   "source": [
    "### Doc2Vec\n",
    "This is a way that was developed for word2vec to generalize to paragraphs. Doc2Vec takes the average across them, and each tweet is represented as a single embedding, each of length 25 and you have vectors of consistent dimensionality.\n",
    "\n",
    "* https://medium.com/wisio/a-gentle-introduction-to-doc2vec-db3e8c0cce5e\n",
    "* https://radimrehurek.com/gensim/models/doc2vec.html"
   ]
  },
  {
   "cell_type": "code",
   "execution_count": 39,
   "metadata": {},
   "outputs": [],
   "source": [
    "from gensim.test.utils import common_texts\n",
    "from gensim.models.doc2vec import Doc2Vec, TaggedDocument"
   ]
  },
  {
   "cell_type": "code",
   "execution_count": 40,
   "metadata": {},
   "outputs": [],
   "source": [
    "documents = [TaggedDocument(doc, [i]) for i, doc in enumerate(common_texts)]\n",
    "model = Doc2Vec(documents, vector_size=5, window=2, min_count=1, workers=4)"
   ]
  },
  {
   "cell_type": "code",
   "execution_count": 41,
   "metadata": {},
   "outputs": [],
   "source": [
    "from gensim.test.utils import get_tmpfile\n",
    "fname = get_tmpfile(\"my_doc2vec_model\")\n",
    "model.save(fname)\n",
    "model = Doc2Vec.load(fname)  # you can continue training with the loaded model!"
   ]
  },
  {
   "cell_type": "markdown",
   "metadata": {},
   "source": [
    "# Clustering"
   ]
  },
  {
   "cell_type": "markdown",
   "metadata": {},
   "source": [
    "A summary of the different data I have:\n",
    "* Count vectorized ```X_train_cv, X_test_cv```\n",
    "* Tfidf ```X_train_tfidf, X_test_tfidf```"
   ]
  },
  {
   "cell_type": "markdown",
   "metadata": {},
   "source": [
    "### Advice\n",
    "Try to do clustering or topic modelling on this to pull out major themes and manually label these clusters.\n",
    "Different vectorization methods: word2vec (developed using NNs), countvectorizer, tfidf. Up to us for finding the clusters and the quality of the results and infer what the general topic might be.\n",
    "\n",
    "* K-means (most widely used)\n",
    "* DBscan (a bit slower but we don't have to determine the clusters ahead of time)\n",
    "\n",
    "You will have more success if you find one around the same type of domain. If they're all the same domain, they will capture the nuances. Generally the bot is going to be good at conversing topics on the language it's trained on. Maybe once you've trained it to detect a greeting they are more universal. If merge you might have to make your own IDs for this.\n",
    "\n",
    "You can't expect your model to do something and you intepret your results."
   ]
  },
  {
   "cell_type": "markdown",
   "metadata": {},
   "source": [
    "## 1. K Means Approach\n",
    "My first approach for the clustering my word vectors is K-Means, which tends to perform well on blobs.\n",
    "\n",
    "A drawback is that it is very slow, and picking the value for K is hard - I don't even know how many intents there are in the data. This is why I start with larger jumps of K to get a higher level idea of which performs the best, then I dive deeper to finally decide what K works the best for finding the optimal number of intents in my dataset."
   ]
  },
  {
   "cell_type": "code",
   "execution_count": 178,
   "metadata": {},
   "outputs": [
    {
     "name": "stdout",
     "output_type": "stream",
     "text": [
      "0 X_train_cv\n",
      "1 X_train_tfidf\n"
     ]
    }
   ],
   "source": [
    "# X_test\n",
    "test_data = {'X_test_cv': X_test_cv, 'X_test_tfidf': X_test_tfidf}\n",
    "\n",
    "# Starting with X_Train\n",
    "vectorized_data = {'X_train_cv': X_train_cv, 'X_train_tfidf': X_train_tfidf}\n",
    "for i,j in enumerate(vectorized_data.items()): print(i,j[0]);"
   ]
  },
  {
   "cell_type": "code",
   "execution_count": 183,
   "metadata": {
    "scrolled": true
   },
   "outputs": [
    {
     "name": "stderr",
     "output_type": "stream",
     "text": [
      "/opt/anaconda3/envs/capstone/lib/python3.7/site-packages/ipykernel_launcher.py:5: TqdmDeprecationWarning: This function will be removed in tqdm==5.0.0\n",
      "Please use `tqdm.notebook.tqdm` instead of `tqdm.tqdm_notebook`\n",
      "  \"\"\"\n"
     ]
    },
    {
     "data": {
      "application/vnd.jupyter.widget-view+json": {
       "model_id": "8ba840d0838a40b888af8d390b5d5cdf",
       "version_major": 2,
       "version_minor": 0
      },
      "text/plain": [
       "HBox(children=(FloatProgress(value=1.0, bar_style='info', max=1.0), HTML(value='')))"
      ]
     },
     "metadata": {},
     "output_type": "display_data"
    },
    {
     "name": "stderr",
     "output_type": "stream",
     "text": [
      "/opt/anaconda3/envs/capstone/lib/python3.7/site-packages/ipykernel_launcher.py:8: TqdmDeprecationWarning: This function will be removed in tqdm==5.0.0\n",
      "Please use `tqdm.notebook.tqdm` instead of `tqdm.tqdm_notebook`\n",
      "  \n"
     ]
    },
    {
     "data": {
      "application/vnd.jupyter.widget-view+json": {
       "model_id": "3a7167cc65f64757a4faf05d85738e6d",
       "version_major": 2,
       "version_minor": 0
      },
      "text/plain": [
       "HBox(children=(FloatProgress(value=0.0, max=10.0), HTML(value='')))"
      ]
     },
     "metadata": {},
     "output_type": "display_data"
    },
    {
     "name": "stdout",
     "output_type": "stream",
     "text": [
      "Currently fitting X_train_cv with 10 clusters... Please wait\n",
      "Currently fitting X_train_cv with 20 clusters... Please wait\n",
      "Currently fitting X_train_cv with 30 clusters... Please wait\n",
      "Currently fitting X_train_cv with 40 clusters... Please wait\n",
      "Currently fitting X_train_cv with 50 clusters... Please wait\n",
      "Currently fitting X_train_cv with 60 clusters... Please wait\n",
      "Currently fitting X_train_cv with 70 clusters... Please wait\n",
      "Currently fitting X_train_cv with 80 clusters... Please wait\n",
      "Currently fitting X_train_cv with 90 clusters... Please wait\n",
      "Currently fitting X_train_cv with 100 clusters... Please wait\n",
      "\n"
     ]
    },
    {
     "name": "stderr",
     "output_type": "stream",
     "text": [
      "/opt/anaconda3/envs/capstone/lib/python3.7/site-packages/ipykernel_launcher.py:8: TqdmDeprecationWarning: This function will be removed in tqdm==5.0.0\n",
      "Please use `tqdm.notebook.tqdm` instead of `tqdm.tqdm_notebook`\n",
      "  \n"
     ]
    },
    {
     "data": {
      "application/vnd.jupyter.widget-view+json": {
       "model_id": "7960b55b4251427c8220c033bdfbe119",
       "version_major": 2,
       "version_minor": 0
      },
      "text/plain": [
       "HBox(children=(FloatProgress(value=0.0, max=10.0), HTML(value='')))"
      ]
     },
     "metadata": {},
     "output_type": "display_data"
    },
    {
     "name": "stdout",
     "output_type": "stream",
     "text": [
      "Currently fitting X_train_tfidf with 10 clusters... Please wait\n",
      "Currently fitting X_train_tfidf with 20 clusters... Please wait\n",
      "Currently fitting X_train_tfidf with 30 clusters... Please wait\n",
      "Currently fitting X_train_tfidf with 40 clusters... Please wait\n",
      "Currently fitting X_train_tfidf with 50 clusters... Please wait\n",
      "Currently fitting X_train_tfidf with 60 clusters... Please wait\n",
      "Currently fitting X_train_tfidf with 70 clusters... Please wait\n",
      "Currently fitting X_train_tfidf with 80 clusters... Please wait\n",
      "Currently fitting X_train_tfidf with 90 clusters... Please wait\n",
      "Currently fitting X_train_tfidf with 100 clusters... Please wait\n",
      "\n",
      "\n",
      "CPU times: user 3h 8min 47s, sys: 4min 57s, total: 3h 13min 45s\n",
      "Wall time: 3h 38min 32s\n"
     ]
    }
   ],
   "source": [
    "%%time\n",
    "wcss_grand = {}\n",
    "labels_grand = {}\n",
    "n_clusters = [10,20,30,40,50,60,70,80,90,100]\n",
    "\n",
    "for i,j in tqdm(enumerate(vectorized_data.items())): # Starting with train data\n",
    "    wcss = []\n",
    "    labels = []\n",
    "    for k in tqdm(n_clusters):    \n",
    "        print(f'Currently fitting {j[0]} with {k} clusters... Please wait')\n",
    "        # Initializing with k-means++ ensures that you get don’t fall into the random initialization trap.\n",
    "        kmeans = KMeans(n_clusters=k, init='k-means++', max_iter=300, n_init=10, random_state = 10)\n",
    "        kmeans.fit(vectorized_data[j[0]])\n",
    "        wcss.append(kmeans.inertia_)\n",
    "        labels.append(kmeans.labels_)\n",
    "    # Updating grand dictionary\n",
    "    wcss_grand[j[0] + '_wcss'] = wcss\n",
    "    labels_grand[j[0] + '_labels'] = labels\n",
    "    "
   ]
  },
  {
   "cell_type": "markdown",
   "metadata": {},
   "source": [
    "### Storing results\n",
    "\n",
    "Wow! It took me three hours to apply K-Means over 10 iterations from 10 to 100 for both data types. Better save my model results in a pkl."
   ]
  },
  {
   "cell_type": "code",
   "execution_count": 185,
   "metadata": {},
   "outputs": [
    {
     "data": {
      "text/plain": [
       "{'X_train_cv_wcss': [530645.972276302,\n",
       "  515872.56591591635,\n",
       "  506263.25096308935,\n",
       "  499273.0325938495,\n",
       "  494721.5635948987,\n",
       "  490252.59452755644,\n",
       "  485571.38124904723,\n",
       "  483391.18722595525,\n",
       "  480814.251332943,\n",
       "  478320.6774778482],\n",
       " 'X_train_tfidf_wcss': [51187.78134353667,\n",
       "  50629.84828632547,\n",
       "  50215.28652104986,\n",
       "  49864.89596652504,\n",
       "  49569.48339937552,\n",
       "  49331.49470316796,\n",
       "  49092.011408560604,\n",
       "  48905.286083337814,\n",
       "  48707.45932094955,\n",
       "  48543.9464381612]}"
      ]
     },
     "execution_count": 185,
     "metadata": {},
     "output_type": "execute_result"
    }
   ],
   "source": [
    "wcss_grand"
   ]
  },
  {
   "cell_type": "code",
   "execution_count": 186,
   "metadata": {},
   "outputs": [
    {
     "data": {
      "text/plain": [
       "{'X_train_cv_labels': [array([3, 0, 8, ..., 0, 7, 4], dtype=int32),\n",
       "  array([ 0, 15, 13, ..., 15,  1, 12], dtype=int32),\n",
       "  array([26, 16, 25, ..., 14,  2, 13], dtype=int32),\n",
       "  array([ 3,  8, 19, ...,  8, 32,  2], dtype=int32),\n",
       "  array([ 3,  8, 19, ...,  8, 32, 28], dtype=int32),\n",
       "  array([35, 11,  2, ..., 46, 36, 59], dtype=int32),\n",
       "  array([35, 11,  2, ..., 46, 36, 59], dtype=int32),\n",
       "  array([15, 11,  2, ..., 46, 36, 59], dtype=int32),\n",
       "  array([ 3, 54, 16, ..., 60, 67, 46], dtype=int32),\n",
       "  array([ 3, 54, 90, ..., 60, 67, 46], dtype=int32)],\n",
       " 'X_train_tfidf_labels': [array([8, 4, 3, ..., 4, 3, 1], dtype=int32),\n",
       "  array([ 8, 14,  1, ...,  4,  1, 17], dtype=int32),\n",
       "  array([ 4, 14, 21, ..., 28, 21, 11], dtype=int32),\n",
       "  array([26, 21, 29, ..., 28, 20, 38], dtype=int32),\n",
       "  array([49, 14, 25, ..., 15, 48, 11], dtype=int32),\n",
       "  array([37, 36, 54, ...,  5, 50, 38], dtype=int32),\n",
       "  array([37, 36, 54, ..., 67, 43, 38], dtype=int32),\n",
       "  array([ 0,  7, 77, ..., 22, 72, 19], dtype=int32),\n",
       "  array([80, 36, 54, ..., 67, 74, 34], dtype=int32),\n",
       "  array([17, 43, 69, ..., 20, 24, 58], dtype=int32)]}"
      ]
     },
     "execution_count": 186,
     "metadata": {},
     "output_type": "execute_result"
    }
   ],
   "source": [
    "labels_grand"
   ]
  },
  {
   "cell_type": "code",
   "execution_count": 195,
   "metadata": {},
   "outputs": [
    {
     "name": "stdout",
     "output_type": "stream",
     "text": [
      "Embeddings.ipynb                     processed_X_train.pkl\r\n",
      "Natural Language Understanding.ipynb ten_clust.csv\r\n",
      "d2v.model                            test.pkl\r\n",
      "\u001b[1m\u001b[36mdata\u001b[m\u001b[m                                 tests.py\r\n",
      "labels_grand.pkl                     wcss-kmeans.pkl\r\n",
      "\u001b[1m\u001b[36mmatt_chatbot\u001b[m\u001b[m                         words_rank.csv\r\n",
      "processed_X_test.pkl                 words_rank_postprocessed.csv\r\n"
     ]
    }
   ],
   "source": [
    "!ls"
   ]
  },
  {
   "cell_type": "markdown",
   "metadata": {},
   "source": [
    "It took me a while to train this model. I'm going to use scikitlearn's joblib to store this model that I trained so that I don't have to run it multiple times. I also store the dictionaries I stored my results in using Python's serialization package called Pickle."
   ]
  },
  {
   "cell_type": "code",
   "execution_count": null,
   "metadata": {},
   "outputs": [],
   "source": [
    "import pickle"
   ]
  },
  {
   "cell_type": "code",
   "execution_count": 196,
   "metadata": {},
   "outputs": [],
   "source": [
    "# Dumping my dictionaries that store the results of my k-means iteration\n",
    "\n",
    "with open('objects/wcss_grand.pkl', 'wb') as handle:\n",
    "    pickle.dump(wcss_grand, handle, protocol=pickle.HIGHEST_PROTOCOL)\n",
    "\n",
    "with open('objects/labels_grand.pkl', 'wb') as handle:\n",
    "    pickle.dump(labels_grand, handle, protocol=pickle.HIGHEST_PROTOCOL)"
   ]
  },
  {
   "cell_type": "code",
   "execution_count": 197,
   "metadata": {},
   "outputs": [],
   "source": [
    "# Storing it into objects I can use in this notebook\n",
    "\n",
    "with open('objects/wcss-kmeans.pkl', 'rb') as handle:\n",
    "    wcss_grand = pickle.load(handle)\n",
    "with open('objects/labels_grand.pkl','rb') as handle:\n",
    "    labels_grand = pickle.load(handle)"
   ]
  },
  {
   "cell_type": "markdown",
   "metadata": {},
   "source": [
    "# Evaluating the Model\n",
    "\n",
    "In order to compare different clustering methods, I use a silouhette score and did a granular dive into each of the clustered Tweets to try to manually see if one cluster represents a distinct intent."
   ]
  },
  {
   "cell_type": "code",
   "execution_count": 198,
   "metadata": {},
   "outputs": [
    {
     "data": {
      "text/plain": [
       "{'X_train_cv_wcss': [530645.972276302,\n",
       "  515872.56591591635,\n",
       "  506263.25096308935,\n",
       "  499273.0325938495,\n",
       "  494721.5635948987,\n",
       "  490252.59452755644,\n",
       "  485571.38124904723,\n",
       "  483391.18722595525,\n",
       "  480814.251332943,\n",
       "  478320.6774778482],\n",
       " 'X_train_tfidf_wcss': [51187.78134353667,\n",
       "  50629.84828632547,\n",
       "  50215.28652104986,\n",
       "  49864.89596652504,\n",
       "  49569.48339937552,\n",
       "  49331.49470316796,\n",
       "  49092.011408560604,\n",
       "  48905.286083337814,\n",
       "  48707.45932094955,\n",
       "  48543.9464381612]}"
      ]
     },
     "execution_count": 198,
     "metadata": {},
     "output_type": "execute_result"
    }
   ],
   "source": [
    "wcss_grand"
   ]
  },
  {
   "cell_type": "markdown",
   "metadata": {},
   "source": [
    "I am making an elbow plot to see if there is a clear elbow, which hopefully I'll find but it's not very likely."
   ]
  },
  {
   "cell_type": "code",
   "execution_count": 205,
   "metadata": {},
   "outputs": [
    {
     "data": {
      "image/png": "[encoded data removed]",
      "text/plain": [
       "<Figure size 864x504 with 1 Axes>"
      ]
     },
     "metadata": {},
     "output_type": "display_data"
    }
   ],
   "source": [
    "# Elbow Plot\n",
    "plt.figure(figsize=(12,7))\n",
    "plt.plot(range(10, 101, 10), wcss_grand['X_train_cv_wcss'], color = 'magenta')\n",
    "plt.title('Elbow Method')\n",
    "plt.xlabel('Number of clusters')\n",
    "plt.ylabel('WCSS')\n",
    "plt.show()"
   ]
  },
  {
   "cell_type": "markdown",
   "metadata": {},
   "source": [
    "### Visualizing and Comparing Clusters"
   ]
  },
  {
   "cell_type": "markdown",
   "metadata": {},
   "source": [
    "Sample the data, then for reproducibility set a random state."
   ]
  },
  {
   "cell_type": "code",
   "execution_count": 250,
   "metadata": {},
   "outputs": [],
   "source": [
    "# For 5 clusters\n",
    "ten_clust = pd.DataFrame({'data': processed_X_train,'original': original, 'labels': labels[6]}).sort_values('labels',ignore_index = True)\n",
    "six_clust = pd.DataFrame({'data': processed_X_train,'labels': labels[3]})"
   ]
  },
  {
   "cell_type": "code",
   "execution_count": 253,
   "metadata": {
    "scrolled": true
   },
   "outputs": [
    {
     "data": {
      "text/html": [
       "<div>\n",
       "<style scoped>\n",
       "    .dataframe tbody tr th:only-of-type {\n",
       "        vertical-align: middle;\n",
       "    }\n",
       "\n",
       "    .dataframe tbody tr th {\n",
       "        vertical-align: top;\n",
       "    }\n",
       "\n",
       "    .dataframe thead th {\n",
       "        text-align: right;\n",
       "    }\n",
       "</style>\n",
       "<table border=\"1\" class=\"dataframe\">\n",
       "  <thead>\n",
       "    <tr style=\"text-align: right;\">\n",
       "      <th></th>\n",
       "      <th>data</th>\n",
       "      <th>original</th>\n",
       "      <th>labels</th>\n",
       "    </tr>\n",
       "  </thead>\n",
       "  <tbody>\n",
       "    <tr>\n",
       "      <th>0</th>\n",
       "      <td>[yep, i, have, thought, app, site, fault, yikes]</td>\n",
       "      <td>@285455 Yep - I've had that too. I thought it ...</td>\n",
       "      <td>0</td>\n",
       "    </tr>\n",
       "    <tr>\n",
       "      <th>1</th>\n",
       "      <td>[still, waiting, order, status, change, order,...</td>\n",
       "      <td>Still waiting for my order status to change fr...</td>\n",
       "      <td>0</td>\n",
       "    </tr>\n",
       "    <tr>\n",
       "      <th>2</th>\n",
       "      <td>[using, #ios11, ipadair, 2, conclude, ruined, ...</td>\n",
       "      <td>After a while using #ios11 on my iPadAir2, I c...</td>\n",
       "      <td>0</td>\n",
       "    </tr>\n",
       "    <tr>\n",
       "      <th>3</th>\n",
       "      <td>[1st, messages, deleted, pics, gone, wtf, get,...</td>\n",
       "      <td>1st all my messages deleted now all my pics ar...</td>\n",
       "      <td>0</td>\n",
       "    </tr>\n",
       "    <tr>\n",
       "      <th>4</th>\n",
       "      <td>[hi, want, view, us, app, store, i, am, uk, on...</td>\n",
       "      <td>@AppleSupport Hi I want to view the US app sto...</td>\n",
       "      <td>0</td>\n",
       "    </tr>\n",
       "    <tr>\n",
       "      <th>...</th>\n",
       "      <td>...</td>\n",
       "      <td>...</td>\n",
       "      <td>...</td>\n",
       "    </tr>\n",
       "    <tr>\n",
       "      <th>15816</th>\n",
       "      <td>[help, please, every, time, ️, type, letter, ️...</td>\n",
       "      <td>@AppleSupport Help please every time i️ type t...</td>\n",
       "      <td>0</td>\n",
       "    </tr>\n",
       "    <tr>\n",
       "      <th>15817</th>\n",
       "      <td>[say, 7hrs, .., pretty, awful, ask, :(]</td>\n",
       "      <td>@AppleSupport I’d say about 7hrs.. which is pr...</td>\n",
       "      <td>0</td>\n",
       "    </tr>\n",
       "    <tr>\n",
       "      <th>15818</th>\n",
       "      <td>[stop, ️, swearr, tooo, god, sound, bad, atm, ...</td>\n",
       "      <td>IF THIS DOES NOT STOP I️ SWEARR TOOO GOD @1158...</td>\n",
       "      <td>0</td>\n",
       "    </tr>\n",
       "    <tr>\n",
       "      <th>15819</th>\n",
       "      <td>[man, ️, keep, popping, type, letter, comes, h...</td>\n",
       "      <td>Man why do this “ I️  “keep popping up when we...</td>\n",
       "      <td>0</td>\n",
       "    </tr>\n",
       "    <tr>\n",
       "      <th>15820</th>\n",
       "      <td>[made, sure, mac, listed, still, cannot, downl...</td>\n",
       "      <td>@AppleSupport I am. Just made sure my mac is l...</td>\n",
       "      <td>0</td>\n",
       "    </tr>\n",
       "  </tbody>\n",
       "</table>\n",
       "<p>15821 rows × 3 columns</p>\n",
       "</div>"
      ],
      "text/plain": [
       "                                                    data  \\\n",
       "0       [yep, i, have, thought, app, site, fault, yikes]   \n",
       "1      [still, waiting, order, status, change, order,...   \n",
       "2      [using, #ios11, ipadair, 2, conclude, ruined, ...   \n",
       "3      [1st, messages, deleted, pics, gone, wtf, get,...   \n",
       "4      [hi, want, view, us, app, store, i, am, uk, on...   \n",
       "...                                                  ...   \n",
       "15816  [help, please, every, time, ️, type, letter, ️...   \n",
       "15817            [say, 7hrs, .., pretty, awful, ask, :(]   \n",
       "15818  [stop, ️, swearr, tooo, god, sound, bad, atm, ...   \n",
       "15819  [man, ️, keep, popping, type, letter, comes, h...   \n",
       "15820  [made, sure, mac, listed, still, cannot, downl...   \n",
       "\n",
       "                                                original  labels  \n",
       "0      @285455 Yep - I've had that too. I thought it ...       0  \n",
       "1      Still waiting for my order status to change fr...       0  \n",
       "2      After a while using #ios11 on my iPadAir2, I c...       0  \n",
       "3      1st all my messages deleted now all my pics ar...       0  \n",
       "4      @AppleSupport Hi I want to view the US app sto...       0  \n",
       "...                                                  ...     ...  \n",
       "15816  @AppleSupport Help please every time i️ type t...       0  \n",
       "15817  @AppleSupport I’d say about 7hrs.. which is pr...       0  \n",
       "15818  IF THIS DOES NOT STOP I️ SWEARR TOOO GOD @1158...       0  \n",
       "15819  Man why do this “ I️  “keep popping up when we...       0  \n",
       "15820  @AppleSupport I am. Just made sure my mac is l...       0  \n",
       "\n",
       "[15821 rows x 3 columns]"
      ]
     },
     "execution_count": 253,
     "metadata": {},
     "output_type": "execute_result"
    }
   ],
   "source": [
    "ten_clust.to_csv('ten_clust.csv') # Storing to CSV to view results\n",
    "ten_clust[ten_clust['labels'] == 0]"
   ]
  },
  {
   "cell_type": "code",
   "execution_count": 252,
   "metadata": {
    "scrolled": true
   },
   "outputs": [
    {
     "data": {
      "text/html": [
       "<div>\n",
       "<style scoped>\n",
       "    .dataframe tbody tr th:only-of-type {\n",
       "        vertical-align: middle;\n",
       "    }\n",
       "\n",
       "    .dataframe tbody tr th {\n",
       "        vertical-align: top;\n",
       "    }\n",
       "\n",
       "    .dataframe thead th {\n",
       "        text-align: right;\n",
       "    }\n",
       "</style>\n",
       "<table border=\"1\" class=\"dataframe\">\n",
       "  <thead>\n",
       "    <tr style=\"text-align: right;\">\n",
       "      <th></th>\n",
       "      <th>data</th>\n",
       "      <th>original</th>\n",
       "      <th>labels</th>\n",
       "    </tr>\n",
       "  </thead>\n",
       "  <tbody>\n",
       "    <tr>\n",
       "      <th>15821</th>\n",
       "      <td>[11.1, 2, still, fixed, many, bug, issues, iph...</td>\n",
       "      <td>@AppleSupport 11.1.2 still hasn’t fixed many o...</td>\n",
       "      <td>1</td>\n",
       "    </tr>\n",
       "    <tr>\n",
       "      <th>15822</th>\n",
       "      <td>[got, brand, new, iphone, 8, plus, stuck, reco...</td>\n",
       "      <td>I’ve got a brand new @115858 iPhone 8 Plus tha...</td>\n",
       "      <td>1</td>\n",
       "    </tr>\n",
       "    <tr>\n",
       "      <th>15823</th>\n",
       "      <td>[iphone, 6s, battery, life, completely, crappe...</td>\n",
       "      <td>My iPhone 6S battery life has completely crapp...</td>\n",
       "      <td>1</td>\n",
       "    </tr>\n",
       "    <tr>\n",
       "      <th>15824</th>\n",
       "      <td>[iphone, 8, plus, problem, speakers, sound, ev...</td>\n",
       "      <td>@AppleSupport iphone 8 plus I have a problem w...</td>\n",
       "      <td>1</td>\n",
       "    </tr>\n",
       "    <tr>\n",
       "      <th>15825</th>\n",
       "      <td>[iphone, 5s, keeps, dying, 40, snapchat, app, ...</td>\n",
       "      <td>@AppleSupport iPhone 5S keeps dying on 40%+ wh...</td>\n",
       "      <td>1</td>\n",
       "    </tr>\n",
       "    <tr>\n",
       "      <th>...</th>\n",
       "      <td>...</td>\n",
       "      <td>...</td>\n",
       "      <td>...</td>\n",
       "    </tr>\n",
       "    <tr>\n",
       "      <th>22285</th>\n",
       "      <td>[iphone, trippin, mane, cause, want, go, buy, ...</td>\n",
       "      <td>@115858 why my iphone trippin mane, it’s cause...</td>\n",
       "      <td>1</td>\n",
       "    </tr>\n",
       "    <tr>\n",
       "      <th>22286</th>\n",
       "      <td>[tried, see, pic, iphone, x, showing, corner, ...</td>\n",
       "      <td>@AppleSupport I tried that but if you can see ...</td>\n",
       "      <td>1</td>\n",
       "    </tr>\n",
       "    <tr>\n",
       "      <th>22287</th>\n",
       "      <td>[wanna, able, change, screen, gestures, iphone...</td>\n",
       "      <td>I wanna be able to change the screen gestures ...</td>\n",
       "      <td>1</td>\n",
       "    </tr>\n",
       "    <tr>\n",
       "      <th>22288</th>\n",
       "      <td>[iphone, hangs, lot, ..., really, reason, ...,...</td>\n",
       "      <td>@AppleSupport My iPhone hangs a lot....I reall...</td>\n",
       "      <td>1</td>\n",
       "    </tr>\n",
       "    <tr>\n",
       "      <th>22289</th>\n",
       "      <td>[since, getting, iphone, 8, plus, updating, io...</td>\n",
       "      <td>@AppleSupport why since getting the iPhone 8 P...</td>\n",
       "      <td>1</td>\n",
       "    </tr>\n",
       "  </tbody>\n",
       "</table>\n",
       "<p>6469 rows × 3 columns</p>\n",
       "</div>"
      ],
      "text/plain": [
       "                                                    data  \\\n",
       "15821  [11.1, 2, still, fixed, many, bug, issues, iph...   \n",
       "15822  [got, brand, new, iphone, 8, plus, stuck, reco...   \n",
       "15823  [iphone, 6s, battery, life, completely, crappe...   \n",
       "15824  [iphone, 8, plus, problem, speakers, sound, ev...   \n",
       "15825  [iphone, 5s, keeps, dying, 40, snapchat, app, ...   \n",
       "...                                                  ...   \n",
       "22285  [iphone, trippin, mane, cause, want, go, buy, ...   \n",
       "22286  [tried, see, pic, iphone, x, showing, corner, ...   \n",
       "22287  [wanna, able, change, screen, gestures, iphone...   \n",
       "22288  [iphone, hangs, lot, ..., really, reason, ...,...   \n",
       "22289  [since, getting, iphone, 8, plus, updating, io...   \n",
       "\n",
       "                                                original  labels  \n",
       "15821  @AppleSupport 11.1.2 still hasn’t fixed many o...       1  \n",
       "15822  I’ve got a brand new @115858 iPhone 8 Plus tha...       1  \n",
       "15823  My iPhone 6S battery life has completely crapp...       1  \n",
       "15824  @AppleSupport iphone 8 plus I have a problem w...       1  \n",
       "15825  @AppleSupport iPhone 5S keeps dying on 40%+ wh...       1  \n",
       "...                                                  ...     ...  \n",
       "22285  @115858 why my iphone trippin mane, it’s cause...       1  \n",
       "22286  @AppleSupport I tried that but if you can see ...       1  \n",
       "22287  I wanna be able to change the screen gestures ...       1  \n",
       "22288  @AppleSupport My iPhone hangs a lot....I reall...       1  \n",
       "22289  @AppleSupport why since getting the iPhone 8 P...       1  \n",
       "\n",
       "[6469 rows x 3 columns]"
      ]
     },
     "execution_count": 252,
     "metadata": {},
     "output_type": "execute_result"
    }
   ],
   "source": [
    "ten_clust[ten_clust['labels'] == 1]"
   ]
  },
  {
   "cell_type": "code",
   "execution_count": 39,
   "metadata": {},
   "outputs": [
    {
     "ename": "NameError",
     "evalue": "name 'ten_clust' is not defined",
     "output_type": "error",
     "traceback": [
      "\u001b[0;31m---------------------------------------------------------------------------\u001b[0m",
      "\u001b[0;31mNameError\u001b[0m                                 Traceback (most recent call last)",
      "\u001b[0;32m<ipython-input-39-037e8d1b53ee>\u001b[0m in \u001b[0;36m<module>\u001b[0;34m\u001b[0m\n\u001b[0;32m----> 1\u001b[0;31m \u001b[0mten_clust\u001b[0m\u001b[0;34m[\u001b[0m\u001b[0mten_clust\u001b[0m\u001b[0;34m[\u001b[0m\u001b[0;34m'labels'\u001b[0m\u001b[0;34m]\u001b[0m \u001b[0;34m==\u001b[0m \u001b[0;36m2\u001b[0m\u001b[0;34m]\u001b[0m\u001b[0;34m\u001b[0m\u001b[0;34m\u001b[0m\u001b[0m\n\u001b[0m",
      "\u001b[0;31mNameError\u001b[0m: name 'ten_clust' is not defined"
     ]
    }
   ],
   "source": [
    "ten_clust[ten_clust['labels'] == 2]"
   ]
  },
  {
   "cell_type": "markdown",
   "metadata": {},
   "source": [
    "Each cluster is specific"
   ]
  },
  {
   "cell_type": "markdown",
   "metadata": {},
   "source": [
    "### K-Means with glove doc2vec embedded vectorized data"
   ]
  },
  {
   "cell_type": "markdown",
   "metadata": {},
   "source": [
    "K Means expects the dimensionality is the same between all elements."
   ]
  },
  {
   "cell_type": "code",
   "execution_count": 96,
   "metadata": {},
   "outputs": [
    {
     "data": {
      "text/plain": [
       "(63412,)"
      ]
     },
     "execution_count": 96,
     "metadata": {},
     "output_type": "execute_result"
    }
   ],
   "source": [
    "X_train_glove.shape"
   ]
  },
  {
   "cell_type": "code",
   "execution_count": 93,
   "metadata": {
    "scrolled": false
   },
   "outputs": [
    {
     "data": {
      "text/plain": [
       "(19, 25)"
      ]
     },
     "execution_count": 93,
     "metadata": {},
     "output_type": "execute_result"
    }
   ],
   "source": [
    "# 19 words, each word is represented by an array of size 25\n",
    "X_train_glove.iloc[0].shape"
   ]
  },
  {
   "cell_type": "code",
   "execution_count": 98,
   "metadata": {},
   "outputs": [
    {
     "data": {
      "text/plain": [
       "(14, 25)"
      ]
     },
     "execution_count": 98,
     "metadata": {},
     "output_type": "execute_result"
    }
   ],
   "source": [
    "X_train_glove.iloc[1].shape"
   ]
  },
  {
   "cell_type": "code",
   "execution_count": 104,
   "metadata": {},
   "outputs": [
    {
     "data": {
      "text/plain": [
       "(10, 25)"
      ]
     },
     "execution_count": 104,
     "metadata": {},
     "output_type": "execute_result"
    }
   ],
   "source": [
    "X_train_glove.iloc[2].shape"
   ]
  },
  {
   "cell_type": "code",
   "execution_count": 105,
   "metadata": {},
   "outputs": [
    {
     "data": {
      "text/plain": [
       "(19, 25)"
      ]
     },
     "execution_count": 105,
     "metadata": {},
     "output_type": "execute_result"
    }
   ],
   "source": [
    "X_train_glove.iloc[3].shape"
   ]
  },
  {
   "cell_type": "markdown",
   "metadata": {},
   "source": [
    "K-Means clustering is struggling because you are passing in multiple arrays with different words, and each word has a different vector. Rather than encoding each Tweet with words. Doc2Vec converts the entire document into one vector."
   ]
  },
  {
   "cell_type": "markdown",
   "metadata": {},
   "source": [
    "## How do you check how it's performing, visualizing with PCA and t-SNE"
   ]
  },
  {
   "cell_type": "code",
   "execution_count": null,
   "metadata": {},
   "outputs": [],
   "source": []
  },
  {
   "cell_type": "markdown",
   "metadata": {},
   "source": [
    "Gensim containts pretrained word embeddings and load them in. They have a special data format where you can basically load it in as a numpy array. Word2Vec is a NN architecture which basically trains Word2Vec method to generate word embeddings.\n",
    "\n",
    "Someone has run this on a massive data and released the embeddings the model learned on the internet. Takes in various website and different contexts with learning. When you trained it to learn the words from like academic papers, the meaning of the word it learns is different than general twitter data. But a good thing about the word embeddigns is that they are usualyl trained on pretrained.\n",
    "\n",
    "Glove is another algorithm for calculating word vectors. BERT, etc. Fast text is quite popular as well. You'll get some kind of file with those words and you'll basically generate this word-to-word embedding matrix and you pass it in as the weights layer in your NN."
   ]
  },
  {
   "cell_type": "markdown",
   "metadata": {},
   "source": [
    "Starting with K-Means. Use Scikitlearn's tokenizer. Transform the text into vector representation like tfidf or CountVectorizer. You have a matrix of all your rows, you have your pretrained word embeddings, you'll have to manually match up each word with the word vector.\n",
    "\n"
   ]
  },
  {
   "cell_type": "markdown",
   "metadata": {},
   "source": [
    "When you build NN, when you use K fold it will take a LONG time so you can probably get away without doing CV with your NN and hyperparamater optimization. These embedding transformer has pretrained word embeddings, it will fit the data with that.\n",
    "\n",
    "Do more exploration on your data. Sometimes when you have NLTK on tweets it gets weird. Because they have been trained on actual text."
   ]
  },
  {
   "cell_type": "markdown",
   "metadata": {},
   "source": [
    "## 2. LDA (Latent Dirichlet Allocation)\n",
    "My second approach for the clustering is LDA topic modelling (Latent Dirichlet Allocation). It basically takes your data and splits it into topics. My goal is still to cluster, but with this method I hope to get more useful, distinct topics.\n",
    "\n",
    "Useful article:\n",
    "https://towardsdatascience.com/end-to-end-topic-modeling-in-python-latent-dirichlet-allocation-lda-35ce4ed6b3e0"
   ]
  },
  {
   "cell_type": "code",
   "execution_count": null,
   "metadata": {},
   "outputs": [],
   "source": [
    "\n",
    "\n"
   ]
  },
  {
   "cell_type": "code",
   "execution_count": null,
   "metadata": {},
   "outputs": [],
   "source": []
  },
  {
   "cell_type": "markdown",
   "metadata": {},
   "source": [
    "# 3. DBSCAN"
   ]
  },
  {
   "cell_type": "markdown",
   "metadata": {},
   "source": [
    "For time constraint's sake, I decided not to use DBScan because they will achieve a clustering result similar to K-Means. I could have also use Gaussian Mixed Models or Heirarchical Clustering to achieve this clustering result."
   ]
  }
 ],
 "metadata": {
  "kernelspec": {
   "display_name": "capstone",
   "language": "python",
   "name": "capstone"
  },
  "language_info": {
   "codemirror_mode": {
    "name": "ipython",
    "version": 3
   },
   "file_extension": ".py",
   "mimetype": "text/x-python",
   "name": "python",
   "nbconvert_exporter": "python",
   "pygments_lexer": "ipython3",
   "version": "3.7.6"
  }
 },
 "nbformat": 4,
 "nbformat_minor": 4
}
