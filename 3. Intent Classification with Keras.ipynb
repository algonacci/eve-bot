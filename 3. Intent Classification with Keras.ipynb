{
 "cells": [
  {
   "cell_type": "markdown",
   "metadata": {
    "colab_type": "text",
    "id": "V1fkySyFbx0j"
   },
   "source": [
    "# Intent Classification with Keras\n",
    "In my past notebooks, my goal was to recieve my labeled data for my chatbot. Now this notebook focuses on using Keras to classify intents of new, unseen data that a user might type up. The model now switched to a supervised learning approach now that we generated the labels from the unsupervised learning we did in the previous notebook.\n",
    "\n",
    "### Rasa Comparison\n",
    "Rasa trains this intent classification step with SVM and GridsearchCV because they can try different configurations ([source](https://medium.com/bhavaniravi/intent-classification-demystifying-rasanlu-part-4-685fc02f5c1d)). When deploying preprocessing pipeline should remain same between train and test."
   ]
  },
  {
   "cell_type": "code",
   "execution_count": 111,
   "metadata": {
    "colab": {
     "base_uri": "https://localhost:8080/",
     "height": 275
    },
    "colab_type": "code",
    "id": "uVG4gfRQbx0k",
    "outputId": "b5b06a15-87fd-49c2-c89f-e0c378712c4f",
    "scrolled": true,
    "tags": []
   },
   "outputs": [
    {
     "name": "stdout",
     "output_type": "stream",
     "text": [
      "Pandas: 1.0.5\n",
      "Numpy: 1.18.5\n",
      "Tensorflow: 2.2.0\n",
      "Keras: 2.3.0-tf\n",
      "Sklearn: 0.23.1\n",
      "Training data:                                            Utterance           Intent\n",
      "0  [phone, battery, die, fast, within, hour, usag...          battery\n",
      "1                                 [forgot, my, pass]  forgot_password\n",
      "2                            [payment, not, through]          payment\n",
      "3                                     [want, update]           update\n",
      "4                                [need, information]             info\n"
     ]
    }
   ],
   "source": [
    "# Data science\n",
    "import pandas as pd\n",
    "print(f\"Pandas: {pd.__version__}\")\n",
    "import numpy as np\n",
    "print(f\"Numpy: {np.__version__}\")\n",
    "\n",
    "# Deep Learning \n",
    "import tensorflow as tf\n",
    "print(f\"Tensorflow: {tf.__version__}\")\n",
    "from tensorflow import keras\n",
    "print(f\"Keras: {keras.__version__}\")\n",
    "import sklearn\n",
    "print(f\"Sklearn: {sklearn.__version__}\")\n",
    "\n",
    "# Visualization \n",
    "import seaborn as sns\n",
    "import matplotlib.pyplot as plt\n",
    "sns.set(style=\"ticks\", color_codes=True)\n",
    "\n",
    "import collections\n",
    "import yaml\n",
    "import re\n",
    "import os\n",
    "\n",
    "# Preprocessing and Keras\n",
    "from nltk.corpus import stopwords\n",
    "from nltk.tokenize import word_tokenize\n",
    "from sklearn.preprocessing import OneHotEncoder\n",
    "from keras.preprocessing.text import Tokenizer\n",
    "from keras.preprocessing.sequence import pad_sequences\n",
    "from keras.utils import to_categorical\n",
    "from keras.models import Sequential, load_model\n",
    "from keras.layers import Dense, LSTM, Bidirectional, Embedding, Dropout\n",
    "from keras.callbacks import ModelCheckpoint\n",
    "from sklearn.model_selection import train_test_split\n",
    "from tensorflow.keras.layers import Input\n",
    "\n",
    "\n",
    "# Reading in training data\n",
    "train = pd.read_pickle('objects/train.pkl')\n",
    "print(f'Training data: {train.head()}')"
   ]
  },
  {
   "cell_type": "markdown",
   "metadata": {
    "colab_type": "text",
    "id": "Muag_xYwbx0p"
   },
   "source": [
    "# Keras Preprocessing\n",
    "\n",
    "### Keras Tokenizer\n",
    "Creates a dictionary of all the words in the vocab, and it stores the index. For each sequence it passes in the sequence and converts each word into the index that refers to the Keras word dictionary. When you feed in sentences into the model, they all have to be the same length. But some tweets are going to be longer than others, so pad_sequences just pad all the other ones so they are on the same length. It padding the messages with 0s until they are the same length as the longest message. Shorter max lengths are generally preferred because longer sequences are harder to train on.\n",
    "\n",
    "I've done most of the main preprocessing work, but Keras needs some more specific things for to model with it."
   ]
  },
  {
   "cell_type": "code",
   "execution_count": 4,
   "metadata": {
    "colab": {
     "base_uri": "https://localhost:8080/",
     "height": 34
    },
    "colab_type": "code",
    "id": "NF7ZZItmcD_C",
    "outputId": "fa634fec-5282-40b9-d2c2-08c8b13e0931"
   },
   "outputs": [
    {
     "name": "stdout",
     "output_type": "stream",
     "text": [
      "/Users/matthewtaruno/Google Drive/College/3-Junior/BRAINSTATION/Capstone/Chatbot/local_not_git_chatbot\r\n"
     ]
    }
   ],
   "source": [
    "!pwd"
   ]
  },
  {
   "cell_type": "code",
   "execution_count": 86,
   "metadata": {
    "colab": {
     "base_uri": "https://localhost:8080/",
     "height": 85
    },
    "colab_type": "code",
    "id": "IAjJqgSJbx0p",
    "outputId": "6a8445ed-6d34-44df-da33-79cd9d1e9e16",
    "scrolled": true
   },
   "outputs": [
    {
     "name": "stdout",
     "output_type": "stream",
     "text": [
      "\n",
      "Shape checks:\n",
      "X_train: (7000,) X_val: (3000,)\n",
      "y_train: (7000,) y_val: (3000,)\n"
     ]
    }
   ],
   "source": [
    "from keras.preprocessing.text import Tokenizer\n",
    "from keras.preprocessing.text import one_hot\n",
    "\n",
    "# Label encoding the target\n",
    "from sklearn.preprocessing import LabelEncoder\n",
    "from sklearn.preprocessing import OneHotEncoder\n",
    "\n",
    "# For the text data\n",
    "from keras.preprocessing.text import hashing_trick\n",
    "from keras.preprocessing.text import text_to_word_sequence\n",
    "\n",
    "# I use Keras' Tokenizer API - helpful link I followed: https://machinelearningmastery.com/prepare-text-data-deep-learning-keras/\n",
    "# Train test split\n",
    "# Split in to train and test (stratify for class imbalance and random state for reproducibility)\n",
    "X_train, X_val, y_train, y_val = train_test_split(train['Utterance'], train['Intent'], test_size = 0.3, \n",
    "                                                   shuffle = True, stratify = train['Intent'], random_state = 7)\n",
    "print(f'\\nShape checks:\\nX_train: {X_train.shape} X_val: {X_val.shape}\\ny_train: {y_train.shape} y_val: {y_val.shape}')"
   ]
  },
  {
   "cell_type": "code",
   "execution_count": 87,
   "metadata": {},
   "outputs": [
    {
     "data": {
      "text/plain": [
       "413                   update\n",
       "8969         challenge_robot\n",
       "4529         challenge_robot\n",
       "2663                  update\n",
       "1319         challenge_robot\n",
       "                ...         \n",
       "9383                  update\n",
       "7159         challenge_robot\n",
       "8836    speak_representative\n",
       "3156    speak_representative\n",
       "3662                 payment\n",
       "Name: Intent, Length: 7000, dtype: object"
      ]
     },
     "execution_count": 87,
     "metadata": {},
     "output_type": "execute_result"
    }
   ],
   "source": [
    "y_train"
   ]
  },
  {
   "cell_type": "code",
   "execution_count": 88,
   "metadata": {
    "colab": {},
    "colab_type": "code",
    "id": "-9-OfyoPfBxt"
   },
   "outputs": [],
   "source": [
    "# Encoding the target variable\n",
    "\n",
    "le = LabelEncoder()\n",
    "le.fit(y_train)\n",
    "\n",
    "y_train = le.transform(y_train)\n",
    "y_val = le.transform(y_val)"
   ]
  },
  {
   "cell_type": "code",
   "execution_count": 89,
   "metadata": {
    "colab": {
     "base_uri": "https://localhost:8080/",
     "height": 68
    },
    "colab_type": "code",
    "id": "unIGcoeIflGa",
    "outputId": "257720ff-1526-405a-ceb9-299ac20073b0"
   },
   "outputs": [
    {
     "data": {
      "text/plain": [
       "array(['battery', 'challenge_robot', 'forgot_password', 'goodbye',\n",
       "       'greeting', 'info', 'location', 'payment', 'speak_representative',\n",
       "       'update'], dtype=object)"
      ]
     },
     "execution_count": 89,
     "metadata": {},
     "output_type": "execute_result"
    }
   ],
   "source": [
    "le.classes_"
   ]
  },
  {
   "cell_type": "code",
   "execution_count": 91,
   "metadata": {
    "colab": {
     "base_uri": "https://localhost:8080/",
     "height": 238
    },
    "colab_type": "code",
    "id": "UR2c5gczbx0s",
    "outputId": "a5ce83f2-61e3-488e-d35d-ec3902e7fe79"
   },
   "outputs": [
    {
     "name": "stdout",
     "output_type": "stream",
     "text": [
      "Document Count: \n",
      "7000\n",
      "\n",
      "Vocab size:\n",
      "3901\n",
      "Max length:\n",
      "32\n",
      "padded_X_train\n",
      "[[   5   17    2 ...    0    0    0]\n",
      " [  32    6   11 ...    0    0    0]\n",
      " [  32    6   11 ...    0    0    0]\n",
      " ...\n",
      " [  27   37    9 ...    0    0    0]\n",
      " [   9   10   12 ...    0    0    0]\n",
      " [   7    1 3900 ...    0    0    0]]\n",
      "padded_X_val\n",
      "[[  13   10    0 ...    0    0    0]\n",
      " [1409   21    1 ...    0    0    0]\n",
      " [ 125   33    2 ...    0    0    0]\n",
      " ...\n",
      " [   6   11   13 ...    0    0    0]\n",
      " [  36  185   24 ...    0    0    0]\n",
      " [  54    6   30 ...    0    0    0]]\n"
     ]
    }
   ],
   "source": [
    "## 1. ENCODING THE TEXT DATA\n",
    "\n",
    "# NOTE: Since we use an embedding matrix, we use the Tokenizer API to integer encode our data - https://machinelearningmastery.com/use-word-embedding-layers-deep-learning-keras/\n",
    "t = Tokenizer()\n",
    "t.fit_on_texts(X_train)\n",
    "\n",
    "print(\"Document Count: \\n{}\\n\".format(t.document_count))\n",
    "# print(\"Word index: \\n{} \\n \".format(t.word_index))\n",
    "# print(\"Word Counts: \\n{} \\n\".format(len(t.word_counts) + 1))\n",
    "# print(\"Word docs: \\n{} \\n \".format(t.word_docs))\n",
    "\n",
    "def convert_to_padded(tokenizer, docs):\n",
    "    ''' Taking in Keras API Tokenizer and documents and returns their padded version '''\n",
    "    ## Using API's attributes\n",
    "    # Embedding\n",
    "    embedded = t.texts_to_sequences(docs)\n",
    "    # Padding\n",
    "    padded = pad_sequences(embedded, maxlen = max_length, padding = 'post')\n",
    "    return padded\n",
    "\n",
    "## Defining useful variables for later\n",
    "# Adding 1 becuase of reserved 0 index\n",
    "vocab_size = len(t.word_counts) + 1\n",
    "print(f'Vocab size:\\n{vocab_size}')\n",
    "\n",
    "# Pad documents to a max length\n",
    "max_length = len(max(embedded_X_train, key = len))\n",
    "\n",
    "print(f'Max length:\\n{max_length}')\n",
    "\n",
    "padded_X_train = convert_to_padded(tokenizer = t, docs = X_train)\n",
    "padded_X_val = convert_to_padded(tokenizer = t, docs = X_val)\n",
    "\n",
    "print(f'padded_X_train\\n{padded_X_train}')\n",
    "print(f'padded_X_val\\n{padded_X_val}')"
   ]
  },
  {
   "cell_type": "code",
   "execution_count": 92,
   "metadata": {
    "colab": {
     "base_uri": "https://localhost:8080/",
     "height": 34
    },
    "colab_type": "code",
    "id": "vwDfMawtbx0v",
    "outputId": "256b279d-4f8d-4464-fef7-ea4e54937b8b"
   },
   "outputs": [
    {
     "data": {
      "text/plain": [
       "((7000, 32), (3000, 32), (7000,), (3000,))"
      ]
     },
     "execution_count": 92,
     "metadata": {},
     "output_type": "execute_result"
    }
   ],
   "source": [
    "padded_X_train.shape, padded_X_val.shape, y_train.shape, y_val.shape"
   ]
  },
  {
   "cell_type": "code",
   "execution_count": 93,
   "metadata": {
    "colab": {
     "base_uri": "https://localhost:8080/",
     "height": 85
    },
    "colab_type": "code",
    "id": "HkqW3VjKqwKI",
    "outputId": "6ab620ec-f1db-4b8e-ac26-26c14102e5b3"
   },
   "outputs": [
    {
     "data": {
      "text/plain": [
       "array([32,  6, 11,  0,  0,  0,  0,  0,  0,  0,  0,  0,  0,  0,  0,  0,  0,\n",
       "        0,  0,  0,  0,  0,  0,  0,  0,  0,  0,  0,  0,  0,  0,  0],\n",
       "      dtype=int32)"
      ]
     },
     "execution_count": 93,
     "metadata": {},
     "output_type": "execute_result"
    }
   ],
   "source": [
    "padded_X_train[1]"
   ]
  },
  {
   "cell_type": "markdown",
   "metadata": {
    "colab_type": "text",
    "id": "xH0LDPxGbx0y"
   },
   "source": [
    "Running the example fits the Tokenizer with 5 small documents. The details of the fit Tokenizer are printed. Then the 5 documents are encoded using a word count.\n",
    "\n",
    "Each document is encoded as a 9-element vector with one position for each word and the chosen encoding scheme value for each word position. In this case, a simple word count mode is used."
   ]
  },
  {
   "cell_type": "markdown",
   "metadata": {
    "colab_type": "text",
    "id": "0BJGJ_6jbx0z"
   },
   "source": [
    "### Embedding matrix"
   ]
  },
  {
   "cell_type": "markdown",
   "metadata": {
    "colab_type": "text",
    "id": "E_gU9p1Gbx0z"
   },
   "source": [
    "Keras models look for y variables to be one hot encoded. When it's multiclass many people feed it as one hot encoded vectors. It's just one of the design choices.\n",
    "\n",
    "If you're using doc2vec embeddings, how do you pass in your Tweets. You may have to pass it in as full tweets. Check how you pass in the Tweets. You may have to tokenize at a Tweet level. If you pass it in, if it's Tweet 57, it will activate the node such that it gets multiplied out by the embeddings for the 57th document."
   ]
  },
  {
   "cell_type": "code",
   "execution_count": 94,
   "metadata": {
    "colab": {},
    "colab_type": "code",
    "id": "vif1Y7qqbx00",
    "outputId": "40230d4e-46ba-4273-ecce-9ac0e20b299a"
   },
   "outputs": [
    {
     "name": "stdout",
     "output_type": "stream",
     "text": [
      "glove.twitter.27B.100d.txt glove.twitter.27B.25d.txt\r\n",
      "glove.twitter.27B.200d.txt glove.twitter.27B.50d.txt\r\n"
     ]
    }
   ],
   "source": [
    "# We can see that there are 4 different dimensionality options\n",
    "!ls models/glove.twitter.27B"
   ]
  },
  {
   "cell_type": "markdown",
   "metadata": {
    "colab_type": "text",
    "id": "T83TIrvPbx03"
   },
   "source": [
    "Here, we compute an index mapping words to known embeddings by parsing the data dump of pre-trained embeddings:\n",
    "\n",
    "I use 50D because my X_train has a max_length of 32."
   ]
  },
  {
   "cell_type": "code",
   "execution_count": 95,
   "metadata": {
    "colab": {
     "base_uri": "https://localhost:8080/",
     "height": 34
    },
    "colab_type": "code",
    "id": "2LpoFpsDbx03",
    "outputId": "992de14f-94d7-4fd6-b414-5d815c348b1d"
   },
   "outputs": [
    {
     "name": "stdout",
     "output_type": "stream",
     "text": [
      "Found 1193514 word vectors.\n"
     ]
    }
   ],
   "source": [
    "# Using gloVe word embeddings\n",
    "embeddings_index = {}\n",
    "f = open('models/glove.twitter.27B/glove.twitter.27B.50d.txt')\n",
    "for line in f:\n",
    "    values = line.split()\n",
    "    word = values[0]\n",
    "    coefs = np.asarray(values[1:], dtype='float32')\n",
    "    embeddings_index[word] = coefs\n",
    "f.close()\n",
    "\n",
    "print('Found %s word vectors.' % len(embeddings_index))"
   ]
  },
  {
   "cell_type": "markdown",
   "metadata": {
    "colab_type": "text",
    "id": "NkBbmMOkbx06"
   },
   "source": [
    "Now we can leverage our embedding_index dictionary and our word_index to compute our embedding matrix:"
   ]
  },
  {
   "cell_type": "code",
   "execution_count": 96,
   "metadata": {
    "colab": {},
    "colab_type": "code",
    "id": "4tdN1wuLbx07"
   },
   "outputs": [],
   "source": [
    "# Initializing required objects\n",
    "word_index = t.word_index\n",
    "EMBEDDING_DIM = 50 # Because we are using the 50D gloVe embeddings\n",
    "\n",
    "# Getting my embedding matrix\n",
    "embedding_matrix = np.zeros((len(word_index) + 1, EMBEDDING_DIM))\n",
    "for word, i in word_index.items():\n",
    "    embedding_vector = embeddings_index.get(word)\n",
    "    if embedding_vector is not None:\n",
    "        # words not found in embedding index will be all-zeros.\n",
    "        embedding_matrix[i] = embedding_vector"
   ]
  },
  {
   "cell_type": "code",
   "execution_count": 97,
   "metadata": {
    "colab": {
     "base_uri": "https://localhost:8080/",
     "height": 238
    },
    "colab_type": "code",
    "id": "rZXsRtHTbx0-",
    "outputId": "8dc559cd-665e-4645-a19c-b6a265b6df52"
   },
   "outputs": [
    {
     "data": {
      "text/plain": [
       "(array([[ 0.        ,  0.        ,  0.        , ...,  0.        ,\n",
       "          0.        ,  0.        ],\n",
       "        [ 0.36294001, -0.26519001, -1.30439997, ..., -0.22002   ,\n",
       "         -0.74168998,  0.56022   ],\n",
       "        [ 0.54084998,  0.96133   , -0.68097001, ..., -0.9709    ,\n",
       "         -0.57907999,  0.44661999],\n",
       "        ...,\n",
       "        [-0.22375   ,  0.56770003,  0.64853001, ...,  0.20303001,\n",
       "         -0.33232999, -1.22640002],\n",
       "        [ 0.70542002, -0.66109997, -1.38380003, ...,  0.41464999,\n",
       "         -0.89143997,  0.52526999],\n",
       "        [ 1.11170006, -0.70731997,  0.60087001, ..., -0.31909001,\n",
       "          0.31624001, -0.27930999]]),\n",
       " (3901, 50))"
      ]
     },
     "execution_count": 97,
     "metadata": {},
     "output_type": "execute_result"
    }
   ],
   "source": [
    "embedding_matrix, embedding_matrix.shape"
   ]
  },
  {
   "cell_type": "markdown",
   "metadata": {
    "colab_type": "text",
    "id": "y4HBkKIPbx1C"
   },
   "source": [
    "Great, now we can start the modelling.\n",
    "\n",
    "In a regular word embedding, the order of the embeddings in the matrix has to be setup so that it matches how the words appear in my keras tokenizer word index. It does it so that the most common words appear up front, and the embedding matrix needs to be aligned.\n",
    "\n",
    "I also made sure the order of the embeddings are the same order of the words in my model.\n",
    "\n",
    "Here, I also made sure that domain-specific words like macbook is in my Twitter embeddings. One example of this is 'macbook' and you can clearly see that it is indeed in the embeddings file, which is good:\n",
    "\n",
    "<img src=\"visualizations/macbook-glove.png\" alt=\"Drawing\" style=\"width: 400px;\"/>"
   ]
  },
  {
   "cell_type": "markdown",
   "metadata": {
    "colab_type": "text",
    "id": "d7khIrmGbx1C"
   },
   "source": [
    "# Keras Modelling\n",
    "I will create a neural network with Keras with the output layer having the same number of nodes as there are intents. The following is my architecture:"
   ]
  },
  {
   "cell_type": "code",
   "execution_count": 98,
   "metadata": {
    "colab": {
     "base_uri": "https://localhost:8080/",
     "height": 357
    },
    "colab_type": "code",
    "id": "cVOOkDNdbx1F",
    "outputId": "92f75bea-daa4-462d-8811-3546d28c3501",
    "scrolled": true
   },
   "outputs": [
    {
     "name": "stdout",
     "output_type": "stream",
     "text": [
      "Model: \"sequential_5\"\n",
      "_________________________________________________________________\n",
      "Layer (type)                 Output Shape              Param #   \n",
      "=================================================================\n",
      "embedding_5 (Embedding)      (None, 32, 50)            195050    \n",
      "_________________________________________________________________\n",
      "bidirectional_3 (Bidirection (None, 256)               183296    \n",
      "_________________________________________________________________\n",
      "dense_9 (Dense)              (None, 600)               154200    \n",
      "_________________________________________________________________\n",
      "dense_10 (Dense)             (None, 600)               360600    \n",
      "_________________________________________________________________\n",
      "dropout_3 (Dropout)          (None, 600)               0         \n",
      "_________________________________________________________________\n",
      "dense_11 (Dense)             (None, 10)                6010      \n",
      "=================================================================\n",
      "Total params: 899,156\n",
      "Trainable params: 704,106\n",
      "Non-trainable params: 195,050\n",
      "_________________________________________________________________\n"
     ]
    }
   ],
   "source": [
    "def make_model(vocab_size, max_token_length):\n",
    "    ''' In this function I define all the layers of my neural network'''\n",
    "    # Initialize\n",
    "    model = Sequential()\n",
    "    #model.add(Input(shape = (32,), dtype = 'int32'))\n",
    "\n",
    "    # Adding layers - For embedding layer, I made sure to add my embedding matrix into the weights paramater\n",
    "    model.add(Embedding(vocab_size, embedding_matrix.shape[1], input_length = 32, \n",
    "                        trainable = False, weights = [embedding_matrix]))\n",
    "    \n",
    "    model.add(Bidirectional(LSTM(128)))\n",
    "#    model.add(LSTM(128)) \n",
    "    # Try 100\n",
    "    model.add(Dense(600, activation = \"relu\",kernel_regularizer ='l2')) # Try 50, another dense layer? This takes a little bit of exploration\n",
    "    \n",
    "    # Adding another dense layer to increase model complexity\n",
    "    model.add(Dense(600, activation = \"relu\",kernel_regularizer ='l2'))\n",
    "    \n",
    "    # Only update 50 percent of the nodes - helps with overfitting\n",
    "    model.add(Dropout(0.5))\n",
    "    \n",
    "    # This last layer should be the size of the number of your intents!\n",
    "    # Use sigmoid for multilabel classification, otherwise, use softmax!\n",
    "    model.add(Dense(10, activation = \"softmax\"))\n",
    "    \n",
    "    return model\n",
    "\n",
    "# Actually creating my model with 32 as the max token length\n",
    "model = make_model(vocab_size, 32)\n",
    "model.compile(loss = \"sparse_categorical_crossentropy\", \n",
    "              optimizer = \"adam\", metrics = [\"accuracy\"])\n",
    "model.summary()"
   ]
  },
  {
   "cell_type": "code",
   "execution_count": 99,
   "metadata": {
    "colab": {
     "base_uri": "https://localhost:8080/",
     "height": 938
    },
    "colab_type": "code",
    "id": "gnq7SY7vbx1I",
    "outputId": "150c2ce0-e9d9-493f-9bfc-674b1d8c73ef"
   },
   "outputs": [
    {
     "name": "stdout",
     "output_type": "stream",
     "text": [
      "Epoch 1/20\n",
      "219/219 [==============================] - ETA: 0s - loss: 2.3257 - accuracy: 0.7097\n",
      "Epoch 00001: val_loss improved from inf to 0.81126, saving model to models/intent_classification_b.h5\n",
      "219/219 [==============================] - 23s 104ms/step - loss: 2.3257 - accuracy: 0.7097 - val_loss: 0.8113 - val_accuracy: 0.7927 - lr: 0.0010\n",
      "Epoch 2/20\n",
      "219/219 [==============================] - ETA: 0s - loss: 0.6165 - accuracy: 0.8543\n",
      "Epoch 00002: val_loss improved from 0.81126 to 0.54484, saving model to models/intent_classification_b.h5\n",
      "219/219 [==============================] - 17s 78ms/step - loss: 0.6165 - accuracy: 0.8543 - val_loss: 0.5448 - val_accuracy: 0.8593 - lr: 0.0010\n",
      "Epoch 3/20\n",
      "218/219 [============================>.] - ETA: 0s - loss: 0.5231 - accuracy: 0.8697\n",
      "Epoch 00003: val_loss did not improve from 0.54484\n",
      "219/219 [==============================] - 14s 66ms/step - loss: 0.5239 - accuracy: 0.8694 - val_loss: 0.5555 - val_accuracy: 0.8640 - lr: 0.0010\n",
      "Epoch 4/20\n",
      "219/219 [==============================] - ETA: 0s - loss: 0.4759 - accuracy: 0.8834\n",
      "Epoch 00004: val_loss improved from 0.54484 to 0.47379, saving model to models/intent_classification_b.h5\n",
      "219/219 [==============================] - 22s 100ms/step - loss: 0.4759 - accuracy: 0.8834 - val_loss: 0.4738 - val_accuracy: 0.8783 - lr: 0.0010\n",
      "Epoch 5/20\n",
      "218/219 [============================>.] - ETA: 0s - loss: 0.4286 - accuracy: 0.8938\n",
      "Epoch 00005: val_loss improved from 0.47379 to 0.46437, saving model to models/intent_classification_b.h5\n",
      "219/219 [==============================] - 20s 93ms/step - loss: 0.4277 - accuracy: 0.8941 - val_loss: 0.4644 - val_accuracy: 0.8760 - lr: 0.0010\n",
      "Epoch 6/20\n",
      "219/219 [==============================] - ETA: 0s - loss: 0.3920 - accuracy: 0.9049\n",
      "Epoch 00006: val_loss did not improve from 0.46437\n",
      "219/219 [==============================] - 16s 73ms/step - loss: 0.3920 - accuracy: 0.9049 - val_loss: 0.4973 - val_accuracy: 0.8723 - lr: 0.0010\n",
      "Epoch 7/20\n",
      "219/219 [==============================] - ETA: 0s - loss: 0.3619 - accuracy: 0.9119\n",
      "Epoch 00007: val_loss did not improve from 0.46437\n",
      "219/219 [==============================] - 19s 87ms/step - loss: 0.3619 - accuracy: 0.9119 - val_loss: 0.4910 - val_accuracy: 0.8733 - lr: 0.0010\n",
      "Epoch 8/20\n",
      "219/219 [==============================] - ETA: 0s - loss: 0.3281 - accuracy: 0.9194\n",
      "Epoch 00008: val_loss improved from 0.46437 to 0.45414, saving model to models/intent_classification_b.h5\n",
      "219/219 [==============================] - 21s 97ms/step - loss: 0.3281 - accuracy: 0.9194 - val_loss: 0.4541 - val_accuracy: 0.8893 - lr: 0.0010\n",
      "Epoch 9/20\n",
      "219/219 [==============================] - ETA: 0s - loss: 0.2977 - accuracy: 0.9346\n",
      "Epoch 00009: val_loss improved from 0.45414 to 0.44318, saving model to models/intent_classification_b.h5\n",
      "219/219 [==============================] - 21s 96ms/step - loss: 0.2977 - accuracy: 0.9346 - val_loss: 0.4432 - val_accuracy: 0.8847 - lr: 0.0010\n",
      "Epoch 10/20\n",
      "219/219 [==============================] - ETA: 0s - loss: 0.2760 - accuracy: 0.9366\n",
      "Epoch 00010: val_loss did not improve from 0.44318\n",
      "219/219 [==============================] - 19s 87ms/step - loss: 0.2760 - accuracy: 0.9366 - val_loss: 0.4699 - val_accuracy: 0.8770 - lr: 0.0010\n",
      "Epoch 11/20\n",
      "218/219 [============================>.] - ETA: 0s - loss: 0.2378 - accuracy: 0.9494\n",
      "Epoch 00011: val_loss did not improve from 0.44318\n",
      "219/219 [==============================] - 18s 83ms/step - loss: 0.2380 - accuracy: 0.9494 - val_loss: 0.4478 - val_accuracy: 0.8833 - lr: 9.0484e-04\n",
      "Epoch 12/20\n",
      "218/219 [============================>.] - ETA: 0s - loss: 0.2061 - accuracy: 0.9600\n",
      "Epoch 00012: val_loss did not improve from 0.44318\n",
      "219/219 [==============================] - 16s 73ms/step - loss: 0.2063 - accuracy: 0.9600 - val_loss: 0.5080 - val_accuracy: 0.8687 - lr: 8.1873e-04\n"
     ]
    }
   ],
   "source": [
    "# Initializing checkpoint settings to view progress and save model\n",
    "filename = 'models/intent_classification_b.h5'\n",
    "\n",
    "# Learning rate scheduling\n",
    "# This function keeps the initial learning rate for the first ten epochs  \n",
    "# and decreases it exponentially after that.  \n",
    "def scheduler(epoch, lr):\n",
    "    if epoch < 10:\n",
    "        return lr\n",
    "    else:\n",
    "        return lr * tf.math.exp(-0.1)\n",
    "\n",
    "lr_sched_checkpoint = tf.keras.callbacks.LearningRateScheduler(scheduler)\n",
    "\n",
    "# Early stopping\n",
    "early_stopping = tf.keras.callbacks.EarlyStopping(\n",
    "    monitor='val_loss', min_delta=0, patience=3, verbose=0, mode='auto',\n",
    "    baseline=None, restore_best_weights=True\n",
    ")\n",
    "\n",
    "\n",
    "# This saves the best model\n",
    "checkpoint = ModelCheckpoint(filename, monitor='val_loss', verbose=1, \n",
    "                             save_best_only=True, mode='min')\n",
    "\n",
    "# The model you get at the end of it is after 100 epochs, but that might not have been\n",
    "# the weights most associated with validation accuracy\n",
    "\n",
    "# Only save the weights when you model has the lowest val loss. Early stopping\n",
    "\n",
    "# Fitting model with all the callbacks above\n",
    "hist = model.fit(padded_X_train, y_train, epochs = 20, batch_size = 32, \n",
    "                 validation_data = (padded_X_val, y_val), \n",
    "                 callbacks = [checkpoint, lr_sched_checkpoint, early_stopping])"
   ]
  },
  {
   "cell_type": "markdown",
   "metadata": {
    "colab_type": "text",
    "id": "kmiVKysabx1K"
   },
   "source": [
    "Note that: For any new test data that comes in, it has to be in exactly the same format. So if you call fit_to_texts on documents which were already pretokenized, your strings that you pass in also have to be passed in as a pretokenized string."
   ]
  },
  {
   "cell_type": "code",
   "execution_count": 109,
   "metadata": {
    "colab": {
     "base_uri": "https://localhost:8080/",
     "height": 877
    },
    "colab_type": "code",
    "id": "HALampOEbx1L",
    "outputId": "9c206dbc-f97c-468b-8b4c-aa1a1553c61b"
   },
   "outputs": [
    {
     "data": {
      "image/png": "[encoded data removed]",
      "text/plain": [
       "<Figure size 720x504 with 1 Axes>"
      ]
     },
     "metadata": {},
     "output_type": "display_data"
    },
    {
     "data": {
      "image/png": "[encoded data removed]",
      "text/plain": [
       "<Figure size 720x504 with 1 Axes>"
      ]
     },
     "metadata": {},
     "output_type": "display_data"
    }
   ],
   "source": [
    "# Visualizing Training Loss vs Validation Loss (the loss is how wrong your model is)\n",
    "plt.figure(figsize=(10,7))\n",
    "plt.plot(hist.history['val_loss'], label = 'Validation Loss', color = 'cyan')\n",
    "plt.plot(hist.history['loss'], label = 'Training Loss', color = 'purple')\n",
    "plt.title('Training Loss vs Validation Loss')\n",
    "plt.xlabel('Epochs')\n",
    "plt.ylabel('Loss')\n",
    "plt.legend()\n",
    "plt.show()\n",
    "\n",
    "# Visualizing Testing Accuracy vs Validation Accuracy\n",
    "plt.figure(figsize=(10,7))\n",
    "plt.plot(hist.history['val_accuracy'], label = 'Validation Accuracy', color = 'cyan')\n",
    "plt.plot(hist.history['accuracy'], label = 'Training Accuracy', color = 'purple')\n",
    "plt.title('Training Accuracy vs Validation Accuracy')\n",
    "plt.xlabel('Epochs')\n",
    "plt.ylabel('Accuracy')\n",
    "plt.legend()\n",
    "plt.show()"
   ]
  },
  {
   "cell_type": "markdown",
   "metadata": {
    "colab_type": "text",
    "id": "CkcVbdNubx1O"
   },
   "source": [
    "At after 20 epochs, the slope becomes a flat line, not really much change in the loss. Floor effect is you can't get any lower than 0 loss. It really quickly learns from the training data what it needs to learn. If you continue to train, you're basically overfitting to the training data, you're fitting to the unimportant signal.\n",
    "\n",
    "For example, in the context of images, if the model learns to recognize what a cat is, it might now be too detailed and learn that cats have to be the color black as well."
   ]
  },
  {
   "cell_type": "markdown",
   "metadata": {
    "colab_type": "text",
    "id": "bGqGvxRobx1O"
   },
   "source": [
    "### Model improvements\n",
    "The model overfits at a low epoch. Model is significantly overfitting. Plot out accuracies.\n",
    "\n",
    "Don't need 100 training epoch.\n",
    "\n",
    "Look at learning rate scheduling, after certain number of epochs, decrease learning rate.\n",
    "* Learning rate scheduling\n",
    "* Early stopping or reducing epochs\n",
    "* Dropout layers\n",
    "* Regularization\n",
    "* Improve distinctiveness between intent data\n",
    "\n",
    "After I have applied these improvements, my accuracy went up."
   ]
  },
  {
   "cell_type": "code",
   "execution_count": 101,
   "metadata": {
    "colab": {},
    "colab_type": "code",
    "id": "7SYdTawRbx1P"
   },
   "outputs": [],
   "source": [
    "# I have to redefine and load in the model saved by my model checkpoint \n",
    "from keras.models import load_model\n",
    "model = load_model('models/intent_classification_b.h5')"
   ]
  },
  {
   "cell_type": "code",
   "execution_count": 102,
   "metadata": {},
   "outputs": [],
   "source": [
    "def infer_intent(user_input):\n",
    "    ''' Making a function that recieves a user input and outputs a \n",
    "    dictionary of predictions '''\n",
    "    assert isinstance(user_input, str), 'User input must be a string!'\n",
    "    user_input = [user_input]\n",
    "    print(user_input)\n",
    "    \n",
    "    # Converting to Keras form\n",
    "    padded_text = convert_to_padded(t, user_input)\n",
    "    x = padded_text[0]\n",
    "    \n",
    "    # Prediction for each document\n",
    "    probs = model.predict(padded_text)\n",
    "#     print('Prob array shape', probs.shape)\n",
    "    \n",
    "    # Get the classes from label encoder\n",
    "    classes = le.classes_\n",
    "    \n",
    "    # Getting predictions dict and sorting\n",
    "    predictions = dict(zip(classes, probs[0]))\n",
    "    sorted_predictions = {k: v for k, v in sorted(predictions.items(), key=lambda item: item[1], reverse = True)}\n",
    "    \n",
    "    return sorted_predictions"
   ]
  },
  {
   "cell_type": "code",
   "execution_count": 103,
   "metadata": {},
   "outputs": [
    {
     "name": "stdout",
     "output_type": "stream",
     "text": [
      "['hi']\n"
     ]
    },
    {
     "data": {
      "text/plain": [
       "{'greeting': 0.9813401,\n",
       " 'update': 0.0052419105,\n",
       " 'info': 0.0051111877,\n",
       " 'forgot_password': 0.00330403,\n",
       " 'goodbye': 0.0024087988,\n",
       " 'location': 0.0013867615,\n",
       " 'battery': 0.000675449,\n",
       " 'challenge_robot': 0.00037879302,\n",
       " 'payment': 9.9829886e-05,\n",
       " 'speak_representative': 5.3168318e-05}"
      ]
     },
     "execution_count": 103,
     "metadata": {},
     "output_type": "execute_result"
    }
   ],
   "source": [
    "infer_intent('hi')"
   ]
  },
  {
   "cell_type": "markdown",
   "metadata": {},
   "source": [
    "I spent a tremendous amount of time refining the training data I fed in into this model, and especially trying to get out the correct mappings for this model. What ended up fixing my mappings was using the label encoder as opposed to one hot encoder for my target variable, and making sure my user input is formatted correctly (it should be as a list, because that passes the dimensionality checks)."
   ]
  },
  {
   "cell_type": "markdown",
   "metadata": {},
   "source": [
    "## Sanity Checks"
   ]
  },
  {
   "cell_type": "code",
   "execution_count": 99,
   "metadata": {
    "colab": {
     "base_uri": "https://localhost:8080/",
     "height": 34
    },
    "colab_type": "code",
    "id": "VtrsTXPQjgT8",
    "outputId": "704ecaec-d0ba-4052-f529-27d74bfd3460"
   },
   "outputs": [
    {
     "data": {
      "text/plain": [
       "(10,)"
      ]
     },
     "execution_count": 99,
     "metadata": {
      "tags": []
     },
     "output_type": "execute_result"
    }
   ],
   "source": [
    "classes.shape"
   ]
  },
  {
   "cell_type": "code",
   "execution_count": 46,
   "metadata": {
    "colab": {
     "base_uri": "https://localhost:8080/",
     "height": 68
    },
    "colab_type": "code",
    "id": "VoY8RpgVbx1c",
    "outputId": "da6b9c33-6a34-4017-865b-fbbbfbd8a3c0"
   },
   "outputs": [
    {
     "data": {
      "text/plain": [
       "array([[8.7732088e-04, 6.7755468e-02, 1.5418966e-03, 1.7603606e-03,\n",
       "        9.0753675e-01, 1.5905527e-02, 8.2428294e-04, 3.7408194e-05,\n",
       "        5.5087544e-04, 3.2101285e-03]], dtype=float32)"
      ]
     },
     "execution_count": 46,
     "metadata": {
      "tags": []
     },
     "output_type": "execute_result"
    }
   ],
   "source": [
    "probs"
   ]
  },
  {
   "cell_type": "code",
   "execution_count": 47,
   "metadata": {
    "colab": {
     "base_uri": "https://localhost:8080/",
     "height": 34
    },
    "colab_type": "code",
    "id": "0pkL2XRrbx1e",
    "outputId": "2317110d-d84c-47f1-8567-d2269d0d7172"
   },
   "outputs": [
    {
     "data": {
      "text/plain": [
       "(1, 10)"
      ]
     },
     "execution_count": 47,
     "metadata": {
      "tags": []
     },
     "output_type": "execute_result"
    }
   ],
   "source": [
    "probs.shape"
   ]
  },
  {
   "cell_type": "code",
   "execution_count": 48,
   "metadata": {
    "colab": {
     "base_uri": "https://localhost:8080/",
     "height": 68
    },
    "colab_type": "code",
    "id": "clS2z_gUrzWH",
    "outputId": "6acab942-d414-4e7a-c272-40bd32f6c7c3"
   },
   "outputs": [
    {
     "data": {
      "text/plain": [
       "array([[ 58, 460, 717,   0,   0,   0,   0,   0,   0,   0,   0,   0,   0,\n",
       "          0,   0,   0,   0,   0,   0,   0,   0,   0,   0,   0,   0,   0,\n",
       "          0,   0,   0,   0,   0,   0]], dtype=int32)"
      ]
     },
     "execution_count": 48,
     "metadata": {
      "tags": []
     },
     "output_type": "execute_result"
    }
   ],
   "source": [
    "padded_text"
   ]
  },
  {
   "cell_type": "code",
   "execution_count": 60,
   "metadata": {
    "colab": {
     "base_uri": "https://localhost:8080/",
     "height": 255
    },
    "colab_type": "code",
    "id": "5AbFpXLIsWCz",
    "outputId": "5f5ca0e2-fbc8-45c9-aed8-adbd62d1e96c"
   },
   "outputs": [
    {
     "data": {
      "text/plain": [
       "['phone',\n",
       " 'battery',\n",
       " 'die',\n",
       " 'fast',\n",
       " 'within',\n",
       " 'hour',\n",
       " 'usage',\n",
       " 'phone',\n",
       " 'battery',\n",
       " 'always',\n",
       " 'dy',\n",
       " 'check',\n",
       " 'health',\n",
       " 'battery']"
      ]
     },
     "execution_count": 60,
     "metadata": {
      "tags": []
     },
     "output_type": "execute_result"
    }
   ],
   "source": [
    "X_train[0]"
   ]
  },
  {
   "cell_type": "code",
   "execution_count": 63,
   "metadata": {
    "colab": {},
    "colab_type": "code",
    "id": "pq6VhkOrsfTh"
   },
   "outputs": [],
   "source": [
    "test = [X_train[0]]"
   ]
  },
  {
   "cell_type": "code",
   "execution_count": 64,
   "metadata": {
    "colab": {},
    "colab_type": "code",
    "id": "lMr-5Ksbsda5"
   },
   "outputs": [],
   "source": [
    "embedded_text = t.texts_to_sequences(test)\n",
    "\n",
    "padded_text = pad_sequences(embedded_text, maxlen=max_length, padding='post')"
   ]
  },
  {
   "cell_type": "code",
   "execution_count": 69,
   "metadata": {
    "colab": {
     "base_uri": "https://localhost:8080/",
     "height": 34
    },
    "colab_type": "code",
    "id": "NWWM3gsispn_",
    "outputId": "31c0884a-42dd-4a1c-b07c-dde533303ac4"
   },
   "outputs": [
    {
     "data": {
      "text/plain": [
       "[[5, 4, 133, 111, 415, 82, 266, 5, 4, 192, 201, 189, 429, 4]]"
      ]
     },
     "execution_count": 69,
     "metadata": {
      "tags": []
     },
     "output_type": "execute_result"
    }
   ],
   "source": [
    "embedded_text"
   ]
  },
  {
   "cell_type": "code",
   "execution_count": 70,
   "metadata": {
    "colab": {
     "base_uri": "https://localhost:8080/",
     "height": 68
    },
    "colab_type": "code",
    "id": "2MBKjjqduij9",
    "outputId": "a2c00226-bf09-4b92-8485-8ca8eb9d0dff"
   },
   "outputs": [
    {
     "data": {
      "text/plain": [
       "array([[  5,   4, 133, 111, 415,  82, 266,   5,   4, 192, 201, 189, 429,\n",
       "          4,   0,   0,   0,   0,   0,   0,   0,   0,   0,   0,   0,   0,\n",
       "          0,   0,   0,   0,   0,   0]], dtype=int32)"
      ]
     },
     "execution_count": 70,
     "metadata": {
      "tags": []
     },
     "output_type": "execute_result"
    }
   ],
   "source": [
    "padded_text"
   ]
  },
  {
   "cell_type": "code",
   "execution_count": 68,
   "metadata": {
    "colab": {
     "base_uri": "https://localhost:8080/",
     "height": 34
    },
    "colab_type": "code",
    "id": "1s6sm5SsuUBO",
    "outputId": "86dcfd22-4ee3-427d-d779-0c41e30f4736"
   },
   "outputs": [
    {
     "data": {
      "text/plain": [
       "4"
      ]
     },
     "execution_count": 68,
     "metadata": {
      "tags": []
     },
     "output_type": "execute_result"
    }
   ],
   "source": [
    "t.word_index['battery']"
   ]
  },
  {
   "cell_type": "markdown",
   "metadata": {
    "colab_type": "text",
    "id": "xlrZfIjfbx1g"
   },
   "source": [
    "# Future Step: Multilabel Classification"
   ]
  },
  {
   "cell_type": "markdown",
   "metadata": {
    "colab_type": "text",
    "id": "UnlO0KQTbx1g"
   },
   "source": [
    "In the future, if I want to recognize mixed intents in an utterance, I could do multilabel classification.\n",
    "\n",
    "For multilabel classification, you use sigmoid activation function as the final layer. You'll still have ~10 distinct intents. But you need to modelled such that each of those intents are independent of each other.\n",
    "\n",
    "Prediction of intent 1 shouldn't effect intent 2. Softmax takes all the scores over all classes, and the highest number will have highest probability output but everything will sum to 1. For the final softmax layer will sum to 1, but that doesn't work in my case.\n",
    "\n",
    "But you're going to classify each intent separately. They can sum to greater than 1. \n",
    "\n",
    "It's similar to logreg in multiclass. One curve for class 0 and not class 0. The sum of those probs can be greater than 1.\n",
    "\n",
    "For class 1, itll be 1 or not 1. Etc. You would look at your output layer, and whichever nodes have a greater probability output of >0.5, those 2 are your final output. You can do up to 3. Depends on how many nodes you will have.\n",
    "\n",
    "When you feed in your target vector, they need to go into the one hot encoded vectors. Target column will have 10 columns. It will all sum up to one for each node. Each node will have a separate sigmoid function (P (1-P)). Across the nodes they're going to sum more than 1. One versus rest classification. Read up based on logreg terms. Multilabel classification. The main thing is your labels need to one hot encode. Loss function would use binary cross entropy.\n",
    "\n",
    "Potential Issue: The more classes you have, the harder it is for your model. Especially for the 2nd and 3rd label that's when accs start to drop a bit."
   ]
  }
 ],
 "metadata": {
  "accelerator": "GPU",
  "colab": {
   "collapsed_sections": [],
   "name": "3. Intent Classification with Keras.ipynb",
   "provenance": [],
   "toc_visible": true
  },
  "kernelspec": {
   "display_name": "Python 3",
   "language": "python",
   "name": "python3"
  },
  "language_info": {
   "codemirror_mode": {
    "name": "ipython",
    "version": 3
   },
   "file_extension": ".py",
   "mimetype": "text/x-python",
   "name": "python",
   "nbconvert_exporter": "python",
   "pygments_lexer": "ipython3",
   "version": "3.7.7"
  }
 },
 "nbformat": 4,
 "nbformat_minor": 4
}
