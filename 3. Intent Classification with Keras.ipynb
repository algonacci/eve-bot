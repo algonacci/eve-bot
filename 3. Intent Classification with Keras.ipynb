{
 "cells": [
  {
   "cell_type": "markdown",
   "metadata": {},
   "source": [
    "# Intent Classification with Keras\n",
    "In my past notebooks, my goal was to recieve my labeled data for my chatbot. Now this notebook focuses on using Keras to classify intents of new, unseen data that a user might type up. The model now switched to a supervised learning approach now that we generated the labels from the unsupervised learning we did in the previous notebook.\n",
    "\n",
    "### Rasa Comparison\n",
    "Rasa trains this intent classification step with SVM and GridsearchCV because they can try different configurations ([source](https://medium.com/bhavaniravi/intent-classification-demystifying-rasanlu-part-4-685fc02f5c1d)). When deploying preprocessing pipeline should remain same between train and test."
   ]
  },
  {
   "cell_type": "code",
   "execution_count": 5,
   "metadata": {
    "scrolled": false,
    "tags": []
   },
   "outputs": [
    {
     "name": "stdout",
     "output_type": "stream",
     "text": [
      "Pandas: 1.0.5\n",
      "Numpy: 1.18.5\n",
      "Tensorflow: 2.2.0\n",
      "Keras: 2.3.0-tf\n",
      "Sklearn: 0.23.1\n"
     ]
    },
    {
     "name": "stderr",
     "output_type": "stream",
     "text": [
      "/opt/anaconda3/envs/chatbot/lib/python3.7/site-packages/ipykernel_launcher.py:22: TqdmDeprecationWarning: This function will be removed in tqdm==5.0.0\n",
      "Please use `tqdm.notebook.tqdm` instead of `tqdm.tqdm_notebook`\n"
     ]
    },
    {
     "data": {
      "application/vnd.jupyter.widget-view+json": {
       "model_id": "2a69915e999946c98a9709ee451ad0c8",
       "version_major": 2,
       "version_minor": 0
      },
      "text/plain": [
       "HBox(children=(FloatProgress(value=1.0, bar_style='info', max=1.0), HTML(value='')))"
      ]
     },
     "metadata": {},
     "output_type": "display_data"
    },
    {
     "name": "stderr",
     "output_type": "stream",
     "text": [
      "/opt/anaconda3/envs/chatbot/lib/python3.7/site-packages/tqdm/std.py:668: FutureWarning: The Panel class is removed from pandas. Accessing it from the top-level namespace will also be removed in the next version\n",
      "  from pandas import Panel\n"
     ]
    },
    {
     "name": "stdout",
     "output_type": "stream",
     "text": [
      "\n",
      "                                           Utterance           Intent\n",
      "0  [phone, battery, die, fast, within, hour, usag...          battery\n",
      "1                                 [forgot, my, pass]  forgot_password\n",
      "2                            [payment, not, through]          payment\n",
      "3                                     [want, update]           update\n",
      "4                                [need, information]             info\n",
      "\n",
      "intents:\n",
      "{'battery': ['battery', 'power'], 'forgot_password': ['password', 'account', 'login'], 'payment': ['credit', 'card', 'payment', 'pay'], 'repair': ['repair', 'fix', 'broken'], 'update': ['update']}\n",
      "\n",
      "representative intents:\n",
      "{'battery': ['battery', 'power'], 'forgot_password': ['password', 'account', 'login'], 'info': ['info', 'information'], 'location': ['nearest', 'apple', 'location', 'store'], 'payment': ['credit', 'card', 'payment', 'pay'], 'update': ['update', 'upgrade']}\n"
     ]
    }
   ],
   "source": [
    "# Data science\n",
    "import pandas as pd\n",
    "print(f\"Pandas: {pd.__version__}\")\n",
    "import numpy as np\n",
    "print(f\"Numpy: {np.__version__}\")\n",
    "\n",
    "# Deep Learning \n",
    "import tensorflow as tf\n",
    "print(f\"Tensorflow: {tf.__version__}\")\n",
    "from tensorflow import keras\n",
    "print(f\"Keras: {keras.__version__}\")\n",
    "import sklearn\n",
    "print(f\"Sklearn: {sklearn.__version__}\")\n",
    "\n",
    "# Visualization \n",
    "import seaborn as sns\n",
    "import matplotlib.pyplot as plt\n",
    "sns.set(style=\"ticks\", color_codes=True)\n",
    "\n",
    "# Cool progress bars\n",
    "from tqdm import tqdm_notebook as tqdm\n",
    "tqdm().pandas()  # Enable tracking of execution progress\n",
    "\n",
    "import collections\n",
    "import yaml\n",
    "\n",
    "# Preprocessing and Keras\n",
    "from nltk.corpus import stopwords\n",
    "from nltk.tokenize import word_tokenize\n",
    "from nltk.stem.lancaster import LancasterStemmer\n",
    "import re\n",
    "import os\n",
    "from sklearn.preprocessing import OneHotEncoder\n",
    "from keras.preprocessing.text import Tokenizer\n",
    "from keras.preprocessing.sequence import pad_sequences\n",
    "from keras.utils import to_categorical\n",
    "from keras.models import Sequential, load_model\n",
    "from keras.layers import Dense, LSTM, Bidirectional, Embedding, Dropout\n",
    "from keras.callbacks import ModelCheckpoint\n",
    "from sklearn.model_selection import train_test_split\n",
    "\n",
    "# Reading back in intents\n",
    "with open(r'objects/intents.yml') as file:\n",
    "    intents = yaml.load(file, Loader=yaml.FullLoader)\n",
    "\n",
    "# Reading in representative intents\n",
    "with open(r'objects/intents_repr.yml') as file:\n",
    "    intents_repr = yaml.load(file, Loader=yaml.FullLoader)\n",
    "    \n",
    "# Reading in training data\n",
    "train = pd.read_pickle('objects/train.pkl')\n",
    "\n",
    "print(train.head())\n",
    "print(f'\\nintents:\\n{intents}')\n",
    "print(f'\\nrepresentative intents:\\n{intents_repr}')"
   ]
  },
  {
   "cell_type": "markdown",
   "metadata": {},
   "source": [
    "# Keras Preprocessing\n",
    "\n",
    "### Keras Tokenizer\n",
    "Creates a dictionary of all the words in the vocab, and it stores the index. For each sequence it passes in the sequence and converts each word into the index that refers to the Keras word dictionary. When you feed in sentences into the model, they all have to be the same length. But some tweets are going to be longer than others, so pad_sequences just pad all the other ones so they are on the same length. It padding the messages with 0s until they are the same length as the longest message. They might set a max-length that are shorter because longer sequences are harder to train on.\n",
    "\n",
    "I've done most of the main preprocessing work, but Keras needs some more specific things for to model with it."
   ]
  },
  {
   "cell_type": "code",
   "execution_count": 51,
   "metadata": {
    "tags": []
   },
   "outputs": [
    {
     "name": "stdout",
     "output_type": "stream",
     "text": [
      "Vocab Size: 4746 \n",
      "Max Token Length: 32\n",
      "Shape of padded tweets: (10000, 32)\n",
      "\n",
      "Preview of encoded and padded tweets:\n",
      " [[  5   4 134 ...   0   0   0]\n",
      " [ 41  43  92 ...   0   0   0]\n",
      " [ 90  21 148 ...   0   0   0]\n",
      " ...\n",
      " [ 17  77   0 ...   0   0   0]\n",
      " [ 69   0   0 ...   0   0   0]\n",
      " [ 12  11   0 ...   0   0   0]]\n",
      "\n",
      "Preview of intent representation:\n",
      "[[1. 0. 0. ... 0. 0. 0.]\n",
      " [0. 0. 1. ... 0. 0. 0.]\n",
      " [0. 0. 0. ... 1. 0. 0.]\n",
      " ...\n",
      " [0. 0. 0. ... 0. 0. 0.]\n",
      " [0. 0. 0. ... 0. 0. 0.]\n",
      " [0. 1. 0. ... 0. 0. 0.]]\n",
      "\n",
      "Shape checks:\n",
      "X_train: (7000, 32) X_val: (3000, 32)\n",
      "y_train: (7000, 10) y_val: (3000, 10)\n"
     ]
    }
   ],
   "source": [
    "# Defining all required functions\n",
    "def make_tokenizer(docs, filters = '!\"#$%&()*+,-./:;<=>?@[\\]^_`{|}~'):\n",
    "    t = Tokenizer(filters = filters)\n",
    "    t.fit_on_texts(docs)\n",
    "    return t\n",
    "\n",
    "encode_tweets = lambda token, words: token.texts_to_sequences(words)\n",
    "get_max_token_length = lambda series: len(max(series, key = len))\n",
    "pad_tweets = lambda encoded_doc, max_length: pad_sequences(encoded_doc, maxlen = max_length, padding = \"post\")\n",
    "one_hot = lambda encode: OneHotEncoder(sparse = False).fit_transform(encode)\n",
    "\n",
    "# 1. Create tokenizer object\n",
    "token = make_tokenizer(train['Utterance'])\n",
    "\n",
    "# 2. Finding length of vocabulary\n",
    "vocab_size = len(token.word_index) + 1\n",
    "\n",
    "# 3. Finding maximum length of Tokens\n",
    "\n",
    "max_token_length = get_max_token_length(train['Utterance'])\n",
    "\n",
    "print(f'Vocab Size: {vocab_size} \\nMax Token Length: {max_token_length}')\n",
    "\n",
    "# 4. Encode documents - matching with Keras dictionary\n",
    "encoded_tweets = encode_tweets(token, train['Utterance'])\n",
    "\n",
    "# 5. Padding my documents - filling with tags to normalize the lengths\n",
    "padded_tweets = pad_tweets(encoded_tweets, max_token_length)\n",
    "print(\"Shape of padded tweets:\",padded_tweets.shape)\n",
    "print(\"\\nPreview of encoded and padded tweets:\\n\", padded_tweets)\n",
    "\n",
    "# 6. One hot encode to represent target variable data (intents)\n",
    "unique_intents = list(set(train['Intent']))\n",
    "unique_intents = sorted(unique_intents)\n",
    "\n",
    "# Making another tokenizer\n",
    "output_tokenizer = make_tokenizer(unique_intents, filters = '!\"#$%&()*+,-/:;<=>?@[\\]^`{|}~')\n",
    "encoded_intents = encode_tweets(output_tokenizer, train['Intent'])\n",
    "\n",
    "# Reshaping encoded Tweets for this one hot function\n",
    "encoded_intents = np.array(encoded_intents).reshape(len(encoded_intents), 1)\n",
    "one_hot_intents = one_hot(encoded_intents)\n",
    "print(f'\\nPreview of intent representation:\\n{one_hot_intents}')\n",
    "\n",
    "# 7. Split in to train and test\n",
    "X_train, X_val, y_train, y_val = train_test_split(padded_tweets, one_hot_intents, test_size = 0.3, \n",
    "                                                   shuffle = True, stratify = one_hot_intents)\n",
    "print(f'\\nShape checks:\\nX_train: {X_train.shape} X_val: {X_val.shape}\\ny_train: {y_train.shape} y_val: {y_val.shape}')"
   ]
  },
  {
   "cell_type": "code",
   "execution_count": 11,
   "metadata": {},
   "outputs": [
    {
     "data": {
      "text/html": [
       "<div>\n",
       "<style scoped>\n",
       "    .dataframe tbody tr th:only-of-type {\n",
       "        vertical-align: middle;\n",
       "    }\n",
       "\n",
       "    .dataframe tbody tr th {\n",
       "        vertical-align: top;\n",
       "    }\n",
       "\n",
       "    .dataframe thead th {\n",
       "        text-align: right;\n",
       "    }\n",
       "</style>\n",
       "<table border=\"1\" class=\"dataframe\">\n",
       "  <thead>\n",
       "    <tr style=\"text-align: right;\">\n",
       "      <th></th>\n",
       "      <th>Utterance</th>\n",
       "      <th>Intent</th>\n",
       "    </tr>\n",
       "  </thead>\n",
       "  <tbody>\n",
       "    <tr>\n",
       "      <th>0</th>\n",
       "      <td>[phone, battery, die, fast, within, hour, usag...</td>\n",
       "      <td>battery</td>\n",
       "    </tr>\n",
       "    <tr>\n",
       "      <th>1</th>\n",
       "      <td>[forgot, my, pass]</td>\n",
       "      <td>forgot_password</td>\n",
       "    </tr>\n",
       "    <tr>\n",
       "      <th>2</th>\n",
       "      <td>[payment, not, through]</td>\n",
       "      <td>payment</td>\n",
       "    </tr>\n",
       "    <tr>\n",
       "      <th>3</th>\n",
       "      <td>[want, update]</td>\n",
       "      <td>update</td>\n",
       "    </tr>\n",
       "    <tr>\n",
       "      <th>4</th>\n",
       "      <td>[need, information]</td>\n",
       "      <td>info</td>\n",
       "    </tr>\n",
       "    <tr>\n",
       "      <th>...</th>\n",
       "      <td>...</td>\n",
       "      <td>...</td>\n",
       "    </tr>\n",
       "    <tr>\n",
       "      <th>9995</th>\n",
       "      <td>[incomplete, display, render, related, bogus, ...</td>\n",
       "      <td>location</td>\n",
       "    </tr>\n",
       "    <tr>\n",
       "      <th>9996</th>\n",
       "      <td>[talk, human, please]</td>\n",
       "      <td>speak_representative</td>\n",
       "    </tr>\n",
       "    <tr>\n",
       "      <th>9997</th>\n",
       "      <td>[good, morning]</td>\n",
       "      <td>greeting</td>\n",
       "    </tr>\n",
       "    <tr>\n",
       "      <th>9998</th>\n",
       "      <td>[done]</td>\n",
       "      <td>goodbye</td>\n",
       "    </tr>\n",
       "    <tr>\n",
       "      <th>9999</th>\n",
       "      <td>[robot, human]</td>\n",
       "      <td>challenge_robot</td>\n",
       "    </tr>\n",
       "  </tbody>\n",
       "</table>\n",
       "<p>10000 rows × 2 columns</p>\n",
       "</div>"
      ],
      "text/plain": [
       "                                              Utterance                Intent\n",
       "0     [phone, battery, die, fast, within, hour, usag...               battery\n",
       "1                                    [forgot, my, pass]       forgot_password\n",
       "2                               [payment, not, through]               payment\n",
       "3                                        [want, update]                update\n",
       "4                                   [need, information]                  info\n",
       "...                                                 ...                   ...\n",
       "9995  [incomplete, display, render, related, bogus, ...              location\n",
       "9996                              [talk, human, please]  speak_representative\n",
       "9997                                    [good, morning]              greeting\n",
       "9998                                             [done]               goodbye\n",
       "9999                                     [robot, human]       challenge_robot\n",
       "\n",
       "[10000 rows x 2 columns]"
      ]
     },
     "execution_count": 11,
     "metadata": {},
     "output_type": "execute_result"
    }
   ],
   "source": [
    "train"
   ]
  },
  {
   "cell_type": "code",
   "execution_count": 8,
   "metadata": {},
   "outputs": [
    {
     "data": {
      "text/plain": [
       "array([[ 1],\n",
       "       [ 3],\n",
       "       [ 8],\n",
       "       [10],\n",
       "       [ 6],\n",
       "       [ 7],\n",
       "       [ 9],\n",
       "       [ 5],\n",
       "       [ 4],\n",
       "       [ 2],\n",
       "       [ 1]])"
      ]
     },
     "execution_count": 8,
     "metadata": {},
     "output_type": "execute_result"
    }
   ],
   "source": [
    "encoded_intents[:11]"
   ]
  },
  {
   "cell_type": "code",
   "execution_count": 12,
   "metadata": {},
   "outputs": [
    {
     "data": {
      "text/plain": [
       "['battery',\n",
       " 'challenge_robot',\n",
       " 'forgot_password',\n",
       " 'goodbye',\n",
       " 'greeting',\n",
       " 'info',\n",
       " 'location',\n",
       " 'payment',\n",
       " 'speak_representative',\n",
       " 'update']"
      ]
     },
     "execution_count": 12,
     "metadata": {},
     "output_type": "execute_result"
    }
   ],
   "source": [
    "sorted(train.Intent[:10])"
   ]
  },
  {
   "cell_type": "markdown",
   "metadata": {},
   "source": [
    "### Embedding matrix"
   ]
  },
  {
   "cell_type": "markdown",
   "metadata": {},
   "source": [
    "Keras models look for y variables to be one hot encoded. When it's multiclass many people feed it as one hot encoded vectors. It's just one of the design choices.\n",
    "\n",
    "If you're using doc2vec embeddings, how do you pass in your Tweets. You may have to pass it in as full tweets. Check how you pass in the Tweets. You may have to tokenize at a Tweet level. If you pass it in, if it's Tweet 57, it will activate the node such that it gets multiplied out by the embeddings for the 57th document."
   ]
  },
  {
   "cell_type": "code",
   "execution_count": 13,
   "metadata": {},
   "outputs": [],
   "source": [
    "# Making my own embedding matrix that's in a specific order\n",
    "d2v_embedding_matrix = pd.read_pickle('objects/inbound_d2v.pkl')"
   ]
  },
  {
   "cell_type": "code",
   "execution_count": 241,
   "metadata": {},
   "outputs": [
    {
     "name": "stdout",
     "output_type": "stream",
     "text": [
      "glove.twitter.27B.100d.txt glove.twitter.27B.25d.txt\r\n",
      "glove.twitter.27B.200d.txt glove.twitter.27B.50d.txt\r\n"
     ]
    }
   ],
   "source": [
    "# We can see that there are 4 different dimensionality options\n",
    "!ls models/glove.twitter.27B"
   ]
  },
  {
   "cell_type": "markdown",
   "metadata": {},
   "source": [
    "Here, we compute an index mapping words to known embeddings by parsing the data dump of pre-trained embeddings:"
   ]
  },
  {
   "cell_type": "code",
   "execution_count": 14,
   "metadata": {
    "scrolled": false
   },
   "outputs": [
    {
     "name": "stdout",
     "output_type": "stream",
     "text": [
      "Found 1193514 word vectors.\n"
     ]
    }
   ],
   "source": [
    "# Using gloVe word embeddings\n",
    "embeddings_index = {}\n",
    "f = open('models/glove.twitter.27B/glove.twitter.27B.25d.txt')\n",
    "for line in f:\n",
    "    values = line.split()\n",
    "    word = values[0]\n",
    "    coefs = np.asarray(values[1:], dtype='float32')\n",
    "    embeddings_index[word] = coefs\n",
    "f.close()\n",
    "\n",
    "print('Found %s word vectors.' % len(embeddings_index))"
   ]
  },
  {
   "cell_type": "markdown",
   "metadata": {},
   "source": [
    "Now we can leverage our embedding_index dictionary and our word_index to compute our embedding matrix:"
   ]
  },
  {
   "cell_type": "code",
   "execution_count": 15,
   "metadata": {},
   "outputs": [],
   "source": [
    "# Initializing required objects\n",
    "word_index = token.word_index\n",
    "EMBEDDING_DIM = 25 # Because we are using the 25D gloVe embeddings\n",
    "\n",
    "# Getting my embedding matrix\n",
    "embedding_matrix = np.zeros((len(word_index) + 1, EMBEDDING_DIM))\n",
    "for word, i in word_index.items():\n",
    "    embedding_vector = embeddings_index.get(word)\n",
    "    if embedding_vector is not None:\n",
    "        # words not found in embedding index will be all-zeros.\n",
    "        embedding_matrix[i] = embedding_vector"
   ]
  },
  {
   "cell_type": "code",
   "execution_count": 16,
   "metadata": {},
   "outputs": [
    {
     "data": {
      "text/plain": [
       "array([[ 0.        ,  0.        ,  0.        , ...,  0.        ,\n",
       "         0.        ,  0.        ],\n",
       "       [ 1.45120001, -0.24502   ,  0.18376   , ...,  0.76213998,\n",
       "         0.30982   , -0.49316999],\n",
       "       [ 0.69946003,  0.75647002,  0.027693  , ..., -0.24399   ,\n",
       "         0.061082  , -0.59698999],\n",
       "       ...,\n",
       "       [ 0.87431002,  1.04569995, -0.20902   , ...,  0.76419997,\n",
       "        -0.87015998, -0.73815   ],\n",
       "       [-0.61260003,  0.063154  , -0.20061   , ...,  1.38769996,\n",
       "         0.65736997, -0.42660001],\n",
       "       [-0.22751001,  0.40937999,  0.22876   , ...,  0.046516  ,\n",
       "         0.38591999, -0.79839998]])"
      ]
     },
     "execution_count": 16,
     "metadata": {},
     "output_type": "execute_result"
    }
   ],
   "source": [
    "embedding_matrix"
   ]
  },
  {
   "cell_type": "markdown",
   "metadata": {},
   "source": [
    "Great, now we can start the modelling.\n",
    "\n",
    "In a regular word embedding, the order of the embeddings in the matrix has to be setup so that it matches how the words appear in my keras tokenizer word index. It does it so that the most common words appear up front, and the embedding matrix needs to be aligned.\n",
    "\n",
    "I also made sure the order of the embeddings are the same order of the words in my model.\n",
    "\n",
    "Here, I also made sure that domain-specific words like macbook is in my Twitter embeddings. One example of this is 'macbook' and you can clearly see that it is indeed in the embeddings file, which is good:\n",
    "\n",
    "<img src=\"visualizations/macbook-glove.png\" alt=\"Drawing\" style=\"width: 400px;\"/>"
   ]
  },
  {
   "cell_type": "markdown",
   "metadata": {},
   "source": [
    "# Keras Modelling\n",
    "I will create a neural network with Keras with the output layer having the same number of nodes as there are intents. The following is my architecture:"
   ]
  },
  {
   "cell_type": "code",
   "execution_count": 19,
   "metadata": {
    "scrolled": true
   },
   "outputs": [
    {
     "name": "stdout",
     "output_type": "stream",
     "text": [
      "Model: \"sequential_1\"\n",
      "_________________________________________________________________\n",
      "Layer (type)                 Output Shape              Param #   \n",
      "=================================================================\n",
      "embedding_1 (Embedding)      (None, 32, 25)            118650    \n",
      "_________________________________________________________________\n",
      "bidirectional_1 (Bidirection (None, 256)               157696    \n",
      "_________________________________________________________________\n",
      "dense_3 (Dense)              (None, 600)               154200    \n",
      "_________________________________________________________________\n",
      "dense_4 (Dense)              (None, 600)               360600    \n",
      "_________________________________________________________________\n",
      "dropout_1 (Dropout)          (None, 600)               0         \n",
      "_________________________________________________________________\n",
      "dense_5 (Dense)              (None, 10)                6010      \n",
      "=================================================================\n",
      "Total params: 797,156\n",
      "Trainable params: 678,506\n",
      "Non-trainable params: 118,650\n",
      "_________________________________________________________________\n"
     ]
    }
   ],
   "source": [
    "def make_model(vocab_size, max_token_length):\n",
    "    ''' In this function I define all the layers of my neural network'''\n",
    "    # Initialize\n",
    "    model = Sequential()\n",
    "    \n",
    "    # Adding layers - For embedding layer, I made sure to add my embedding matrix into the weights paramater\n",
    "    model.add(Embedding(vocab_size, embedding_matrix.shape[1], input_length = max_token_length, \n",
    "                        trainable = False, weights = [embedding_matrix]))\n",
    "    model.add(Bidirectional(LSTM(128)))\n",
    "    # Another LSTM layer. If things aren't doing well. Beef up the dense layer size.\n",
    "#    model.add(LSTM(128)) \n",
    "    # Try 100\n",
    "    model.add(Dense(600, activation = \"relu\",kernel_regularizer='l2')) # Try 50, another dense layer? This takes a little bit of exploration\n",
    "    \n",
    "    # Adding another dense layer to increase model complexity\n",
    "    model.add(Dense(600, activation = \"relu\",kernel_regularizer='l2'))\n",
    "    \n",
    "    # Only update 50 percent of the nodes - helps with overfitting\n",
    "    model.add(Dropout(0.5))\n",
    "    \n",
    "    # This last layer should be the size of the number of your intents!\n",
    "    # Use sigmoid for multilabel classification, otherwise, use softmax!\n",
    "    model.add(Dense(10, activation = \"softmax\"))\n",
    "    \n",
    "    return model\n",
    "\n",
    "# Actually creating my model\n",
    "model = make_model(vocab_size, max_token_length)\n",
    "model.compile(loss = \"categorical_crossentropy\", \n",
    "              optimizer = \"adam\", metrics = [\"accuracy\"])\n",
    "model.summary()"
   ]
  },
  {
   "cell_type": "code",
   "execution_count": 20,
   "metadata": {
    "scrolled": true
   },
   "outputs": [
    {
     "name": "stdout",
     "output_type": "stream",
     "text": [
      "Epoch 1/50\n",
      "219/219 [==============================] - ETA: 0s - loss: 2.3808 - accuracy: 0.6454\n",
      "Epoch 00001: val_loss improved from inf to 0.78972, saving model to models/intent_classification_a.h5\n",
      "219/219 [==============================] - 37s 169ms/step - loss: 2.3808 - accuracy: 0.6454 - val_loss: 0.7897 - val_accuracy: 0.7843 - lr: 0.0010\n",
      "Epoch 2/50\n",
      "219/219 [==============================] - ETA: 0s - loss: 0.6974 - accuracy: 0.8216\n",
      "Epoch 00002: val_loss improved from 0.78972 to 0.65681, saving model to models/intent_classification_a.h5\n",
      "219/219 [==============================] - 22s 102ms/step - loss: 0.6974 - accuracy: 0.8216 - val_loss: 0.6568 - val_accuracy: 0.8290 - lr: 0.0010\n",
      "Epoch 3/50\n",
      "219/219 [==============================] - ETA: 0s - loss: 0.6032 - accuracy: 0.8356\n",
      "Epoch 00003: val_loss improved from 0.65681 to 0.58559, saving model to models/intent_classification_a.h5\n",
      "219/219 [==============================] - 22s 100ms/step - loss: 0.6032 - accuracy: 0.8356 - val_loss: 0.5856 - val_accuracy: 0.8370 - lr: 0.0010\n",
      "Epoch 4/50\n",
      "219/219 [==============================] - ETA: 0s - loss: 0.5558 - accuracy: 0.8521\n",
      "Epoch 00004: val_loss improved from 0.58559 to 0.55121, saving model to models/intent_classification_a.h5\n",
      "219/219 [==============================] - 19s 87ms/step - loss: 0.5558 - accuracy: 0.8521 - val_loss: 0.5512 - val_accuracy: 0.8487 - lr: 0.0010\n",
      "Epoch 5/50\n",
      "219/219 [==============================] - ETA: 0s - loss: 0.5213 - accuracy: 0.8610\n",
      "Epoch 00005: val_loss improved from 0.55121 to 0.54236, saving model to models/intent_classification_a.h5\n",
      "219/219 [==============================] - 19s 85ms/step - loss: 0.5213 - accuracy: 0.8610 - val_loss: 0.5424 - val_accuracy: 0.8503 - lr: 0.0010\n",
      "Epoch 6/50\n",
      "219/219 [==============================] - ETA: 0s - loss: 0.5039 - accuracy: 0.8640\n",
      "Epoch 00006: val_loss improved from 0.54236 to 0.51360, saving model to models/intent_classification_a.h5\n",
      "219/219 [==============================] - 19s 85ms/step - loss: 0.5039 - accuracy: 0.8640 - val_loss: 0.5136 - val_accuracy: 0.8547 - lr: 0.0010\n",
      "Epoch 7/50\n",
      "219/219 [==============================] - ETA: 0s - loss: 0.4627 - accuracy: 0.8761\n",
      "Epoch 00007: val_loss improved from 0.51360 to 0.47556, saving model to models/intent_classification_a.h5\n",
      "219/219 [==============================] - 26s 118ms/step - loss: 0.4627 - accuracy: 0.8761 - val_loss: 0.4756 - val_accuracy: 0.8650 - lr: 0.0010\n",
      "Epoch 8/50\n",
      "219/219 [==============================] - ETA: 0s - loss: 0.4650 - accuracy: 0.8803\n",
      "Epoch 00008: val_loss did not improve from 0.47556\n",
      "219/219 [==============================] - 22s 100ms/step - loss: 0.4650 - accuracy: 0.8803 - val_loss: 0.4941 - val_accuracy: 0.8593 - lr: 0.0010\n",
      "Epoch 9/50\n",
      "219/219 [==============================] - ETA: 0s - loss: 0.4138 - accuracy: 0.8926\n",
      "Epoch 00009: val_loss did not improve from 0.47556\n",
      "219/219 [==============================] - 30s 135ms/step - loss: 0.4138 - accuracy: 0.8926 - val_loss: 0.4910 - val_accuracy: 0.8620 - lr: 0.0010\n",
      "Epoch 10/50\n",
      "219/219 [==============================] - ETA: 0s - loss: 0.3973 - accuracy: 0.8956\n",
      "Epoch 00010: val_loss improved from 0.47556 to 0.45011, saving model to models/intent_classification_a.h5\n",
      "219/219 [==============================] - 37s 168ms/step - loss: 0.3973 - accuracy: 0.8956 - val_loss: 0.4501 - val_accuracy: 0.8727 - lr: 0.0010\n",
      "Epoch 11/50\n",
      "219/219 [==============================] - ETA: 0s - loss: 0.3584 - accuracy: 0.9073\n",
      "Epoch 00011: val_loss did not improve from 0.45011\n",
      "219/219 [==============================] - 33s 152ms/step - loss: 0.3584 - accuracy: 0.9073 - val_loss: 0.4722 - val_accuracy: 0.8607 - lr: 0.0010\n",
      "Epoch 12/50\n",
      "219/219 [==============================] - ETA: 0s - loss: 0.3416 - accuracy: 0.9127\n",
      "Epoch 00012: val_loss improved from 0.45011 to 0.44790, saving model to models/intent_classification_a.h5\n",
      "219/219 [==============================] - 34s 153ms/step - loss: 0.3416 - accuracy: 0.9127 - val_loss: 0.4479 - val_accuracy: 0.8720 - lr: 0.0010\n",
      "Epoch 13/50\n",
      "219/219 [==============================] - ETA: 0s - loss: 0.3173 - accuracy: 0.9249\n",
      "Epoch 00013: val_loss did not improve from 0.44790\n",
      "219/219 [==============================] - 51s 233ms/step - loss: 0.3173 - accuracy: 0.9249 - val_loss: 0.4567 - val_accuracy: 0.8727 - lr: 0.0010\n",
      "Epoch 14/50\n",
      "219/219 [==============================] - ETA: 0s - loss: 0.3017 - accuracy: 0.9244\n",
      "Epoch 00014: val_loss did not improve from 0.44790\n",
      "219/219 [==============================] - 37s 170ms/step - loss: 0.3017 - accuracy: 0.9244 - val_loss: 0.4833 - val_accuracy: 0.8623 - lr: 0.0010\n",
      "Epoch 15/50\n",
      "219/219 [==============================] - ETA: 0s - loss: 0.2751 - accuracy: 0.9354\n",
      "Epoch 00015: val_loss did not improve from 0.44790\n",
      "219/219 [==============================] - 41s 188ms/step - loss: 0.2751 - accuracy: 0.9354 - val_loss: 0.4790 - val_accuracy: 0.8667 - lr: 0.0010\n"
     ]
    }
   ],
   "source": [
    "# Initializing checkpoint settings to view progress and save model\n",
    "filename = 'models/intent_classification_a.h5'\n",
    "\n",
    "# Learning rate scheduling\n",
    "# This function keeps the initial learning rate for the first ten epochs  \n",
    "# and decreases it exponentially after that.  \n",
    "def scheduler(epoch, lr):\n",
    "    if epoch < 20:\n",
    "        return lr\n",
    "    else:\n",
    "        return lr * tf.math.exp(-0.1)\n",
    "\n",
    "lr_sched_checkpoint = tf.keras.callbacks.LearningRateScheduler(scheduler)\n",
    "\n",
    "early_stopping = tf.keras.callbacks.EarlyStopping(\n",
    "    monitor='val_loss', min_delta=0, patience=3, verbose=0, mode='auto',\n",
    "    baseline=None, restore_best_weights=True\n",
    ")\n",
    "\n",
    "\n",
    "# This saves the best model\n",
    "checkpoint = ModelCheckpoint(filename, monitor='val_loss', verbose=1, \n",
    "                             save_best_only=True, mode='min')\n",
    "\n",
    "# The model you get at the end of it is after 100 epochs, but that might not have been\n",
    "# the weights most associated with validation accuracy\n",
    "\n",
    "# Only save the weights when you model has the lowest val loss. Early stopping\n",
    "\n",
    "# Fitting model\n",
    "hist = model.fit(X_train, y_train, epochs = 50, batch_size = 32, \n",
    "                 validation_data = (X_val, y_val), \n",
    "                 callbacks = [checkpoint, lr_sched_checkpoint, early_stopping])"
   ]
  },
  {
   "cell_type": "code",
   "execution_count": 21,
   "metadata": {},
   "outputs": [
    {
     "data": {
      "image/png": "[encoded data removed]",
      "text/plain": [
       "<Figure size 720x504 with 1 Axes>"
      ]
     },
     "metadata": {},
     "output_type": "display_data"
    },
    {
     "data": {
      "image/png": "[encoded data removed]",
      "text/plain": [
       "<Figure size 720x504 with 1 Axes>"
      ]
     },
     "metadata": {},
     "output_type": "display_data"
    }
   ],
   "source": [
    "# Visualizing Training Loss vs Validation Loss (the loss is how wrong your model is)\n",
    "plt.figure(figsize=(10,7))\n",
    "plt.plot(hist.history['val_loss'], label = 'Validation Loss')\n",
    "plt.plot(hist.history['loss'], label = 'Training Loss')\n",
    "plt.title('Training Loss vs Validation Loss')\n",
    "plt.legend()\n",
    "plt.show()\n",
    "\n",
    "# Visualizing Testing Accuracy vs Validation Accuracy\n",
    "plt.figure(figsize=(10,7))\n",
    "plt.plot(hist.history['accuracy'], label = 'Training Accuracy')\n",
    "plt.plot(hist.history['val_accuracy'], label = 'Validation Accuracy')\n",
    "plt.title('Training Accuracy vs Validation Accuracy')\n",
    "plt.legend()\n",
    "plt.show()"
   ]
  },
  {
   "cell_type": "markdown",
   "metadata": {},
   "source": [
    "At after 20 epochs, the slope becomes a flat line, not really much change in the loss. Floor effect is you can't get any lower than 0 loss. It really quickly learns from the training data what it needs to learn. If you continue to train, you're basically overfitting to the training data, you're fitting to the unimportant signal.\n",
    "\n",
    "For example, in the context of images, if the model learns to recognize what a cat is, it might now be too detailed and learn that cats have to be the color black as well."
   ]
  },
  {
   "cell_type": "markdown",
   "metadata": {},
   "source": [
    "### Model improvements\n",
    "The model overfits at a low epoch. Model is significantly overfitting. Plot out accuracies.\n",
    "\n",
    "Don't need 100 training epoch.\n",
    "\n",
    "Look at learning rate scheduling, after certain number of epochs, decrease learning rate.\n",
    "* Learning rate scheduling\n",
    "* Early stopping or reducing epochs\n",
    "* Dropout layers\n",
    "* Regularization\n",
    "* Improve distinctiveness between intent data\n",
    "\n",
    "After I have applied these improvements, my accuracy went up."
   ]
  },
  {
   "cell_type": "code",
   "execution_count": 22,
   "metadata": {},
   "outputs": [],
   "source": [
    "# I have to redefine and load in the model saved by my model checkpoint \n",
    "from keras.models import load_model\n",
    "model = load_model('models/intent_classification_a.h5')"
   ]
  },
  {
   "cell_type": "code",
   "execution_count": 46,
   "metadata": {},
   "outputs": [],
   "source": [
    "def infer_intent(text):\n",
    "    ''' Takes as input an utterance an outputs a dictionary of intent probabilities '''\n",
    "    # Making sure that my text is a string\n",
    "    string_text = re.sub(r'[^ a-z A-Z 0-9]', \" \", text)\n",
    "    \n",
    "    # Converting to Keras form\n",
    "    keras_text = token.texts_to_sequences(string_text)\n",
    "\n",
    "    # Check for and remove unknown words - [] indicates that word is unknown\n",
    "    if [] in keras_text:\n",
    "        # Filtering out\n",
    "        keras_text = list(filter(None, keras_text))\n",
    "    keras_text = np.array(keras_text).reshape(1, len(keras_text))\n",
    "    x = pad_tweets(keras_text, max_token_length)\n",
    "\n",
    "    # Generate class probability predictions\n",
    "    # You're using the overfit model to predict!\n",
    "    intent_predictions = np.array(model.predict_proba(x)[0])\n",
    "    pairs = list(zip(unique_intents, intent_predictions))\n",
    "    print(pairs)\n",
    "    dict_pairs = dict(pairs)\n",
    "    # Output dictionary\n",
    "    output = {k: v for k, v in sorted(dict_pairs.items(), key=lambda item: item[1], reverse = True)}\n",
    "    \n",
    "    return string_text, output"
   ]
  },
  {
   "cell_type": "code",
   "execution_count": 47,
   "metadata": {
    "scrolled": true
   },
   "outputs": [
    {
     "name": "stdout",
     "output_type": "stream",
     "text": [
      "[('battery', 0.004495011), ('challenge_robot', 0.8240631), ('forgot_password', 0.0006804819), ('goodbye', 0.009609031), ('greeting', 0.12840441), ('info', 0.02369927), ('location', 0.004402823), ('payment', 5.983397e-05), ('speak_representative', 0.0012615188), ('update', 0.003324509)]\n",
      "You: bye\n",
      "Eve: \n",
      "Intents:{'challenge_robot': 0.8240631, 'greeting': 0.12840441, 'info': 0.02369927, 'goodbye': 0.009609031, 'battery': 0.004495011, 'location': 0.004402823, 'update': 0.003324509, 'speak_representative': 0.0012615188, 'forgot_password': 0.0006804819, 'payment': 5.983397e-05}\n"
     ]
    }
   ],
   "source": [
    "string_text, conf_dict = infer_intent(\"bye\")\n",
    "print(f'You: {string_text}')\n",
    "print(f'Eve: \\nIntents:{conf_dict}')"
   ]
  },
  {
   "cell_type": "markdown",
   "metadata": {},
   "source": [
    "# Debugging: Label-to-probability Mapping\n",
    "I had a huge problem trying to see if the labels are correctly mapped to it's respective intent probability. I try to debug step by step here:"
   ]
  },
  {
   "cell_type": "code",
   "execution_count": 35,
   "metadata": {},
   "outputs": [
    {
     "data": {
      "text/plain": [
       "[[780], [14], [], [513], [1413], [513], [573]]"
      ]
     },
     "execution_count": 35,
     "metadata": {},
     "output_type": "execute_result"
    }
   ],
   "source": [
    "# Converting to Keras form\n",
    "input_text = 'hi babe'\n",
    "keras_text = token.texts_to_sequences(input_text)\n",
    "keras_text"
   ]
  },
  {
   "cell_type": "code",
   "execution_count": 36,
   "metadata": {},
   "outputs": [
    {
     "data": {
      "text/plain": [
       "array([[ 780,   14,  513, 1413,  513,  573]])"
      ]
     },
     "execution_count": 36,
     "metadata": {},
     "output_type": "execute_result"
    }
   ],
   "source": [
    "# Check for and remove unknown words - [] indicates that word is unknown\n",
    "if [] in keras_text:\n",
    "# Filtering out\n",
    "    keras_text = list(filter(None, keras_text))\n",
    "keras_text = np.array(keras_text).reshape(1, len(keras_text))\n",
    "keras_text"
   ]
  },
  {
   "cell_type": "code",
   "execution_count": 37,
   "metadata": {},
   "outputs": [
    {
     "data": {
      "text/plain": [
       "array([[ 780,   14,  513, 1413,  513,  573,    0,    0,    0,    0,    0,\n",
       "           0,    0,    0,    0,    0,    0,    0,    0,    0,    0,    0,\n",
       "           0,    0,    0,    0,    0,    0,    0,    0,    0,    0]],\n",
       "      dtype=int32)"
      ]
     },
     "execution_count": 37,
     "metadata": {},
     "output_type": "execute_result"
    }
   ],
   "source": [
    "x = pad_tweets(keras_text, max_token_length)\n",
    "x"
   ]
  },
  {
   "cell_type": "code",
   "execution_count": 38,
   "metadata": {},
   "outputs": [
    {
     "data": {
      "text/plain": [
       "[('a', 1), ('a', 4), ('a', 3), ('a', 2)]"
      ]
     },
     "execution_count": 38,
     "metadata": {},
     "output_type": "execute_result"
    }
   ],
   "source": [
    "a = ['a','a','a','a']\n",
    "b = [1,4,3,2]\n",
    "\n",
    "list(zip(a,b))"
   ]
  },
  {
   "cell_type": "code",
   "execution_count": 30,
   "metadata": {},
   "outputs": [
    {
     "data": {
      "text/plain": [
       "['battery',\n",
       " 'challenge_robot',\n",
       " 'forgot_password',\n",
       " 'goodbye',\n",
       " 'greeting',\n",
       " 'info',\n",
       " 'location',\n",
       " 'payment',\n",
       " 'speak_representative',\n",
       " 'update']"
      ]
     },
     "execution_count": 30,
     "metadata": {},
     "output_type": "execute_result"
    }
   ],
   "source": [
    "unique_intents"
   ]
  },
  {
   "cell_type": "code",
   "execution_count": 39,
   "metadata": {},
   "outputs": [
    {
     "data": {
      "text/plain": [
       "array([7.2700768e-03, 7.9997117e-06, 1.0893541e-02, 1.0051959e-05,\n",
       "       3.0022514e-07, 6.2080952e-03, 7.2914976e-01, 2.3655701e-01,\n",
       "       2.8477700e-03, 7.0553599e-03], dtype=float32)"
      ]
     },
     "execution_count": 39,
     "metadata": {},
     "output_type": "execute_result"
    }
   ],
   "source": [
    "y_prob = model.predict(x)[0]\n",
    "y_prob"
   ]
  },
  {
   "cell_type": "code",
   "execution_count": 40,
   "metadata": {},
   "outputs": [
    {
     "data": {
      "text/plain": [
       "array([[7.2700768e-03, 7.9997117e-06, 1.0893541e-02, 1.0051959e-05,\n",
       "        3.0022514e-07, 6.2080952e-03, 7.2914976e-01, 2.3655701e-01,\n",
       "        2.8477700e-03, 7.0553599e-03]], dtype=float32)"
      ]
     },
     "execution_count": 40,
     "metadata": {},
     "output_type": "execute_result"
    }
   ],
   "source": [
    "y_classes = model.predict_proba(x)\n",
    "y_classes"
   ]
  },
  {
   "cell_type": "code",
   "execution_count": 45,
   "metadata": {},
   "outputs": [
    {
     "data": {
      "text/plain": [
       "array([[ 1],\n",
       "       [ 3],\n",
       "       [ 8],\n",
       "       [10],\n",
       "       [ 6],\n",
       "       [ 7],\n",
       "       [ 9],\n",
       "       [ 5],\n",
       "       [ 4],\n",
       "       [ 2]])"
      ]
     },
     "execution_count": 45,
     "metadata": {},
     "output_type": "execute_result"
    }
   ],
   "source": [
    "encoded_intents[:10]"
   ]
  },
  {
   "cell_type": "code",
   "execution_count": 48,
   "metadata": {},
   "outputs": [
    {
     "data": {
      "text/plain": [
       "['battery',\n",
       " 'challenge_robot',\n",
       " 'forgot_password',\n",
       " 'goodbye',\n",
       " 'greeting',\n",
       " 'info',\n",
       " 'location',\n",
       " 'payment',\n",
       " 'speak_representative',\n",
       " 'update']"
      ]
     },
     "execution_count": 48,
     "metadata": {},
     "output_type": "execute_result"
    }
   ],
   "source": [
    "sorted(train.Intent[:10])"
   ]
  },
  {
   "cell_type": "code",
   "execution_count": 49,
   "metadata": {},
   "outputs": [
    {
     "data": {
      "text/plain": [
       "['battery',\n",
       " 'challenge_robot',\n",
       " 'forgot_password',\n",
       " 'goodbye',\n",
       " 'greeting',\n",
       " 'info',\n",
       " 'location',\n",
       " 'payment',\n",
       " 'speak_representative',\n",
       " 'update']"
      ]
     },
     "execution_count": 49,
     "metadata": {},
     "output_type": "execute_result"
    }
   ],
   "source": [
    "unique_intents"
   ]
  },
  {
   "cell_type": "code",
   "execution_count": 137,
   "metadata": {},
   "outputs": [
    {
     "data": {
      "text/plain": [
       "array([[5.4813470e-05, 1.4960388e-02, 9.7874135e-01, 1.5970086e-03,\n",
       "        1.4872276e-04, 1.3118163e-03, 3.0740418e-03, 1.2774575e-05,\n",
       "        9.9173376e-05]], dtype=float32)"
      ]
     },
     "execution_count": 137,
     "metadata": {},
     "output_type": "execute_result"
    }
   ],
   "source": [
    "y_prob"
   ]
  },
  {
   "cell_type": "markdown",
   "metadata": {},
   "source": [
    "# Future Step: Multilabel Classification"
   ]
  },
  {
   "cell_type": "markdown",
   "metadata": {},
   "source": [
    "In the future, if I want to recognize mixed intents in an utterance, I could do multilabel classification.\n",
    "\n",
    "For multilabel classification, you use sigmoid activation function as the final layer. You'll still have ~10 distinct intents. But you need to modelled such that each of those intents are independent of each other.\n",
    "\n",
    "Prediction of intent 1 shouldn't effect intent 2. Softmax takes all the scores over all classes, and the highest number will have highest probability output but everything will sum to 1. For the final softmax layer will sum to 1, but that doesn't work in my case.\n",
    "\n",
    "But you're going to classify each intent separately. They can sum to greater than 1. \n",
    "\n",
    "It's similar to logreg in multiclass. One curve for class 0 and not class 0. The sum of those probs can be greater than 1.\n",
    "\n",
    "For class 1, itll be 1 or not 1. Etc. You would look at your output layer, and whichever nodes have a greater probability output of >0.5, those 2 are your final output. You can do up to 3. Depends on how many nodes you will have.\n",
    "\n",
    "When you feed in your target vector, they need to go into the one hot encoded vectors. Target column will have 10 columns. It will all sum up to one for each node. Each node will have a separate sigmoid function (P (1-P)). Across the nodes they're going to sum more than 1. One versus rest classification. Read up based on logreg terms. Multilabel classification. The main thing is your labels need to one hot encode. Loss function would use binary cross entropy.\n",
    "\n",
    "Potential Issue: The more classes you have, the harder it is for your model. Especially for the 2nd and 3rd label that's when accs start to drop a bit."
   ]
  }
 ],
 "metadata": {
  "kernelspec": {
   "display_name": "chatbot",
   "language": "python",
   "name": "chatbot"
  },
  "language_info": {
   "codemirror_mode": {
    "name": "ipython",
    "version": 3
   },
   "file_extension": ".py",
   "mimetype": "text/x-python",
   "name": "python",
   "nbconvert_exporter": "python",
   "pygments_lexer": "ipython3",
   "version": "3.7.7"
  }
 },
 "nbformat": 4,
 "nbformat_minor": 4
}
