{
 "cells": [
  {
   "cell_type": "markdown",
   "metadata": {},
   "source": [
    "# Policy Implementation (Dialogue Management)"
   ]
  },
  {
   "cell_type": "markdown",
   "metadata": {},
   "source": [
    "The goal is to predict the next best action based on a history of dialogue. These actions are governed by policies - each policy will output a probability."
   ]
  },
  {
   "cell_type": "code",
   "execution_count": null,
   "metadata": {},
   "outputs": [],
   "source": [
    "# Transformer model\n",
    "\n",
    "\n",
    "# Reads in the question as a contextual question\n",
    "\n",
    "\n",
    "# Open AI GTP-3 Generates response from scratch. The only issue is that it's a gigantic model.\n",
    "\n",
    "# One way you could do it\n",
    "# Pass in inbound examples as the training examples\n",
    "\n",
    "# Outbound message is what's meant to be predicted. Model will learn if they get a similar inbound\n",
    "# message it will be similar\n",
    "\n",
    "# Words go in as documents (word by word). It will find out the context of the sequence that get's passed\n",
    "# in and it reads the inbound sequence as the inbound context. When it trains it is going to look at the\n",
    "# outbounds that go into that inbound. Generate a word by word output."
   ]
  },
  {
   "cell_type": "markdown",
   "metadata": {},
   "source": [
    "Next word prediction, or use responses as a bank of classes and you classify which existing response. Take advantage of pretrained embeddings. That reduces the amount of training needed. If we are talking about next word generation."
   ]
  }
 ],
 "metadata": {
  "kernelspec": {
   "display_name": "capstone",
   "language": "python",
   "name": "capstone"
  },
  "language_info": {
   "codemirror_mode": {
    "name": "ipython",
    "version": 3
   },
   "file_extension": ".py",
   "mimetype": "text/x-python",
   "name": "python",
   "nbconvert_exporter": "python",
   "pygments_lexer": "ipython3",
   "version": "3.7.6"
  }
 },
 "nbformat": 4,
 "nbformat_minor": 4
}
