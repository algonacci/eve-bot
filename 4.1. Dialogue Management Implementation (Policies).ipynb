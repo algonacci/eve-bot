{
 "cells": [
  {
   "cell_type": "markdown",
   "metadata": {},
   "source": [
    "# 4.1. Dialogue Management Implementation (Policies)"
   ]
  },
  {
   "cell_type": "markdown",
   "metadata": {},
   "source": [
    "Datacamp gave me ideas on how ELIZA bot was traditionally coded up. I used that and RASA's chatbot implementation as inspiration, and this notebook represents my own implementation of how I understand a chatbot is coded up.\n",
    "\n",
    "The goal is to predict the next best action based on a history of dialogue. These actions are governed by policies - each policy will output a probability.\n",
    "\n",
    "I drew up a high-level diagram (rooting off the one RASA drew for their chatbot architecture) that helps display my entire pipeline.\n",
    "\n",
    "<!-- <img src=\"visualizations/chatbot-framework.png\" alt=\"Drawing\" style=\"width: 500px;\"/> -->"
   ]
  },
  {
   "cell_type": "code",
   "execution_count": 6,
   "metadata": {},
   "outputs": [
    {
     "name": "stdout",
     "output_type": "stream",
     "text": [
      "Pandas: 1.0.1\n",
      "Numpy: 1.18.1\n",
      "Pandas: 1.0.1\n",
      "Numpy: 1.18.1\n"
     ]
    }
   ],
   "source": [
    "# Visualization \n",
    "import seaborn as sns\n",
    "import matplotlib.pyplot as plt\n",
    "sns.set(style=\"ticks\", color_codes=True)\n",
    "# Data science\n",
    "import pandas as pd\n",
    "print(f\"Pandas: {pd.__version__}\")\n",
    "import numpy as np\n",
    "print(f\"Numpy: {np.__version__}\")# Data science\n",
    "import pandas as pd\n",
    "print(f\"Pandas: {pd.__version__}\")\n",
    "import numpy as np\n",
    "print(f\"Numpy: {np.__version__}\") \n",
    "import random\n",
    "\n",
    "# Reading in training data\n",
    "train = pd.read_pickle('objects/train.pkl')\n",
    "\n",
    "# Getting all the unique intents\n",
    "intents = train['Intent'].unique()"
   ]
  },
  {
   "cell_type": "code",
   "execution_count": 7,
   "metadata": {},
   "outputs": [
    {
     "ename": "NameError",
     "evalue": "name 'st' is not defined",
     "output_type": "error",
     "traceback": [
      "\u001b[0;31m-------------------------------------------------------------------------\u001b[0m",
      "\u001b[0;31mNameError\u001b[0m                               Traceback (most recent call last)",
      "\u001b[0;32m<ipython-input-7-e1c7b9cdbe14>\u001b[0m in \u001b[0;36m<module>\u001b[0;34m\u001b[0m\n\u001b[1;32m     39\u001b[0m \u001b[0;34m\u001b[0m\u001b[0m\n\u001b[1;32m     40\u001b[0m \u001b[0;32mif\u001b[0m \u001b[0m__name__\u001b[0m \u001b[0;34m==\u001b[0m \u001b[0;34m\"__main__\"\u001b[0m\u001b[0;34m:\u001b[0m\u001b[0;34m\u001b[0m\u001b[0;34m\u001b[0m\u001b[0m\n\u001b[0;32m---> 41\u001b[0;31m     \u001b[0mmain\u001b[0m\u001b[0;34m(\u001b[0m\u001b[0;34m)\u001b[0m\u001b[0;34m\u001b[0m\u001b[0;34m\u001b[0m\u001b[0m\n\u001b[0m",
      "\u001b[0;32m<ipython-input-7-e1c7b9cdbe14>\u001b[0m in \u001b[0;36mmain\u001b[0;34m()\u001b[0m\n\u001b[1;32m      2\u001b[0m     \u001b[0ma\u001b[0m \u001b[0;34m=\u001b[0m \u001b[0mActions\u001b[0m\u001b[0;34m(\u001b[0m\u001b[0;34m)\u001b[0m\u001b[0;34m\u001b[0m\u001b[0;34m\u001b[0m\u001b[0m\n\u001b[1;32m      3\u001b[0m     \u001b[0ma\u001b[0m\u001b[0;34m.\u001b[0m\u001b[0mutter_greet\u001b[0m\u001b[0;34m(\u001b[0m\u001b[0;34m)\u001b[0m\u001b[0;34m\u001b[0m\u001b[0;34m\u001b[0m\u001b[0m\n\u001b[0;32m----> 4\u001b[0;31m     \u001b[0minput\u001b[0m \u001b[0;34m=\u001b[0m \u001b[0mst\u001b[0m\u001b[0;34m.\u001b[0m\u001b[0mtext_input\u001b[0m\u001b[0;34m(\u001b[0m\u001b[0;34m\"Tell EVE something!\"\u001b[0m\u001b[0;34m)\u001b[0m\u001b[0;34m\u001b[0m\u001b[0;34m\u001b[0m\u001b[0m\n\u001b[0m\u001b[1;32m      5\u001b[0m     \u001b[0mintents\u001b[0m\u001b[0;34m,\u001b[0m \u001b[0mhardware\u001b[0m\u001b[0;34m,\u001b[0m \u001b[0mapp\u001b[0m \u001b[0;34m=\u001b[0m \u001b[0minitialize\u001b[0m\u001b[0;34m(\u001b[0m\u001b[0minput\u001b[0m\u001b[0;34m)\u001b[0m\u001b[0;34m\u001b[0m\u001b[0;34m\u001b[0m\u001b[0m\n\u001b[1;32m      6\u001b[0m \u001b[0;34m\u001b[0m\u001b[0m\n",
      "\u001b[0;31mNameError\u001b[0m: name 'st' is not defined"
     ]
    }
   ],
   "source": [
    "def main():\n",
    "    a = Actions()\n",
    "    a.utter_greet()\n",
    "    user_input = \"Tell EVE something!\"\n",
    "    intents, hardware, app = initialize(input)\n",
    "\n",
    "    # Initializing dialogue history\n",
    "    columns = entities[\"hardware\"] + entities[\"apps\"]\n",
    "    history = pd.DataFrame(dict(zip(columns, np.zeros(len(columns)))))\n",
    "\n",
    "def initialize(user_input):\n",
    "    \"\"\" Takes the user input and returns the entity representation and predicted intent\"\"\"\n",
    "    # Intent classification\n",
    "    intents = infer_intent(user_input)\n",
    "    # Further unpacking\n",
    "    user_input, pred = intents\n",
    "    pred = {k: round(float(v), 3) for k, v in pred.items()}\n",
    "\n",
    "    # Visualizing intent classification\n",
    "    g = sns.barplot(\n",
    "        list(pred.keys()),\n",
    "        list(pred.values()),\n",
    "        palette=sns.cubehelix_palette(8, reverse=True),\n",
    "    )\n",
    "    g.set_xticklabels(g.get_xticklabels(), rotation=90)\n",
    "    plt.show(bbox_inches=\"tight\")\n",
    "\n",
    "    st.subheader(\"Hardware Identified\")\n",
    "    hardware = extract_hardware(user_input, visualize=True)\n",
    "    print(hardware)\n",
    "\n",
    "    print(\"Applications Identified\")\n",
    "    app = extract_app(user_input, visualize=True)\n",
    "    print(app)\n",
    "\n",
    "    return (intents, hardware, app)\n",
    "\n",
    "if __name__ == \"__main__\":\n",
    "    main()"
   ]
  },
  {
   "cell_type": "code",
   "execution_count": 4,
   "metadata": {},
   "outputs": [],
   "source": [
    "# Making a class to define all the actions to do when you are\n",
    "class Actions:\n",
    "    memory = {'hardware': [], 'app': []}\n",
    "    def __init__(self):\n",
    "        pass\n",
    "\n",
    "    # If greet\n",
    "    def utter_greet(self):\n",
    "        # Storing the bank of responses\n",
    "        return random.choice(\n",
    "            [\n",
    "                \"Hi! My name is EVE. How may I assist you today?\",\n",
    "                \"Hello. How may I be of help?\",\n",
    "            ]\n",
    "        )\n",
    "\n",
    "    # If goodbye\n",
    "    def utter_goodbye(self):\n",
    "        reaffirm = [\"Is there anything else I could help you with?\"]\n",
    "        goodbye = [\n",
    "            \"Thank you for your time. Have a nice day!\",\n",
    "            \"Glad I could be of help, have a nice day!\",\n",
    "        ]\n",
    "        return\n",
    "\n",
    "    # Speak to representative\n",
    "    def link_to_human(self):\n",
    "        return random.choice([\"Alright. Let me direct you to a representative!\"])\n",
    "\n",
    "    def battery(self, hardware = False):\n",
    "        if hardware == False:\n",
    "            return ['What hardware are you using?']\n",
    "        else:\n",
    "            return random.choice([''])\n",
    "\n",
    "    def forgot_pass(self):\n",
    "        pass\n",
    "\n",
    "    def payment(self):\n",
    "        # What hardware?\n",
    "\n",
    "        return [\"\"]\n",
    "\n",
    "    def challenge_robot(self):\n",
    "        return random.choice(\n",
    "            [\n",
    "                \"You're funny. Of course I am a robot.\",\n",
    "                \"Yes, and I was designed by Matthew to assist you.\",\n",
    "            ]\n",
    "        )\n",
    "\n",
    "    def update(self):\n",
    "        # Affirm hardware\n",
    "        if hardware == None:\n",
    "            pass\n"
   ]
  },
  {
   "cell_type": "markdown",
   "metadata": {},
   "source": [
    "### Next best action prediction\n",
    "**Inputs**:\n",
    "* Last interactions\n",
    "    * Param: Max history\n",
    "* Intent\n",
    "* Entities\n",
    "* Slots: The policy implementation just sees a binary representation if the slot is filled or not.\n",
    "\n",
    "**Outputs**: Next best action\n",
    "\n",
    "\n",
    "### Actions\n",
    "Actions that my chatbot is capable of:\n",
    "\n",
    "* `utter_greet`: Greets user with a greeting\n",
    "* `utter_goodbye`: Says farewell\n",
    "* `fallback`: Links to human if confidence thresholds are not met or the model thinks that you are saying something out of scope\n",
    "    * Can do this in two stages - Ask the user to affirm an intent at the middle confidence range\n",
    "    * Ambiguity threshold - Minimum amount the top intent confidence must exceed the second highest intent\n",
    "* `utter_default`: Utters default phrase for the intent\n",
    "* `reroute_intent`: Bot misidentified the intent. I can revert to the option menu in this case. Then to a human.\n",
    "* `search update resolution`: \n",
    "\n",
    "My goal is to make each of these actions into a function, and call that function when the particular `next_best_action` is predicted.\n",
    "\n",
    "    Me: My iOS isn't updating correctly\n",
    "    Eve: Would you like to "
   ]
  },
  {
   "cell_type": "code",
   "execution_count": 1,
   "metadata": {},
   "outputs": [
    {
     "data": {
      "text/plain": [
       "['hi', 'my iphone is broken', 'are you a robot']"
      ]
     },
     "execution_count": 1,
     "metadata": {},
     "output_type": "execute_result"
    }
   ],
   "source": [
    "# Getting my training data\n",
    "slot = {'Hardware': []}\n",
    "history = ['hi', 'my iphone is broken', 'are you a robot']\n",
    "# User inputs\n",
    "history"
   ]
  },
  {
   "cell_type": "markdown",
   "metadata": {},
   "source": [
    "Can we somehow bias the model to be able to incorporate a certain flow more than others?"
   ]
  },
  {
   "cell_type": "markdown",
   "metadata": {},
   "source": [
    "# Action Selection\n",
    "At every turn, each policy defined in your configuration will predict a next action with a certain confidence level. For more information about how each policy makes its decision, read into the policy’s description below. The bot’s next action is then decided by the policy that predicts with the highest confidence.\n",
    "\n",
    "In the case that two policies predict with equal confidence (for example, the Memoization and Mapping Policies always predict with confidence of either 0 or 1), the priority of the policies is considered. Rasa policies have default priorities that are set to ensure the expected outcome in the case of a tie. They look like this, where higher numbers have higher priority:\n",
    "\n",
    "1. TEDPolicy, EmbeddingPolicy, KerasPolicy, and SklearnPolicy - Predicts next best action\n",
    "2. MappingPolicy - Maps an intent to an action\n",
    "3. MemoizationPolicy and AugmentedMemoizationPolicy - Memorizes conversational data: predicts either confidence of 1 or 0\n",
    "4. FallbackPolicy and TwoStageFallbackPolicy - Lower conf thresholds\n",
    "5. FormPolicy - Filling in the required slots\n",
    "\n",
    "This priority hierarchy ensures that, for example, if there is an intent with a mapped action, but the NLU confidence is not above the nlu_threshold, the bot will still fall back. In general, it is not recommended to have more than one policy per priority level, and some policies on the same priority level, such as the two fallback policies, strictly cannot be used in tandem.\n",
    "\n",
    "If you create your own policy, use these priorities as a guide for figuring out the priority of your policy. If your policy is a machine learning policy, it should most likely have priority 1, the same as the Rasa machine learning policies."
   ]
  },
  {
   "cell_type": "code",
   "execution_count": 19,
   "metadata": {},
   "outputs": [
    {
     "data": {
      "text/plain": [
       "0         @115854 Lets take a closer look into this issu...\n",
       "6         @115856 Hey, let's work together to figure out...\n",
       "12        @115861 You're in the right place; we'll do al...\n",
       "13        @115863 Go ahead and send us a DM please. Let ...\n",
       "15        @115864 We'd like to help, but we'll need more...\n",
       "                                ...                        \n",
       "106643    @823737 We're happy to help out with your conc...\n",
       "106644    @689907 We're certainly glad to get you pointe...\n",
       "106645    @823765 We'd love to help! Which device are yo...\n",
       "106646    @823779 We'd like to help. Send us a DM and we...\n",
       "106647    @823796 We'd love to offer our help in making ...\n",
       "Name: Real Outbound, Length: 76066, dtype: string"
      ]
     },
     "execution_count": 19,
     "metadata": {},
     "output_type": "execute_result"
    }
   ],
   "source": [
    "pd.read_pickle('objects/processed.pkl')['Real Outbound']\n",
    "\n",
    "# Have to determine how you are going to respond to each message that comes in\n",
    "# Usually will have good 3 first words, then the rest is bad\n",
    "# Language generation models are usually trained with HUGE datasets\n",
    "# Sign up for the GPT-3 API"
   ]
  },
  {
   "cell_type": "code",
   "execution_count": 1,
   "metadata": {},
   "outputs": [
    {
     "ename": "NameError",
     "evalue": "name 'intent' is not defined",
     "output_type": "error",
     "traceback": [
      "\u001b[0;31m---------------------------------------------------------------------------\u001b[0m",
      "\u001b[0;31mNameError\u001b[0m                                 Traceback (most recent call last)",
      "\u001b[0;32m<ipython-input-1-846b99daea6b>\u001b[0m in \u001b[0;36m<module>\u001b[0;34m\u001b[0m\n\u001b[0;32m----> 1\u001b[0;31m \u001b[0mintent\u001b[0m\u001b[0;34m\u001b[0m\u001b[0;34m\u001b[0m\u001b[0m\n\u001b[0m",
      "\u001b[0;31mNameError\u001b[0m: name 'intent' is not defined"
     ]
    }
   ],
   "source": [
    "intent"
   ]
  },
  {
   "cell_type": "code",
   "execution_count": 10,
   "metadata": {},
   "outputs": [
    {
     "ename": "NameError",
     "evalue": "name 'intent' is not defined",
     "output_type": "error",
     "traceback": [
      "\u001b[0;31m---------------------------------------------------------------------------\u001b[0m",
      "\u001b[0;31mNameError\u001b[0m                                 Traceback (most recent call last)",
      "\u001b[0;32m<ipython-input-10-17bb8a396cb4>\u001b[0m in \u001b[0;36m<module>\u001b[0;34m\u001b[0m\n\u001b[1;32m      1\u001b[0m \u001b[0;31m# Making a conditional\u001b[0m\u001b[0;34m\u001b[0m\u001b[0;34m\u001b[0m\u001b[0;34m\u001b[0m\u001b[0m\n\u001b[0;32m----> 2\u001b[0;31m \u001b[0;32mif\u001b[0m \u001b[0mintent\u001b[0m \u001b[0;34m==\u001b[0m \u001b[0;34m'battery'\u001b[0m\u001b[0;34m:\u001b[0m\u001b[0;34m\u001b[0m\u001b[0;34m\u001b[0m\u001b[0m\n\u001b[0m\u001b[1;32m      3\u001b[0m     \u001b[0;32mpass\u001b[0m\u001b[0;34m\u001b[0m\u001b[0;34m\u001b[0m\u001b[0m\n",
      "\u001b[0;31mNameError\u001b[0m: name 'intent' is not defined"
     ]
    }
   ],
   "source": [
    "# Making a switch statement to see which actions \n",
    "if intent == 'battery':\n",
    "    pass\n"
   ]
  },
  {
   "cell_type": "code",
   "execution_count": null,
   "metadata": {},
   "outputs": [],
   "source": []
  },
  {
   "cell_type": "code",
   "execution_count": null,
   "metadata": {},
   "outputs": [],
   "source": []
  },
  {
   "cell_type": "code",
   "execution_count": null,
   "metadata": {},
   "outputs": [],
   "source": []
  },
  {
   "cell_type": "code",
   "execution_count": null,
   "metadata": {},
   "outputs": [],
   "source": []
  },
  {
   "cell_type": "code",
   "execution_count": null,
   "metadata": {},
   "outputs": [],
   "source": []
  },
  {
   "cell_type": "code",
   "execution_count": null,
   "metadata": {},
   "outputs": [],
   "source": []
  },
  {
   "cell_type": "code",
   "execution_count": null,
   "metadata": {},
   "outputs": [],
   "source": []
  },
  {
   "cell_type": "markdown",
   "metadata": {},
   "source": [
    "### Outbound EDA\n",
    "I want to get insight on how Apple responds to their customers."
   ]
  },
  {
   "cell_type": "code",
   "execution_count": 36,
   "metadata": {},
   "outputs": [
    {
     "name": "stdout",
     "output_type": "stream",
     "text": [
      "19942 Tweets contain the keyword update\n"
     ]
    },
    {
     "data": {
      "text/html": [
       "<div>\n",
       "<style scoped>\n",
       "    .dataframe tbody tr th:only-of-type {\n",
       "        vertical-align: middle;\n",
       "    }\n",
       "\n",
       "    .dataframe tbody tr th {\n",
       "        vertical-align: top;\n",
       "    }\n",
       "\n",
       "    .dataframe thead th {\n",
       "        text-align: right;\n",
       "    }\n",
       "</style>\n",
       "<table border=\"1\" class=\"dataframe\">\n",
       "  <thead>\n",
       "    <tr style=\"text-align: right;\">\n",
       "      <th></th>\n",
       "      <th>Processed Inbound</th>\n",
       "      <th>Real Inbound</th>\n",
       "      <th>Real Outbound</th>\n",
       "    </tr>\n",
       "  </thead>\n",
       "  <tbody>\n",
       "    <tr>\n",
       "      <th>0</th>\n",
       "      <td>[new, update, i️, make, sure, download, yester...</td>\n",
       "      <td>@AppleSupport The newest update. I️ made sure ...</td>\n",
       "      <td>@115854 Lets take a closer look into this issu...</td>\n",
       "    </tr>\n",
       "    <tr>\n",
       "      <th>15</th>\n",
       "      <td>[thank, update, phone, even, slow, barely, wor...</td>\n",
       "      <td>Thank you @AppleSupport I updated my phone and...</td>\n",
       "      <td>@115864 We'd like to help, but we'll need more...</td>\n",
       "    </tr>\n",
       "    <tr>\n",
       "      <th>19</th>\n",
       "      <td>[need, software, update, urgently, battery, la...</td>\n",
       "      <td>@AppleSupport I need the software update urgen...</td>\n",
       "      <td>@115865 Hi there! What type of device are we w...</td>\n",
       "    </tr>\n",
       "    <tr>\n",
       "      <th>25</th>\n",
       "      <td>[hey, last, time, download, update, freak, pho...</td>\n",
       "      <td>Hey @115858! Last time I downloaded an update ...</td>\n",
       "      <td>@115869 We're here to help. Meet us in DM and ...</td>\n",
       "    </tr>\n",
       "    <tr>\n",
       "      <th>38</th>\n",
       "      <td>[iphone, yes, io, checked, update, none, avail...</td>\n",
       "      <td>@AppleSupport iPhone 6, yes ios11. Checked for...</td>\n",
       "      <td>@116102 To make sure, is iOS 11.1 showing here...</td>\n",
       "    </tr>\n",
       "    <tr>\n",
       "      <th>...</th>\n",
       "      <td>...</td>\n",
       "      <td>...</td>\n",
       "      <td>...</td>\n",
       "    </tr>\n",
       "    <tr>\n",
       "      <th>106624</th>\n",
       "      <td>[dear, fuck, wish, iphone, would, stop, crash,...</td>\n",
       "      <td>Dear @115858 I fucking wish my iPhone 7 would ...</td>\n",
       "      <td>@823495 We know it's important for your iPhone...</td>\n",
       "    </tr>\n",
       "    <tr>\n",
       "      <th>106630</th>\n",
       "      <td>[im, upset, update, every, time, type, anythin...</td>\n",
       "      <td>im so upset over this @115858 update, every ti...</td>\n",
       "      <td>@485591 We completely understand being upset a...</td>\n",
       "    </tr>\n",
       "    <tr>\n",
       "      <th>106634</th>\n",
       "      <td>[home, button, work, phone, battery, last, lit...</td>\n",
       "      <td>@115858 My home button does not work. My phone...</td>\n",
       "      <td>@823651 We want your iPhone to work as it shou...</td>\n",
       "    </tr>\n",
       "    <tr>\n",
       "      <th>106636</th>\n",
       "      <td>[whenever, new, iphone, get, launch, old, mode...</td>\n",
       "      <td>@115858 why is it whenever a new iphone gets l...</td>\n",
       "      <td>@823679 Thanks for reaching out. We know how i...</td>\n",
       "    </tr>\n",
       "    <tr>\n",
       "      <th>106647</th>\n",
       "      <td>[anyone, iphone, issue, phone, freeze, randoml...</td>\n",
       "      <td>Is anyone having #iphone issues with there pho...</td>\n",
       "      <td>@823796 We'd love to offer our help in making ...</td>\n",
       "    </tr>\n",
       "  </tbody>\n",
       "</table>\n",
       "<p>19942 rows × 3 columns</p>\n",
       "</div>"
      ],
      "text/plain": [
       "                                        Processed Inbound  \\\n",
       "0       [new, update, i️, make, sure, download, yester...   \n",
       "15      [thank, update, phone, even, slow, barely, wor...   \n",
       "19      [need, software, update, urgently, battery, la...   \n",
       "25      [hey, last, time, download, update, freak, pho...   \n",
       "38      [iphone, yes, io, checked, update, none, avail...   \n",
       "...                                                   ...   \n",
       "106624  [dear, fuck, wish, iphone, would, stop, crash,...   \n",
       "106630  [im, upset, update, every, time, type, anythin...   \n",
       "106634  [home, button, work, phone, battery, last, lit...   \n",
       "106636  [whenever, new, iphone, get, launch, old, mode...   \n",
       "106647  [anyone, iphone, issue, phone, freeze, randoml...   \n",
       "\n",
       "                                             Real Inbound  \\\n",
       "0       @AppleSupport The newest update. I️ made sure ...   \n",
       "15      Thank you @AppleSupport I updated my phone and...   \n",
       "19      @AppleSupport I need the software update urgen...   \n",
       "25      Hey @115858! Last time I downloaded an update ...   \n",
       "38      @AppleSupport iPhone 6, yes ios11. Checked for...   \n",
       "...                                                   ...   \n",
       "106624  Dear @115858 I fucking wish my iPhone 7 would ...   \n",
       "106630  im so upset over this @115858 update, every ti...   \n",
       "106634  @115858 My home button does not work. My phone...   \n",
       "106636  @115858 why is it whenever a new iphone gets l...   \n",
       "106647  Is anyone having #iphone issues with there pho...   \n",
       "\n",
       "                                            Real Outbound  \n",
       "0       @115854 Lets take a closer look into this issu...  \n",
       "15      @115864 We'd like to help, but we'll need more...  \n",
       "19      @115865 Hi there! What type of device are we w...  \n",
       "25      @115869 We're here to help. Meet us in DM and ...  \n",
       "38      @116102 To make sure, is iOS 11.1 showing here...  \n",
       "...                                                   ...  \n",
       "106624  @823495 We know it's important for your iPhone...  \n",
       "106630  @485591 We completely understand being upset a...  \n",
       "106634  @823651 We want your iPhone to work as it shou...  \n",
       "106636  @823679 Thanks for reaching out. We know how i...  \n",
       "106647  @823796 We'd love to offer our help in making ...  \n",
       "\n",
       "[19942 rows x 3 columns]"
      ]
     },
     "execution_count": 36,
     "metadata": {},
     "output_type": "execute_result"
    }
   ],
   "source": [
    "# Search by keywords (single keyword filter)\n",
    "intent = 'update'\n",
    "\n",
    "# Seeing what the processed Tweets look like\n",
    "filt = [(i,j) for i,j in enumerate(processed['Processed Inbound']) if keyword in j]\n",
    "filtered = processed.iloc[[i[0] for i in filt]]\n",
    "print(f'{len(filtered)} Tweets contain the keyword {keyword}')\n",
    "filtered"
   ]
  },
  {
   "cell_type": "markdown",
   "metadata": {},
   "source": [
    "# TED Policy Documentation\n",
    "\n",
    "This is taken directly from RASA.\n",
    "\n",
    "The Transformer Embedding Dialogue (TED) Policy is described in our paper.\n",
    "\n",
    "This policy has a pre-defined architecture, which comprises the following steps:\n",
    "\n",
    "* concatenate user input (user intent and entities), previous system actions, slots and active forms for each time step into an input vector to pre-transformer embedding layer;\n",
    "* feed it to transformer;\n",
    "* apply a dense layer to the output of the transformer to get embeddings of a dialogue for each time step;\n",
    "* apply a dense layer to create embeddings for system actions for each time step;\n",
    "* calculate the similarity between the dialogue embedding and embedded system actions. This step is based on the StarSpace idea.\n",
    "\n",
    "It is recommended to use state_featurizer=LabelTokenizerSingleStateFeaturizer(...) (see Featurization of Conversations for details).\n",
    "\n",
    "### Configuration:\n",
    "\n",
    "Configuration parameters can be passed as parameters to the TEDPolicy within the configuration file. If you want to adapt your model, start by modifying the following parameters:\n",
    "\n",
    "* `epochs`: This parameter sets the number of times the algorithm will see the training data (default: 1). One epoch is equals to one forward pass and one backward pass of all the training examples. Sometimes the model needs more epochs to properly learn. Sometimes more epochs don’t influence the performance. The lower the number of epochs the faster the model is trained.\n",
    "* `hidden_layers_sizes`: This parameter allows you to define the number of feed forward layers and their output dimensions for dialogues and intents (default: dialogue: [], label: []). Every entry in the list corresponds to a feed forward layer. For example, if you set dialogue: [256, 128], we will add two feed forward layers in front of the transformer. The vectors of the input tokens (coming from the dialogue) will be passed on to those layers. The first layer will have an output dimension of 256 and the second layer will have an output dimension of 128. If an empty list is used (default behavior), no feed forward layer will be added. Make sure to use only positive integer values. Usually, numbers of power of two are used. Also, it is usual practice to have decreasing values in the list: next value is smaller or equal to the value before.\n",
    "* `number_of_transformer_layers`: This parameter sets the number of transformer layers to use (default: 1). The * number of transformer layers corresponds to the transformer blocks to use for the model.\n",
    "* `transformer_size`: This parameter sets the number of units in the transformer (default: 128). The vectors coming out of the transformers will have the given transformer_size.\n",
    "* `weight_sparsity`: This parameter defines the fraction of kernel weights that are set to 0 for all feed forward layers in the model (default: 0.8). The value should be between 0 and 1. If you set weight_sparsity to 0, no kernel weights will be set to 0, the layer acts as a standard feed forward layer. You should not set weight_sparsity to 1 as this would result in all kernel weights being 0, i.e. the model is not able to learn."
   ]
  },
  {
   "cell_type": "code",
   "execution_count": 20,
   "metadata": {},
   "outputs": [],
   "source": [
    "# Transformer model\n",
    "\n",
    "# Reads in the question as a contextual question\n",
    "\n",
    "# Open AI GPT-3 Generates response from scratch. \n",
    "# The only issue is that it's a gigantic model.\n",
    "\n",
    "# One way you could do it\n",
    "# Pass in inbound examples as the training examples\n",
    "\n",
    "# Outbound message is what's meant to be predicted. Model will learn if they get a similar inbound\n",
    "# message it will be similar\n",
    "\n",
    "# Words go in as documents (word by word). It will find out the context of the sequence that get's passed\n",
    "# in and it reads the inbound sequence as the inbound context. When it trains it is going to look at the\n",
    "# outbounds that go into that inbound. Generate a word by word output."
   ]
  },
  {
   "cell_type": "markdown",
   "metadata": {},
   "source": [
    "Next word prediction, or use responses as a bank of classes and you classify which existing response. Take advantage of pretrained embeddings. That reduces the amount of training needed. If we are talking about next word generation."
   ]
  }
 ],
 "metadata": {
  "kernelspec": {
   "display_name": "capstone",
   "language": "python",
   "name": "capstone"
  },
  "language_info": {
   "codemirror_mode": {
    "name": "ipython",
    "version": 3
   },
   "file_extension": ".py",
   "mimetype": "text/x-python",
   "name": "python",
   "nbconvert_exporter": "python",
   "pygments_lexer": "ipython3",
   "version": "3.7.6"
  }
 },
 "nbformat": 4,
 "nbformat_minor": 4
}
