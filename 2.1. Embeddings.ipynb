{
 "cells": [
  {
   "cell_type": "markdown",
   "metadata": {},
   "source": [
    "# Alternative Notebook while other notebook runs the model"
   ]
  },
  {
   "cell_type": "code",
   "execution_count": 35,
   "metadata": {},
   "outputs": [
    {
     "name": "stdout",
     "output_type": "stream",
     "text": [
      "Versions\n",
      "Pandas: 1.0.1\n",
      "Numpy: 1.18.1\n",
      "Tensorflow: 2.0.0\n",
      "Keras: 2.2.4-tf\n",
      "Sklearn: 0.22.1\n",
      "re: 2.2.1\n",
      "spaCy: 2.1.8\n",
      "nltk: 3.4.5\n",
      "gensim: 3.8.0\n"
     ]
    },
    {
     "name": "stderr",
     "output_type": "stream",
     "text": [
      "/opt/anaconda3/envs/capstone/lib/python3.7/site-packages/ipykernel_launcher.py:43: TqdmDeprecationWarning: This function will be removed in tqdm==5.0.0\n",
      "Please use `tqdm.notebook.tqdm` instead of `tqdm.tqdm_notebook`\n"
     ]
    },
    {
     "data": {
      "application/vnd.jupyter.widget-view+json": {
       "model_id": "c639a36c847c472590cce992fa251dbd",
       "version_major": 2,
       "version_minor": 0
      },
      "text/plain": [
       "HBox(children=(FloatProgress(value=1.0, bar_style='info', max=1.0), HTML(value='')))"
      ]
     },
     "metadata": {},
     "output_type": "display_data"
    },
    {
     "name": "stderr",
     "output_type": "stream",
     "text": [
      "/opt/anaconda3/envs/capstone/lib/python3.7/site-packages/tqdm/std.py:658: FutureWarning: The Panel class is removed from pandas. Accessing it from the top-level namespace will also be removed in the next version\n",
      "  from pandas import Panel\n"
     ]
    }
   ],
   "source": [
    "# %%capture\n",
    "print(\"Versions\")\n",
    "# Data science\n",
    "import pandas as pd\n",
    "print(f\"Pandas: {pd.__version__}\")\n",
    "import numpy as np\n",
    "print(f\"Numpy: {np.__version__}\")\n",
    "# Deep Learning \n",
    "import tensorflow as tf\n",
    "print(f\"Tensorflow: {tf.__version__}\")\n",
    "from tensorflow import keras\n",
    "print(f\"Keras: {keras.__version__}\")\n",
    "import sklearn\n",
    "print(f\"Sklearn: {sklearn.__version__}\")\n",
    "# Visualization \n",
    "import seaborn as sns\n",
    "import matplotlib.pyplot as plt\n",
    "sns.set(style=\"ticks\", color_codes=True)\n",
    "# Regular Expressions\n",
    "import re\n",
    "print(f're: {re.__version__}')\n",
    "# Preprocessing\n",
    "import spacy\n",
    "print(f'spaCy: {spacy.__version__}')\n",
    "import nltk\n",
    "print(f'nltk: {nltk.__version__}')\n",
    "from spellchecker import SpellChecker\n",
    "from nltk.corpus import stopwords\n",
    "from nltk.tokenize import word_tokenize \n",
    "from sklearn.feature_extraction.text import CountVectorizer\n",
    "from nltk.tokenize import casual_tokenize\n",
    "from nltk.tokenize import TweetTokenizer\n",
    "from nltk.stem import WordNetLemmatizer\n",
    "from nltk.corpus import wordnet\n",
    "# Word Embeddings\n",
    "import gensim\n",
    "print(f'gensim: {gensim.__version__}')\n",
    "# Emoji analysis and language detection\n",
    "from spacymoji import Emoji\n",
    "import spacy_cld\n",
    "# Cool progress bars\n",
    "from tqdm import tqdm_notebook as tqdm\n",
    "tqdm().pandas()  # Enable tracking of execution progress\n",
    "# For loading and saving objects\n",
    "import pickle"
   ]
  },
  {
   "cell_type": "code",
   "execution_count": 7,
   "metadata": {},
   "outputs": [
    {
     "name": "stdout",
     "output_type": "stream",
     "text": [
      "Embeddings.ipynb                     processed_X_train.pkl\r\n",
      "Natural Language Understanding.ipynb ten_clust.csv\r\n",
      "\u001b[1m\u001b[36mdata\u001b[m\u001b[m                                 tests.py\r\n",
      "\u001b[1m\u001b[36mmatt_chatbot\u001b[m\u001b[m                         words_rank.csv\r\n",
      "processed_X_test.pkl                 words_rank_postprocessed.csv\r\n"
     ]
    }
   ],
   "source": [
    "!ls"
   ]
  },
  {
   "cell_type": "code",
   "execution_count": null,
   "metadata": {},
   "outputs": [],
   "source": [
    "# Loading in the data"
   ]
  },
  {
   "cell_type": "code",
   "execution_count": 8,
   "metadata": {},
   "outputs": [],
   "source": [
    "processed_X_train = pd.read_pickle('processed_X_train.pkl')\n",
    "processed_X_test = pd.read_pickle('processed_X_test.pkl')"
   ]
  },
  {
   "cell_type": "code",
   "execution_count": 9,
   "metadata": {},
   "outputs": [
    {
     "data": {
      "text/plain": [
       "38343    [ever, since, late, watch, o, update, get, not...\n",
       "26943    [work, apple, support, get, result, paid, deve...\n",
       "18403    [many, stupid, bug, new, update, ready, throw,...\n",
       "19883    [take, 7, plus, charger, get, ready, work, tim...\n",
       "87560    [log, itunes, account, lap-fucking-top, god, g...\n",
       "Name: inbound_text, dtype: object"
      ]
     },
     "execution_count": 9,
     "metadata": {},
     "output_type": "execute_result"
    }
   ],
   "source": [
    "processed_X_train.head()"
   ]
  },
  {
   "cell_type": "code",
   "execution_count": 10,
   "metadata": {},
   "outputs": [
    {
     "data": {
      "text/plain": [
       "39227    [possibile, save, photo, dropbox, photo, app, ...\n",
       "96901    [can, not, seem, make, genius, bar, appt, onli...\n",
       "32619    [swear, ..., 3rd, io, update, make, iphone, ba...\n",
       "71706    [phone, tell, wifi, password, network, wrong, ...\n",
       "478      [wire, thing, update, 6, gig, available, 10, k...\n",
       "Name: inbound_text, dtype: object"
      ]
     },
     "execution_count": 10,
     "metadata": {},
     "output_type": "execute_result"
    }
   ],
   "source": [
    "processed_X_test.head()"
   ]
  },
  {
   "cell_type": "markdown",
   "metadata": {},
   "source": [
    "# Doc2Vec Embedding"
   ]
  },
  {
   "cell_type": "markdown",
   "metadata": {},
   "source": [
    "Word2Vec uses Continuous Bag of Words, which creates a sliding window around each word to predict it from context (surrouding words), and the Skip Gram model.\n",
    "\n",
    "https://medium.com/wisio/a-gentle-introduction-to-doc2vec-db3e8c0cce5e"
   ]
  },
  {
   "cell_type": "code",
   "execution_count": 11,
   "metadata": {},
   "outputs": [],
   "source": [
    "from gensim.models.doc2vec import Doc2Vec, TaggedDocument"
   ]
  },
  {
   "cell_type": "code",
   "execution_count": 17,
   "metadata": {},
   "outputs": [],
   "source": [
    "data = processed_X_train.iloc[0]"
   ]
  },
  {
   "cell_type": "code",
   "execution_count": 19,
   "metadata": {},
   "outputs": [],
   "source": [
    "tagged_data = [TaggedDocument(words=word_tokenize(_d.lower()), tags=[str(i)]) for i, _d in enumerate(data)]"
   ]
  },
  {
   "cell_type": "code",
   "execution_count": 20,
   "metadata": {},
   "outputs": [
    {
     "data": {
      "text/plain": [
       "[TaggedDocument(words=['ever'], tags=['0']),\n",
       " TaggedDocument(words=['since'], tags=['1']),\n",
       " TaggedDocument(words=['late'], tags=['2']),\n",
       " TaggedDocument(words=['watch'], tags=['3']),\n",
       " TaggedDocument(words=['o'], tags=['4']),\n",
       " TaggedDocument(words=['update'], tags=['5']),\n",
       " TaggedDocument(words=['get'], tags=['6']),\n",
       " TaggedDocument(words=['notification'], tags=['7']),\n",
       " TaggedDocument(words=['mindfully'], tags=['8']),\n",
       " TaggedDocument(words=['breath'], tags=['9']),\n",
       " TaggedDocument(words=['get'], tags=['10']),\n",
       " TaggedDocument(words=['3'], tags=['11']),\n",
       " TaggedDocument(words=['5'], tags=['12']),\n",
       " TaggedDocument(words=['per'], tags=['13']),\n",
       " TaggedDocument(words=['day'], tags=['14']),\n",
       " TaggedDocument(words=['fix'], tags=['15'])]"
      ]
     },
     "execution_count": 20,
     "metadata": {},
     "output_type": "execute_result"
    }
   ],
   "source": [
    "tagged_data"
   ]
  },
  {
   "cell_type": "markdown",
   "metadata": {},
   "source": [
    "Now that the tagging is finished, let's start training our model!"
   ]
  },
  {
   "cell_type": "code",
   "execution_count": 21,
   "metadata": {
    "scrolled": true
   },
   "outputs": [
    {
     "name": "stderr",
     "output_type": "stream",
     "text": [
      "/opt/anaconda3/envs/capstone/lib/python3.7/site-packages/gensim/models/doc2vec.py:574: UserWarning: The parameter `size` is deprecated, will be removed in 4.0.0, use `vector_size` instead.\n",
      "  warnings.warn(\"The parameter `size` is deprecated, will be removed in 4.0.0, use `vector_size` instead.\")\n",
      "/opt/anaconda3/envs/capstone/lib/python3.7/site-packages/ipykernel_launcher.py:17: DeprecationWarning: Call to deprecated `iter` (Attribute will be removed in 4.0.0, use self.epochs instead).\n"
     ]
    },
    {
     "name": "stdout",
     "output_type": "stream",
     "text": [
      "iteration 0\n",
      "iteration 1\n",
      "iteration 2\n",
      "iteration 3\n",
      "iteration 4\n",
      "iteration 5\n",
      "iteration 6\n",
      "iteration 7\n",
      "iteration 8\n",
      "iteration 9\n",
      "iteration 10\n",
      "iteration 11\n",
      "iteration 12\n",
      "iteration 13\n",
      "iteration 14\n",
      "iteration 15\n",
      "iteration 16\n",
      "iteration 17\n",
      "iteration 18\n",
      "iteration 19\n",
      "iteration 20\n",
      "iteration 21\n",
      "iteration 22\n",
      "iteration 23\n",
      "iteration 24\n",
      "iteration 25\n",
      "iteration 26\n",
      "iteration 27\n",
      "iteration 28\n",
      "iteration 29\n",
      "iteration 30\n",
      "iteration 31\n",
      "iteration 32\n",
      "iteration 33\n",
      "iteration 34\n",
      "iteration 35\n",
      "iteration 36\n",
      "iteration 37\n",
      "iteration 38\n",
      "iteration 39\n",
      "iteration 40\n",
      "iteration 41\n",
      "iteration 42\n",
      "iteration 43\n",
      "iteration 44\n",
      "iteration 45\n",
      "iteration 46\n",
      "iteration 47\n",
      "iteration 48\n",
      "iteration 49\n",
      "iteration 50\n",
      "iteration 51\n",
      "iteration 52\n",
      "iteration 53\n",
      "iteration 54\n",
      "iteration 55\n",
      "iteration 56\n",
      "iteration 57\n",
      "iteration 58\n",
      "iteration 59\n",
      "iteration 60\n",
      "iteration 61\n",
      "iteration 62\n",
      "iteration 63\n",
      "iteration 64\n",
      "iteration 65\n",
      "iteration 66\n",
      "iteration 67\n",
      "iteration 68\n",
      "iteration 69\n",
      "iteration 70\n",
      "iteration 71\n",
      "iteration 72\n",
      "iteration 73\n",
      "iteration 74\n",
      "iteration 75\n",
      "iteration 76\n",
      "iteration 77\n",
      "iteration 78\n",
      "iteration 79\n",
      "iteration 80\n",
      "iteration 81\n",
      "iteration 82\n",
      "iteration 83\n",
      "iteration 84\n",
      "iteration 85\n",
      "iteration 86\n",
      "iteration 87\n",
      "iteration 88\n",
      "iteration 89\n",
      "iteration 90\n",
      "iteration 91\n",
      "iteration 92\n",
      "iteration 93\n",
      "iteration 94\n",
      "iteration 95\n",
      "iteration 96\n",
      "iteration 97\n",
      "iteration 98\n",
      "iteration 99\n",
      "Model Saved\n"
     ]
    }
   ],
   "source": [
    "max_epochs = 100\n",
    "vec_size = 20\n",
    "alpha = 0.025\n",
    "\n",
    "model = Doc2Vec(size=vec_size, \n",
    "                alpha=alpha, \n",
    "                min_alpha=0.00025,\n",
    "                min_count=1,\n",
    "                dm =1)\n",
    "  \n",
    "model.build_vocab(tagged_data)\n",
    "\n",
    "for epoch in range(max_epochs):\n",
    "    print('iteration {0}'.format(epoch))\n",
    "    model.train(tagged_data,\n",
    "                total_examples=model.corpus_count,\n",
    "                epochs=model.iter)\n",
    "    # Decrease the learning rate\n",
    "    model.alpha -= 0.0002\n",
    "    # Fix the learning rate, no decay\n",
    "    model.min_alpha = model.alpha\n",
    "\n",
    "model.save(\"d2v.model\")\n",
    "print(\"Model Saved\")"
   ]
  },
  {
   "cell_type": "code",
   "execution_count": null,
   "metadata": {},
   "outputs": [],
   "source": [
    "model= Doc2Vec.load(\"d2v.model\")\n",
    "#to find the vector of a document which is not in training data\n",
    "test_data = word_tokenize(\"I love chatbots\".lower())\n",
    "v1 = model.infer_vector(test_data)\n",
    "print(\"V1_infer\", v1)\n",
    "\n",
    "# to find most similar doc using tags\n",
    "similar_doc = model.docvecs.most_similar('1')\n",
    "print(similar_doc)"
   ]
  },
  {
   "cell_type": "code",
   "execution_count": 31,
   "metadata": {},
   "outputs": [
    {
     "data": {
      "text/plain": [
       "array([ 0.00853298, -0.02657316,  0.02473178, -0.00826399, -0.01995665,\n",
       "        0.01941   , -0.00422948,  0.02943846, -0.00559517,  0.0094566 ,\n",
       "       -0.03073188,  0.01469939, -0.0368831 ,  0.013537  ,  0.01832891,\n",
       "        0.02808696,  0.01232831, -0.02331029, -0.02963574,  0.02320767],\n",
       "      dtype=float32)"
      ]
     },
     "execution_count": 31,
     "metadata": {},
     "output_type": "execute_result"
    }
   ],
   "source": [
    "# to find vector of doc in training data using tags or in other words, printing the vector of document at index 1 in training data\n",
    "model.docvecs['1']"
   ]
  },
  {
   "cell_type": "markdown",
   "metadata": {},
   "source": [
    "# Continue this tomorrow with Govind"
   ]
  },
  {
   "cell_type": "code",
   "execution_count": 38,
   "metadata": {},
   "outputs": [
    {
     "name": "stdout",
     "output_type": "stream",
     "text": [
      "labels_grand.pkl      processed_X_train.pkl\r\n",
      "processed_X_test.pkl  wcss-kmeans.pkl\r\n"
     ]
    }
   ],
   "source": [
    "!ls objects"
   ]
  },
  {
   "cell_type": "code",
   "execution_count": 39,
   "metadata": {},
   "outputs": [],
   "source": [
    "with open('objects/wcss-kmeans.pkl', 'rb') as handle:\n",
    "    wcss_grand = pickle.load(handle)\n",
    "with open('objects/labels_grand.pkl','rb') as handle:\n",
    "    labels_grand = pickle.load(handle)"
   ]
  },
  {
   "cell_type": "code",
   "execution_count": 37,
   "metadata": {},
   "outputs": [
    {
     "data": {
      "text/plain": [
       "{'X_train_cv_wcss': [530645.972276302,\n",
       "  515872.56591591635,\n",
       "  506263.25096308935,\n",
       "  499273.0325938495,\n",
       "  494721.5635948987,\n",
       "  490252.59452755644,\n",
       "  485571.38124904723,\n",
       "  483391.18722595525,\n",
       "  480814.251332943,\n",
       "  478320.6774778482],\n",
       " 'X_train_tfidf_wcss': [51187.78134353667,\n",
       "  50629.84828632547,\n",
       "  50215.28652104986,\n",
       "  49864.89596652504,\n",
       "  49569.48339937552,\n",
       "  49331.49470316796,\n",
       "  49092.011408560604,\n",
       "  48905.286083337814,\n",
       "  48707.45932094955,\n",
       "  48543.9464381612]}"
      ]
     },
     "execution_count": 37,
     "metadata": {},
     "output_type": "execute_result"
    }
   ],
   "source": [
    "wcss_grand"
   ]
  },
  {
   "cell_type": "code",
   "execution_count": 40,
   "metadata": {},
   "outputs": [
    {
     "data": {
      "text/plain": [
       "{'X_train_cv_labels': [array([3, 0, 8, ..., 0, 7, 4], dtype=int32),\n",
       "  array([ 0, 15, 13, ..., 15,  1, 12], dtype=int32),\n",
       "  array([26, 16, 25, ..., 14,  2, 13], dtype=int32),\n",
       "  array([ 3,  8, 19, ...,  8, 32,  2], dtype=int32),\n",
       "  array([ 3,  8, 19, ...,  8, 32, 28], dtype=int32),\n",
       "  array([35, 11,  2, ..., 46, 36, 59], dtype=int32),\n",
       "  array([35, 11,  2, ..., 46, 36, 59], dtype=int32),\n",
       "  array([15, 11,  2, ..., 46, 36, 59], dtype=int32),\n",
       "  array([ 3, 54, 16, ..., 60, 67, 46], dtype=int32),\n",
       "  array([ 3, 54, 90, ..., 60, 67, 46], dtype=int32)],\n",
       " 'X_train_tfidf_labels': [array([8, 4, 3, ..., 4, 3, 1], dtype=int32),\n",
       "  array([ 8, 14,  1, ...,  4,  1, 17], dtype=int32),\n",
       "  array([ 4, 14, 21, ..., 28, 21, 11], dtype=int32),\n",
       "  array([26, 21, 29, ..., 28, 20, 38], dtype=int32),\n",
       "  array([49, 14, 25, ..., 15, 48, 11], dtype=int32),\n",
       "  array([37, 36, 54, ...,  5, 50, 38], dtype=int32),\n",
       "  array([37, 36, 54, ..., 67, 43, 38], dtype=int32),\n",
       "  array([ 0,  7, 77, ..., 22, 72, 19], dtype=int32),\n",
       "  array([80, 36, 54, ..., 67, 74, 34], dtype=int32),\n",
       "  array([17, 43, 69, ..., 20, 24, 58], dtype=int32)]}"
      ]
     },
     "execution_count": 40,
     "metadata": {},
     "output_type": "execute_result"
    }
   ],
   "source": [
    "labels_grand"
   ]
  },
  {
   "cell_type": "markdown",
   "metadata": {},
   "source": [
    "# DBSCAN\n",
    "Density-based spatial clustering of applications with noise.\n",
    "\n",
    "1. Choose a point at random\n",
    "2. If that point is connected to greater than n points within d distance, it is a core sample. If not, it is classed as noise, and another point is chosen\n",
    "3. Assign it, and all points within d distance as belonging to cluster x\n",
    "4. Check all points just marked 0 if any are core cluseters, repeat step 3-4"
   ]
  },
  {
   "cell_type": "code",
   "execution_count": null,
   "metadata": {},
   "outputs": [],
   "source": [
    "scaler = StandardScaler()\n",
    "scaler.fit()\n",
    "X = scaler.transform()"
   ]
  },
  {
   "cell_type": "code",
   "execution_count": null,
   "metadata": {},
   "outputs": [],
   "source": [
    "for e in [0.05, 0.1, 0.3, 0.5, 0.75, 1, 3, 5]:\n",
    "    \n",
    "    # Instantiate DBSAN object\n",
    "    my_dbscan = DBSCAN(eps = e, min_samples = 5)\n",
    "    my_dbscan.fit(X)\n",
    "    \n",
    "    # Count up number of noise points\n",
    "    n_noise = np.sum(my_dbscan.labels_ < 0)\n",
    "    \n",
    "    # Plot out the points colored by label\n",
    "    plt.figure()\n",
    "    plt.scatter(c = my_dbscan.labels_)\n",
    "    plt.title(f'Clusters with eps={e}, {n_noise} noise points')\n",
    "    plt.show()"
   ]
  },
  {
   "cell_type": "markdown",
   "metadata": {},
   "source": [
    "# LDA Topic Modelling\n",
    "\n",
    "https://medium.com/nanonets/topic-modeling-with-lsa-psla-lda-and-lda2vec-555ff65b0b05"
   ]
  },
  {
   "cell_type": "markdown",
   "metadata": {},
   "source": [
    "# LDA2VEC \n",
    "A newer, deep-learning based approach"
   ]
  },
  {
   "cell_type": "code",
   "execution_count": null,
   "metadata": {},
   "outputs": [],
   "source": []
  }
 ],
 "metadata": {
  "kernelspec": {
   "display_name": "capstone",
   "language": "python",
   "name": "capstone"
  },
  "language_info": {
   "codemirror_mode": {
    "name": "ipython",
    "version": 3
   },
   "file_extension": ".py",
   "mimetype": "text/x-python",
   "name": "python",
   "nbconvert_exporter": "python",
   "pygments_lexer": "ipython3",
   "version": "3.7.6"
  }
 },
 "nbformat": 4,
 "nbformat_minor": 4
}
